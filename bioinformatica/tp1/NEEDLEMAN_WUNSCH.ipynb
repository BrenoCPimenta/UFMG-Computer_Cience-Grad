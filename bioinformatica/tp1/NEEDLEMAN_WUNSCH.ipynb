{
  "nbformat": 4,
  "nbformat_minor": 0,
  "metadata": {
    "colab": {
      "name": "TP1_Bioinfo_v4.ipynb",
      "provenance": [],
      "collapsed_sections": []
    },
    "kernelspec": {
      "display_name": "Python 3",
      "language": "python",
      "name": "python3"
    },
    "language_info": {
      "codemirror_mode": {
        "name": "ipython",
        "version": 3
      },
      "file_extension": ".py",
      "mimetype": "text/x-python",
      "name": "python",
      "nbconvert_exporter": "python",
      "pygments_lexer": "ipython3",
      "version": "3.7.3"
    }
  },
  "cells": [
    {
      "cell_type": "markdown",
      "metadata": {
        "id": "QioEWVcZXX2Y"
      },
      "source": [
        "# Trabalho Prático 01 - ALINHAMENTO DE SEQUÊNCIAS \n",
        "\n",
        "### Grupo:\n",
        "* Alessandra Gomes Cioletti 2020730930\n",
        "* Breno de Castro Pimenta 2017114809\n",
        "* Daniel Victor Ferreira da Silva 2019006523\n",
        "* Larissa Aline Fenandes Vieira 2019006868\n",
        "* Vitor Pimentel dos Santos 2019021840\n"
      ]
    },
    {
      "cell_type": "markdown",
      "metadata": {
        "id": "8lWR8MLhYcqL"
      },
      "source": [
        "## Implemtação Needleman-Wunsch\n",
        "\n",
        "### Matriz:\n",
        "Inicialmente geramos uma matriz utilizando duas sequências de entrada, uma sequência A para as linhas e uma sequência B para as colunas, além do valor absoluto da penalida do indel (gaps).<br>\n",
        "Inicia-se o preenchimento a partir da primeira linha e coluna, onde são preenchidas com a subtração sucessiva do valor do indel.<br>\n",
        "Em seguida preenche-se o resto da matriz obedecendo a seguinte lógica, dividimos as penalidades entre matches/mismatches e indels:\n",
        "* **matches/mismatches**: utilizamos a a matriz *blosum62*, ou seja, verificamos os aminoácidos da coluna e linha da matriz e obtemos uma pontuação.\n",
        "* **indels**: como explicado anteriormente, subtrai-se o valor específicado.\n",
        "\n",
        "A partir dessas penalidades, para calcular o valor de uma célula comparamos o valor da célula na diagonal superior esquerda somada ao valor da blosum com os valores das células superior e à esquerda somados ao indel, atribuindo o maior valor à célula analizada. <br>Junto a este valor armazenamos na matriz um símbolo a cada célula para representar de onde veio o maior valor armazenado, o qual vamos utilizar ao final do processo para gerar o alinhamento.\n",
        "<br><br>\n",
        "\n",
        "### Alinhamento:\n",
        "Para gerar o alinhamento partimos do sumidouro e percorremos a matriz em direção a origem percorrendo o caminho sinzalizado em cada célula. Realizamos as seguintes operações de acordo com o símbolo:<br>\n",
        "\n",
        "* \"\\\\\": Deve registrar no início do alinhamento B (coluna) o aminoácido da sequência B na posição atual e no início do alinhamento A (linha) o aminoácido da sequência A na posição atual.\n",
        "\n",
        "* \"\\-\" : Deve registrar no início do alinhamento B (coluna) o aminoácido da sequência B na posição atual e no início do alinhamento A é registrado o símbolo de gap.\n",
        "\n",
        "* \"|\" : Deve registrar no início do alinhamento A (linha) o aminoácido da sequência A na posição atual e no início do alinhamento B é registrado o símbolo de gap.\n",
        "\n",
        "Ao chegar na origem da matriz obtemos os dois alinhamentos pelo método de Needleman-Wunsch para as duas sequências de entrada.\n",
        "<br>\n",
        "<br>\n",
        "\n",
        "### Visualização:\n",
        "A visualização foi feita com o auxílio da biblioteca [dash-bio do plotly](https://dash.plotly.com/dash-bio), com o qual geramos como saída uma extensão html com a visualização dos alinhamentos por partes.\n",
        "\n",
        "\n"
      ]
    },
    {
      "cell_type": "markdown",
      "metadata": {
        "id": "O5eMU_zWlwAn"
      },
      "source": [
        "# Código:"
      ]
    },
    {
      "cell_type": "code",
      "metadata": {
        "id": "4LWtK837OwlU"
      },
      "source": [
        "import pandas as pd\n",
        "import numpy as np"
      ],
      "execution_count": null,
      "outputs": []
    },
    {
      "cell_type": "code",
      "metadata": {
        "id": "0glGC1XQfEXA"
      },
      "source": [
        "!pip install dash\n",
        "!pip install dash_bio"
      ],
      "execution_count": null,
      "outputs": []
    },
    {
      "cell_type": "code",
      "metadata": {
        "id": "hlg4Yfhu1lZr"
      },
      "source": [
        "from requests import get\n",
        "\n",
        "import dash\n",
        "import dash_bio as dashbio\n",
        "import dash_html_components as html\n",
        "#from Bio.Blast.Applications import NcbiblastxCommandline\n",
        "\n",
        "from IPython.display import Image"
      ],
      "execution_count": null,
      "outputs": []
    },
    {
      "cell_type": "markdown",
      "metadata": {
        "id": "3AQxSW5Kl1c-"
      },
      "source": [
        "### Buscando blosum como arquivo local:"
      ]
    },
    {
      "cell_type": "code",
      "metadata": {
        "colab": {
          "base_uri": "https://localhost:8080/",
          "height": 802
        },
        "id": "QMvHvU8rOwla",
        "scrolled": false,
        "outputId": "c0bf8817-bc72-4568-8ca5-bc2c30768cf9"
      },
      "source": [
        "blosum = pd.read_csv('blosum62',delim_whitespace=True,skiprows=6)\n",
        "blosum"
      ],
      "execution_count": null,
      "outputs": [
        {
          "output_type": "execute_result",
          "data": {
            "text/html": [
              "<div>\n",
              "<style scoped>\n",
              "    .dataframe tbody tr th:only-of-type {\n",
              "        vertical-align: middle;\n",
              "    }\n",
              "\n",
              "    .dataframe tbody tr th {\n",
              "        vertical-align: top;\n",
              "    }\n",
              "\n",
              "    .dataframe thead th {\n",
              "        text-align: right;\n",
              "    }\n",
              "</style>\n",
              "<table border=\"1\" class=\"dataframe\">\n",
              "  <thead>\n",
              "    <tr style=\"text-align: right;\">\n",
              "      <th></th>\n",
              "      <th>A</th>\n",
              "      <th>R</th>\n",
              "      <th>N</th>\n",
              "      <th>D</th>\n",
              "      <th>C</th>\n",
              "      <th>Q</th>\n",
              "      <th>E</th>\n",
              "      <th>G</th>\n",
              "      <th>H</th>\n",
              "      <th>I</th>\n",
              "      <th>...</th>\n",
              "      <th>P</th>\n",
              "      <th>S</th>\n",
              "      <th>T</th>\n",
              "      <th>W</th>\n",
              "      <th>Y</th>\n",
              "      <th>V</th>\n",
              "      <th>B</th>\n",
              "      <th>Z</th>\n",
              "      <th>X</th>\n",
              "      <th>*</th>\n",
              "    </tr>\n",
              "  </thead>\n",
              "  <tbody>\n",
              "    <tr>\n",
              "      <th>A</th>\n",
              "      <td>4</td>\n",
              "      <td>-1</td>\n",
              "      <td>-2</td>\n",
              "      <td>-2</td>\n",
              "      <td>0</td>\n",
              "      <td>-1</td>\n",
              "      <td>-1</td>\n",
              "      <td>0</td>\n",
              "      <td>-2</td>\n",
              "      <td>-1</td>\n",
              "      <td>...</td>\n",
              "      <td>-1</td>\n",
              "      <td>1</td>\n",
              "      <td>0</td>\n",
              "      <td>-3</td>\n",
              "      <td>-2</td>\n",
              "      <td>0</td>\n",
              "      <td>-2</td>\n",
              "      <td>-1</td>\n",
              "      <td>0</td>\n",
              "      <td>-4</td>\n",
              "    </tr>\n",
              "    <tr>\n",
              "      <th>R</th>\n",
              "      <td>-1</td>\n",
              "      <td>5</td>\n",
              "      <td>0</td>\n",
              "      <td>-2</td>\n",
              "      <td>-3</td>\n",
              "      <td>1</td>\n",
              "      <td>0</td>\n",
              "      <td>-2</td>\n",
              "      <td>0</td>\n",
              "      <td>-3</td>\n",
              "      <td>...</td>\n",
              "      <td>-2</td>\n",
              "      <td>-1</td>\n",
              "      <td>-1</td>\n",
              "      <td>-3</td>\n",
              "      <td>-2</td>\n",
              "      <td>-3</td>\n",
              "      <td>-1</td>\n",
              "      <td>0</td>\n",
              "      <td>-1</td>\n",
              "      <td>-4</td>\n",
              "    </tr>\n",
              "    <tr>\n",
              "      <th>N</th>\n",
              "      <td>-2</td>\n",
              "      <td>0</td>\n",
              "      <td>6</td>\n",
              "      <td>1</td>\n",
              "      <td>-3</td>\n",
              "      <td>0</td>\n",
              "      <td>0</td>\n",
              "      <td>0</td>\n",
              "      <td>1</td>\n",
              "      <td>-3</td>\n",
              "      <td>...</td>\n",
              "      <td>-2</td>\n",
              "      <td>1</td>\n",
              "      <td>0</td>\n",
              "      <td>-4</td>\n",
              "      <td>-2</td>\n",
              "      <td>-3</td>\n",
              "      <td>3</td>\n",
              "      <td>0</td>\n",
              "      <td>-1</td>\n",
              "      <td>-4</td>\n",
              "    </tr>\n",
              "    <tr>\n",
              "      <th>D</th>\n",
              "      <td>-2</td>\n",
              "      <td>-2</td>\n",
              "      <td>1</td>\n",
              "      <td>6</td>\n",
              "      <td>-3</td>\n",
              "      <td>0</td>\n",
              "      <td>2</td>\n",
              "      <td>-1</td>\n",
              "      <td>-1</td>\n",
              "      <td>-3</td>\n",
              "      <td>...</td>\n",
              "      <td>-1</td>\n",
              "      <td>0</td>\n",
              "      <td>-1</td>\n",
              "      <td>-4</td>\n",
              "      <td>-3</td>\n",
              "      <td>-3</td>\n",
              "      <td>4</td>\n",
              "      <td>1</td>\n",
              "      <td>-1</td>\n",
              "      <td>-4</td>\n",
              "    </tr>\n",
              "    <tr>\n",
              "      <th>C</th>\n",
              "      <td>0</td>\n",
              "      <td>-3</td>\n",
              "      <td>-3</td>\n",
              "      <td>-3</td>\n",
              "      <td>9</td>\n",
              "      <td>-3</td>\n",
              "      <td>-4</td>\n",
              "      <td>-3</td>\n",
              "      <td>-3</td>\n",
              "      <td>-1</td>\n",
              "      <td>...</td>\n",
              "      <td>-3</td>\n",
              "      <td>-1</td>\n",
              "      <td>-1</td>\n",
              "      <td>-2</td>\n",
              "      <td>-2</td>\n",
              "      <td>-1</td>\n",
              "      <td>-3</td>\n",
              "      <td>-3</td>\n",
              "      <td>-2</td>\n",
              "      <td>-4</td>\n",
              "    </tr>\n",
              "    <tr>\n",
              "      <th>Q</th>\n",
              "      <td>-1</td>\n",
              "      <td>1</td>\n",
              "      <td>0</td>\n",
              "      <td>0</td>\n",
              "      <td>-3</td>\n",
              "      <td>5</td>\n",
              "      <td>2</td>\n",
              "      <td>-2</td>\n",
              "      <td>0</td>\n",
              "      <td>-3</td>\n",
              "      <td>...</td>\n",
              "      <td>-1</td>\n",
              "      <td>0</td>\n",
              "      <td>-1</td>\n",
              "      <td>-2</td>\n",
              "      <td>-1</td>\n",
              "      <td>-2</td>\n",
              "      <td>0</td>\n",
              "      <td>3</td>\n",
              "      <td>-1</td>\n",
              "      <td>-4</td>\n",
              "    </tr>\n",
              "    <tr>\n",
              "      <th>E</th>\n",
              "      <td>-1</td>\n",
              "      <td>0</td>\n",
              "      <td>0</td>\n",
              "      <td>2</td>\n",
              "      <td>-4</td>\n",
              "      <td>2</td>\n",
              "      <td>5</td>\n",
              "      <td>-2</td>\n",
              "      <td>0</td>\n",
              "      <td>-3</td>\n",
              "      <td>...</td>\n",
              "      <td>-1</td>\n",
              "      <td>0</td>\n",
              "      <td>-1</td>\n",
              "      <td>-3</td>\n",
              "      <td>-2</td>\n",
              "      <td>-2</td>\n",
              "      <td>1</td>\n",
              "      <td>4</td>\n",
              "      <td>-1</td>\n",
              "      <td>-4</td>\n",
              "    </tr>\n",
              "    <tr>\n",
              "      <th>G</th>\n",
              "      <td>0</td>\n",
              "      <td>-2</td>\n",
              "      <td>0</td>\n",
              "      <td>-1</td>\n",
              "      <td>-3</td>\n",
              "      <td>-2</td>\n",
              "      <td>-2</td>\n",
              "      <td>6</td>\n",
              "      <td>-2</td>\n",
              "      <td>-4</td>\n",
              "      <td>...</td>\n",
              "      <td>-2</td>\n",
              "      <td>0</td>\n",
              "      <td>-2</td>\n",
              "      <td>-2</td>\n",
              "      <td>-3</td>\n",
              "      <td>-3</td>\n",
              "      <td>-1</td>\n",
              "      <td>-2</td>\n",
              "      <td>-1</td>\n",
              "      <td>-4</td>\n",
              "    </tr>\n",
              "    <tr>\n",
              "      <th>H</th>\n",
              "      <td>-2</td>\n",
              "      <td>0</td>\n",
              "      <td>1</td>\n",
              "      <td>-1</td>\n",
              "      <td>-3</td>\n",
              "      <td>0</td>\n",
              "      <td>0</td>\n",
              "      <td>-2</td>\n",
              "      <td>8</td>\n",
              "      <td>-3</td>\n",
              "      <td>...</td>\n",
              "      <td>-2</td>\n",
              "      <td>-1</td>\n",
              "      <td>-2</td>\n",
              "      <td>-2</td>\n",
              "      <td>2</td>\n",
              "      <td>-3</td>\n",
              "      <td>0</td>\n",
              "      <td>0</td>\n",
              "      <td>-1</td>\n",
              "      <td>-4</td>\n",
              "    </tr>\n",
              "    <tr>\n",
              "      <th>I</th>\n",
              "      <td>-1</td>\n",
              "      <td>-3</td>\n",
              "      <td>-3</td>\n",
              "      <td>-3</td>\n",
              "      <td>-1</td>\n",
              "      <td>-3</td>\n",
              "      <td>-3</td>\n",
              "      <td>-4</td>\n",
              "      <td>-3</td>\n",
              "      <td>4</td>\n",
              "      <td>...</td>\n",
              "      <td>-3</td>\n",
              "      <td>-2</td>\n",
              "      <td>-1</td>\n",
              "      <td>-3</td>\n",
              "      <td>-1</td>\n",
              "      <td>3</td>\n",
              "      <td>-3</td>\n",
              "      <td>-3</td>\n",
              "      <td>-1</td>\n",
              "      <td>-4</td>\n",
              "    </tr>\n",
              "    <tr>\n",
              "      <th>L</th>\n",
              "      <td>-1</td>\n",
              "      <td>-2</td>\n",
              "      <td>-3</td>\n",
              "      <td>-4</td>\n",
              "      <td>-1</td>\n",
              "      <td>-2</td>\n",
              "      <td>-3</td>\n",
              "      <td>-4</td>\n",
              "      <td>-3</td>\n",
              "      <td>2</td>\n",
              "      <td>...</td>\n",
              "      <td>-3</td>\n",
              "      <td>-2</td>\n",
              "      <td>-1</td>\n",
              "      <td>-2</td>\n",
              "      <td>-1</td>\n",
              "      <td>1</td>\n",
              "      <td>-4</td>\n",
              "      <td>-3</td>\n",
              "      <td>-1</td>\n",
              "      <td>-4</td>\n",
              "    </tr>\n",
              "    <tr>\n",
              "      <th>K</th>\n",
              "      <td>-1</td>\n",
              "      <td>2</td>\n",
              "      <td>0</td>\n",
              "      <td>-1</td>\n",
              "      <td>-3</td>\n",
              "      <td>1</td>\n",
              "      <td>1</td>\n",
              "      <td>-2</td>\n",
              "      <td>-1</td>\n",
              "      <td>-3</td>\n",
              "      <td>...</td>\n",
              "      <td>-1</td>\n",
              "      <td>0</td>\n",
              "      <td>-1</td>\n",
              "      <td>-3</td>\n",
              "      <td>-2</td>\n",
              "      <td>-2</td>\n",
              "      <td>0</td>\n",
              "      <td>1</td>\n",
              "      <td>-1</td>\n",
              "      <td>-4</td>\n",
              "    </tr>\n",
              "    <tr>\n",
              "      <th>M</th>\n",
              "      <td>-1</td>\n",
              "      <td>-1</td>\n",
              "      <td>-2</td>\n",
              "      <td>-3</td>\n",
              "      <td>-1</td>\n",
              "      <td>0</td>\n",
              "      <td>-2</td>\n",
              "      <td>-3</td>\n",
              "      <td>-2</td>\n",
              "      <td>1</td>\n",
              "      <td>...</td>\n",
              "      <td>-2</td>\n",
              "      <td>-1</td>\n",
              "      <td>-1</td>\n",
              "      <td>-1</td>\n",
              "      <td>-1</td>\n",
              "      <td>1</td>\n",
              "      <td>-3</td>\n",
              "      <td>-1</td>\n",
              "      <td>-1</td>\n",
              "      <td>-4</td>\n",
              "    </tr>\n",
              "    <tr>\n",
              "      <th>F</th>\n",
              "      <td>-2</td>\n",
              "      <td>-3</td>\n",
              "      <td>-3</td>\n",
              "      <td>-3</td>\n",
              "      <td>-2</td>\n",
              "      <td>-3</td>\n",
              "      <td>-3</td>\n",
              "      <td>-3</td>\n",
              "      <td>-1</td>\n",
              "      <td>0</td>\n",
              "      <td>...</td>\n",
              "      <td>-4</td>\n",
              "      <td>-2</td>\n",
              "      <td>-2</td>\n",
              "      <td>1</td>\n",
              "      <td>3</td>\n",
              "      <td>-1</td>\n",
              "      <td>-3</td>\n",
              "      <td>-3</td>\n",
              "      <td>-1</td>\n",
              "      <td>-4</td>\n",
              "    </tr>\n",
              "    <tr>\n",
              "      <th>P</th>\n",
              "      <td>-1</td>\n",
              "      <td>-2</td>\n",
              "      <td>-2</td>\n",
              "      <td>-1</td>\n",
              "      <td>-3</td>\n",
              "      <td>-1</td>\n",
              "      <td>-1</td>\n",
              "      <td>-2</td>\n",
              "      <td>-2</td>\n",
              "      <td>-3</td>\n",
              "      <td>...</td>\n",
              "      <td>7</td>\n",
              "      <td>-1</td>\n",
              "      <td>-1</td>\n",
              "      <td>-4</td>\n",
              "      <td>-3</td>\n",
              "      <td>-2</td>\n",
              "      <td>-2</td>\n",
              "      <td>-1</td>\n",
              "      <td>-2</td>\n",
              "      <td>-4</td>\n",
              "    </tr>\n",
              "    <tr>\n",
              "      <th>S</th>\n",
              "      <td>1</td>\n",
              "      <td>-1</td>\n",
              "      <td>1</td>\n",
              "      <td>0</td>\n",
              "      <td>-1</td>\n",
              "      <td>0</td>\n",
              "      <td>0</td>\n",
              "      <td>0</td>\n",
              "      <td>-1</td>\n",
              "      <td>-2</td>\n",
              "      <td>...</td>\n",
              "      <td>-1</td>\n",
              "      <td>4</td>\n",
              "      <td>1</td>\n",
              "      <td>-3</td>\n",
              "      <td>-2</td>\n",
              "      <td>-2</td>\n",
              "      <td>0</td>\n",
              "      <td>0</td>\n",
              "      <td>0</td>\n",
              "      <td>-4</td>\n",
              "    </tr>\n",
              "    <tr>\n",
              "      <th>T</th>\n",
              "      <td>0</td>\n",
              "      <td>-1</td>\n",
              "      <td>0</td>\n",
              "      <td>-1</td>\n",
              "      <td>-1</td>\n",
              "      <td>-1</td>\n",
              "      <td>-1</td>\n",
              "      <td>-2</td>\n",
              "      <td>-2</td>\n",
              "      <td>-1</td>\n",
              "      <td>...</td>\n",
              "      <td>-1</td>\n",
              "      <td>1</td>\n",
              "      <td>5</td>\n",
              "      <td>-2</td>\n",
              "      <td>-2</td>\n",
              "      <td>0</td>\n",
              "      <td>-1</td>\n",
              "      <td>-1</td>\n",
              "      <td>0</td>\n",
              "      <td>-4</td>\n",
              "    </tr>\n",
              "    <tr>\n",
              "      <th>W</th>\n",
              "      <td>-3</td>\n",
              "      <td>-3</td>\n",
              "      <td>-4</td>\n",
              "      <td>-4</td>\n",
              "      <td>-2</td>\n",
              "      <td>-2</td>\n",
              "      <td>-3</td>\n",
              "      <td>-2</td>\n",
              "      <td>-2</td>\n",
              "      <td>-3</td>\n",
              "      <td>...</td>\n",
              "      <td>-4</td>\n",
              "      <td>-3</td>\n",
              "      <td>-2</td>\n",
              "      <td>11</td>\n",
              "      <td>2</td>\n",
              "      <td>-3</td>\n",
              "      <td>-4</td>\n",
              "      <td>-3</td>\n",
              "      <td>-2</td>\n",
              "      <td>-4</td>\n",
              "    </tr>\n",
              "    <tr>\n",
              "      <th>Y</th>\n",
              "      <td>-2</td>\n",
              "      <td>-2</td>\n",
              "      <td>-2</td>\n",
              "      <td>-3</td>\n",
              "      <td>-2</td>\n",
              "      <td>-1</td>\n",
              "      <td>-2</td>\n",
              "      <td>-3</td>\n",
              "      <td>2</td>\n",
              "      <td>-1</td>\n",
              "      <td>...</td>\n",
              "      <td>-3</td>\n",
              "      <td>-2</td>\n",
              "      <td>-2</td>\n",
              "      <td>2</td>\n",
              "      <td>7</td>\n",
              "      <td>-1</td>\n",
              "      <td>-3</td>\n",
              "      <td>-2</td>\n",
              "      <td>-1</td>\n",
              "      <td>-4</td>\n",
              "    </tr>\n",
              "    <tr>\n",
              "      <th>V</th>\n",
              "      <td>0</td>\n",
              "      <td>-3</td>\n",
              "      <td>-3</td>\n",
              "      <td>-3</td>\n",
              "      <td>-1</td>\n",
              "      <td>-2</td>\n",
              "      <td>-2</td>\n",
              "      <td>-3</td>\n",
              "      <td>-3</td>\n",
              "      <td>3</td>\n",
              "      <td>...</td>\n",
              "      <td>-2</td>\n",
              "      <td>-2</td>\n",
              "      <td>0</td>\n",
              "      <td>-3</td>\n",
              "      <td>-1</td>\n",
              "      <td>4</td>\n",
              "      <td>-3</td>\n",
              "      <td>-2</td>\n",
              "      <td>-1</td>\n",
              "      <td>-4</td>\n",
              "    </tr>\n",
              "    <tr>\n",
              "      <th>B</th>\n",
              "      <td>-2</td>\n",
              "      <td>-1</td>\n",
              "      <td>3</td>\n",
              "      <td>4</td>\n",
              "      <td>-3</td>\n",
              "      <td>0</td>\n",
              "      <td>1</td>\n",
              "      <td>-1</td>\n",
              "      <td>0</td>\n",
              "      <td>-3</td>\n",
              "      <td>...</td>\n",
              "      <td>-2</td>\n",
              "      <td>0</td>\n",
              "      <td>-1</td>\n",
              "      <td>-4</td>\n",
              "      <td>-3</td>\n",
              "      <td>-3</td>\n",
              "      <td>4</td>\n",
              "      <td>1</td>\n",
              "      <td>-1</td>\n",
              "      <td>-4</td>\n",
              "    </tr>\n",
              "    <tr>\n",
              "      <th>Z</th>\n",
              "      <td>-1</td>\n",
              "      <td>0</td>\n",
              "      <td>0</td>\n",
              "      <td>1</td>\n",
              "      <td>-3</td>\n",
              "      <td>3</td>\n",
              "      <td>4</td>\n",
              "      <td>-2</td>\n",
              "      <td>0</td>\n",
              "      <td>-3</td>\n",
              "      <td>...</td>\n",
              "      <td>-1</td>\n",
              "      <td>0</td>\n",
              "      <td>-1</td>\n",
              "      <td>-3</td>\n",
              "      <td>-2</td>\n",
              "      <td>-2</td>\n",
              "      <td>1</td>\n",
              "      <td>4</td>\n",
              "      <td>-1</td>\n",
              "      <td>-4</td>\n",
              "    </tr>\n",
              "    <tr>\n",
              "      <th>X</th>\n",
              "      <td>0</td>\n",
              "      <td>-1</td>\n",
              "      <td>-1</td>\n",
              "      <td>-1</td>\n",
              "      <td>-2</td>\n",
              "      <td>-1</td>\n",
              "      <td>-1</td>\n",
              "      <td>-1</td>\n",
              "      <td>-1</td>\n",
              "      <td>-1</td>\n",
              "      <td>...</td>\n",
              "      <td>-2</td>\n",
              "      <td>0</td>\n",
              "      <td>0</td>\n",
              "      <td>-2</td>\n",
              "      <td>-1</td>\n",
              "      <td>-1</td>\n",
              "      <td>-1</td>\n",
              "      <td>-1</td>\n",
              "      <td>-1</td>\n",
              "      <td>-4</td>\n",
              "    </tr>\n",
              "    <tr>\n",
              "      <th>*</th>\n",
              "      <td>-4</td>\n",
              "      <td>-4</td>\n",
              "      <td>-4</td>\n",
              "      <td>-4</td>\n",
              "      <td>-4</td>\n",
              "      <td>-4</td>\n",
              "      <td>-4</td>\n",
              "      <td>-4</td>\n",
              "      <td>-4</td>\n",
              "      <td>-4</td>\n",
              "      <td>...</td>\n",
              "      <td>-4</td>\n",
              "      <td>-4</td>\n",
              "      <td>-4</td>\n",
              "      <td>-4</td>\n",
              "      <td>-4</td>\n",
              "      <td>-4</td>\n",
              "      <td>-4</td>\n",
              "      <td>-4</td>\n",
              "      <td>-4</td>\n",
              "      <td>1</td>\n",
              "    </tr>\n",
              "  </tbody>\n",
              "</table>\n",
              "<p>24 rows × 24 columns</p>\n",
              "</div>"
            ],
            "text/plain": [
              "   A  R  N  D  C  Q  E  G  H  I  ...  P  S  T   W  Y  V  B  Z  X  *\n",
              "A  4 -1 -2 -2  0 -1 -1  0 -2 -1  ... -1  1  0  -3 -2  0 -2 -1  0 -4\n",
              "R -1  5  0 -2 -3  1  0 -2  0 -3  ... -2 -1 -1  -3 -2 -3 -1  0 -1 -4\n",
              "N -2  0  6  1 -3  0  0  0  1 -3  ... -2  1  0  -4 -2 -3  3  0 -1 -4\n",
              "D -2 -2  1  6 -3  0  2 -1 -1 -3  ... -1  0 -1  -4 -3 -3  4  1 -1 -4\n",
              "C  0 -3 -3 -3  9 -3 -4 -3 -3 -1  ... -3 -1 -1  -2 -2 -1 -3 -3 -2 -4\n",
              "Q -1  1  0  0 -3  5  2 -2  0 -3  ... -1  0 -1  -2 -1 -2  0  3 -1 -4\n",
              "E -1  0  0  2 -4  2  5 -2  0 -3  ... -1  0 -1  -3 -2 -2  1  4 -1 -4\n",
              "G  0 -2  0 -1 -3 -2 -2  6 -2 -4  ... -2  0 -2  -2 -3 -3 -1 -2 -1 -4\n",
              "H -2  0  1 -1 -3  0  0 -2  8 -3  ... -2 -1 -2  -2  2 -3  0  0 -1 -4\n",
              "I -1 -3 -3 -3 -1 -3 -3 -4 -3  4  ... -3 -2 -1  -3 -1  3 -3 -3 -1 -4\n",
              "L -1 -2 -3 -4 -1 -2 -3 -4 -3  2  ... -3 -2 -1  -2 -1  1 -4 -3 -1 -4\n",
              "K -1  2  0 -1 -3  1  1 -2 -1 -3  ... -1  0 -1  -3 -2 -2  0  1 -1 -4\n",
              "M -1 -1 -2 -3 -1  0 -2 -3 -2  1  ... -2 -1 -1  -1 -1  1 -3 -1 -1 -4\n",
              "F -2 -3 -3 -3 -2 -3 -3 -3 -1  0  ... -4 -2 -2   1  3 -1 -3 -3 -1 -4\n",
              "P -1 -2 -2 -1 -3 -1 -1 -2 -2 -3  ...  7 -1 -1  -4 -3 -2 -2 -1 -2 -4\n",
              "S  1 -1  1  0 -1  0  0  0 -1 -2  ... -1  4  1  -3 -2 -2  0  0  0 -4\n",
              "T  0 -1  0 -1 -1 -1 -1 -2 -2 -1  ... -1  1  5  -2 -2  0 -1 -1  0 -4\n",
              "W -3 -3 -4 -4 -2 -2 -3 -2 -2 -3  ... -4 -3 -2  11  2 -3 -4 -3 -2 -4\n",
              "Y -2 -2 -2 -3 -2 -1 -2 -3  2 -1  ... -3 -2 -2   2  7 -1 -3 -2 -1 -4\n",
              "V  0 -3 -3 -3 -1 -2 -2 -3 -3  3  ... -2 -2  0  -3 -1  4 -3 -2 -1 -4\n",
              "B -2 -1  3  4 -3  0  1 -1  0 -3  ... -2  0 -1  -4 -3 -3  4  1 -1 -4\n",
              "Z -1  0  0  1 -3  3  4 -2  0 -3  ... -1  0 -1  -3 -2 -2  1  4 -1 -4\n",
              "X  0 -1 -1 -1 -2 -1 -1 -1 -1 -1  ... -2  0  0  -2 -1 -1 -1 -1 -1 -4\n",
              "* -4 -4 -4 -4 -4 -4 -4 -4 -4 -4  ... -4 -4 -4  -4 -4 -4 -4 -4 -4  1\n",
              "\n",
              "[24 rows x 24 columns]"
            ]
          },
          "metadata": {
            "tags": []
          },
          "execution_count": 41
        }
      ]
    },
    {
      "cell_type": "markdown",
      "metadata": {
        "id": "c3zk7_aTmJnI"
      },
      "source": [
        "### Lendo sequências dentro do arquivo fasta:"
      ]
    },
    {
      "cell_type": "code",
      "metadata": {
        "id": "T0JpQzv4Owlb"
      },
      "source": [
        "def read_seq(file):\n",
        "    with open(file,'r') as fopen:\n",
        "        sequencias = []\n",
        "        cabecalho = []\n",
        "        sequencia = ''\n",
        "        for line in fopen:\n",
        "            if(line[0] !='>'):\n",
        "                sequencia = sequencia + line[:-1]\n",
        "            else:\n",
        "                cabecalho.append(line)\n",
        "                sequencias.append(sequencia)\n",
        "                sequencia = ''\n",
        "        sequencias.append(sequencia)\n",
        "    return sequencias[1:],cabecalho\n",
        "\n",
        "def list_chars(sequencias):\n",
        "    '''\n",
        "    Adiciona asterisco no início de cada sequência\n",
        "    '''\n",
        "    for idx,val in enumerate(sequencias):\n",
        "        sequencias[idx] = ['*']+list(val)\n",
        "    return sequencias"
      ],
      "execution_count": null,
      "outputs": []
    },
    {
      "cell_type": "markdown",
      "metadata": {
        "id": "JX9DXOTymh-6"
      },
      "source": [
        "### Gerando a matriz:"
      ]
    },
    {
      "cell_type": "code",
      "metadata": {
        "id": "tP_Yi4pWOwle"
      },
      "source": [
        "def matriz_NW(a,b,M,indel):\n",
        "    '''\n",
        "    Preenche a matriz utilizando\n",
        "    os valores da blosum e do indel.\n",
        "    '''\n",
        "    if indel>0:\n",
        "        M.iloc[0] = tuple(zip(np.arange(0,-len(b)*indel,-indel),[\"_\"]*len(b)))\n",
        "        M[\"*\"] = tuple(zip(np.arange(0,-len(a)*indel,-indel),[\"|\"]*len(a)))\n",
        "    else:\n",
        "        M.iloc[0] = tuple(zip(np.zeros(len(b),dtype=int),[\"_\"]*len(b)))\n",
        "        M[\"*\"] = tuple(zip(np.zeros(len(a),dtype=int),[\"|\"]*len(a)))\n",
        "    M.iloc[0].iloc[0] = (0,\"\")\n",
        "    for idxi in range(1,len(a)):\n",
        "        for idxj in range(1,len(b)):\n",
        "            diag = M.iloc[idxi-1].iloc[idxj-1][0]+ blosum[b[idxj]][a[idxi]]\n",
        "            if a[idxi]!=b[idxj]:\n",
        "                cima = M.iloc[idxi-1].iloc[idxj][0]-indel\n",
        "                esq = M.iloc[idxi].iloc[idxj-1][0]-indel\n",
        "                if diag>=cima:\n",
        "                    if diag>=esq:\n",
        "                        maior = diag\n",
        "                        sinal = \"\\\\\"\n",
        "                    else :\n",
        "                        maior = esq\n",
        "                        sinal = \"_\"\n",
        "                elif cima>=esq:\n",
        "                    maior = cima\n",
        "                    sinal = \"|\"\n",
        "                else:\n",
        "                    maior = esq\n",
        "                    sinal = \"_\"\n",
        "            else:\n",
        "                maior = diag\n",
        "                sinal = \"\\\\\"\n",
        "            M.iloc[idxi].iloc[idxj] = (maior,sinal)\n",
        "    return M"
      ],
      "execution_count": null,
      "outputs": []
    },
    {
      "cell_type": "markdown",
      "metadata": {
        "id": "8yv72gnCm7zm"
      },
      "source": [
        "### Gerando alinhamentos:"
      ]
    },
    {
      "cell_type": "code",
      "metadata": {
        "id": "CsAqq1JjOwlf"
      },
      "source": [
        "def alinhamentos(a,b,M):\n",
        "    '''\n",
        "    Percorre a matriz gerando\n",
        "    o alinhamento para cada \n",
        "    sequência.\n",
        "    '''\n",
        "    al_a = \"\"\n",
        "    al_b = \"\"\n",
        "    pos_linha = -1\n",
        "    pos_coluna = -1\n",
        "    valor, sinal = M.iloc[pos_linha].iloc[pos_coluna] # M.iloc[posicaolinha].iloc[posicaocoluna]\n",
        "    while sinal!=\"\":\n",
        "        if sinal == '\\\\':\n",
        "            al_a = a[pos_linha] + al_a\n",
        "            al_b = b[pos_coluna] + al_b\n",
        "            pos_linha = pos_linha -1\n",
        "            pos_coluna = pos_coluna -1\n",
        "        elif sinal == '|':\n",
        "            al_a = a[pos_linha] + al_a\n",
        "            al_b = \"-\" + al_b\n",
        "            pos_linha = pos_linha - 1\n",
        "        elif sinal == '_':\n",
        "            al_a = \"-\" + al_a\n",
        "            al_b = b[pos_coluna] + al_b\n",
        "            pos_coluna = pos_coluna -1\n",
        "        valor, sinal = M.iloc[pos_linha].iloc[pos_coluna]\n",
        "    return al_a,al_b"
      ],
      "execution_count": null,
      "outputs": []
    },
    {
      "cell_type": "markdown",
      "metadata": {
        "id": "PA9PqvQZnHoi"
      },
      "source": [
        "### Escreve os alinhamentos no arquivo fasta:"
      ]
    },
    {
      "cell_type": "code",
      "metadata": {
        "id": "HmSBe1c5W5rO"
      },
      "source": [
        "def write_alinhamentos(file,alms,cabecalho):\n",
        "    '''\n",
        "    Escreve os alinhamentos resultantes\n",
        "    no arquivo fasta.\n",
        "    '''\n",
        "    arquivo = open(file, 'w')\n",
        "    for pos,alm in enumerate(alms):\n",
        "        arquivo.write(cabecalho[pos])\n",
        "        ls = np.arange(0,len(alm)+1,60)\n",
        "        i = 0\n",
        "        for f in ls[1:]:\n",
        "            arquivo.write(alm[i:f]+\"\\n\")\n",
        "            i = f\n",
        "        arquivo.write(alm[i:]+\"\\n\")\n",
        "    arquivo.close()"
      ],
      "execution_count": null,
      "outputs": []
    },
    {
      "cell_type": "markdown",
      "metadata": {
        "id": "rIEMdFzP1cZE"
      },
      "source": [
        "### Gera visualização do alinhamento:"
      ]
    },
    {
      "cell_type": "code",
      "metadata": {
        "id": "5g2M73paMjGS"
      },
      "source": [
        "def plot(file):\n",
        "    plot = dash.Dash()\n",
        "\n",
        "    data = open(file, 'r').read()\n",
        "\n",
        "    plot.layout = html.Div([\n",
        "      dashbio.AlignmentChart(\n",
        "          id='my-alignment-viewer',\n",
        "          data=data,\n",
        "          showconsensus=False,\n",
        "          textsize = 14,\n",
        "          height = 550,\n",
        "          tilewidth = 20,\n",
        "      ),\n",
        "      html.Div(id='alignment-viewer-output')\n",
        "    ])\n",
        "\n",
        "    @plot.callback(\n",
        "      dash.dependencies.Output('alignment-viewer-output', 'children'),\n",
        "      [dash.dependencies.Input('my-alignment-viewer', 'eventDatum')]\n",
        "    )\n",
        "    def update_output(value):\n",
        "        if value is None:\n",
        "            return 'No data.'\n",
        "        return str(value)\n",
        "\n",
        "\n",
        "    plot.run_server(host = 'localhost',debug=False)"
      ],
      "execution_count": null,
      "outputs": []
    },
    {
      "cell_type": "markdown",
      "metadata": {
        "id": "Muo_3tAtngwy"
      },
      "source": [
        "## Exemplos da descrição do TP:"
      ]
    },
    {
      "cell_type": "code",
      "metadata": {
        "colab": {
          "base_uri": "https://localhost:8080/"
        },
        "id": "TeQt9NJan19o",
        "outputId": "5412e043-748a-45f2-9985-3783e4b0df8a"
      },
      "source": [
        "#Examplo 01\n",
        "\n",
        "A = \"DRQT\"\n",
        "B = \"DRQT\"\n",
        "A,B = list_chars([A,B])\n",
        "M = pd.DataFrame(index = A,columns = B)\n",
        "matriz = matriz_NW(A,B,M,0)\n",
        "alinhamento = alinhamentos(A,B,matriz)\n",
        "print(alinhamento[0])\n",
        "print(alinhamento[1])\n",
        "print()\n",
        "matriz"
      ],
      "execution_count": null,
      "outputs": [
        {
          "output_type": "stream",
          "text": [
            "        *       D        R        Q        T\n",
            "*   (0, )  (0, _)   (0, _)   (0, _)   (0, _)\n",
            "D  (0, |)  (6, \\)   (6, _)   (6, _)   (6, _)\n",
            "R  (0, |)  (6, |)  (11, \\)  (11, _)  (11, _)\n",
            "Q  (0, |)  (6, |)  (11, |)  (16, \\)  (16, _)\n",
            "T  (0, |)  (6, |)  (11, |)  (16, |)  (21, \\)\n",
            "\n",
            "DRQT\n",
            "DRQT\n"
          ],
          "name": "stdout"
        }
      ]
    },
    {
      "cell_type": "code",
      "metadata": {
        "colab": {
          "base_uri": "https://localhost:8080/"
        },
        "id": "ugyKsF2aopmg",
        "outputId": "fb70375b-7f4e-4777-8e7f-5145e72475de"
      },
      "source": [
        "#Examplo 02\n",
        "\n",
        "A = \"DRQT\"\n",
        "B = \"DRET\"\n",
        "A,B = list_chars([A,B])\n",
        "M = pd.DataFrame(index = A,columns = B)\n",
        "matriz = matriz_NW(A,B,M,0)\n",
        "alinhamento = alinhamentos(A,B,matriz)\n",
        "print(alinhamento[0])\n",
        "print(alinhamento[1])\n",
        "print()\n",
        "matriz"
      ],
      "execution_count": null,
      "outputs": [
        {
          "output_type": "stream",
          "text": [
            "        *       D        R        E        T\n",
            "*   (0, )  (0, _)   (0, _)   (0, _)   (0, _)\n",
            "D  (0, |)  (6, \\)   (6, _)   (6, _)   (6, _)\n",
            "R  (0, |)  (6, |)  (11, \\)  (11, _)  (11, _)\n",
            "Q  (0, |)  (6, |)  (11, |)  (13, \\)  (13, _)\n",
            "T  (0, |)  (6, |)  (11, |)  (13, |)  (18, \\)\n",
            "\n",
            "DRQT\n",
            "DRET\n"
          ],
          "name": "stdout"
        }
      ]
    },
    {
      "cell_type": "code",
      "metadata": {
        "colab": {
          "base_uri": "https://localhost:8080/",
          "height": 247
        },
        "id": "NCm4_V5NofXB",
        "outputId": "b58c2731-c611-4bdc-8de3-fc09d7a2b6a8"
      },
      "source": [
        "#Examplo 03\n",
        "\n",
        "A = \"DRQTAQAAGTTTIT\"\n",
        "B = \"DRNTAQLLGTDTT\"\n",
        "A,B = list_chars([A,B])\n",
        "M = pd.DataFrame(index = A,columns = B)\n",
        "matriz = matriz_NW(A,B,M,0)\n",
        "alinhamento = alinhamentos(A,B,matriz)\n",
        "print(alinhamento[0])\n",
        "print(alinhamento[1])\n",
        "print()\n",
        "matriz"
      ],
      "execution_count": 1,
      "outputs": [
        {
          "output_type": "error",
          "ename": "NameError",
          "evalue": "ignored",
          "traceback": [
            "\u001b[0;31m---------------------------------------------------------------------------\u001b[0m",
            "\u001b[0;31mNameError\u001b[0m                                 Traceback (most recent call last)",
            "\u001b[0;32m<ipython-input-1-6e631e727905>\u001b[0m in \u001b[0;36m<module>\u001b[0;34m()\u001b[0m\n\u001b[1;32m      3\u001b[0m \u001b[0mA\u001b[0m \u001b[0;34m=\u001b[0m \u001b[0;34m\"DRQTAQAAGTTTIT\"\u001b[0m\u001b[0;34m\u001b[0m\u001b[0;34m\u001b[0m\u001b[0m\n\u001b[1;32m      4\u001b[0m \u001b[0mB\u001b[0m \u001b[0;34m=\u001b[0m \u001b[0;34m\"DRNTAQLLGTDTT\"\u001b[0m\u001b[0;34m\u001b[0m\u001b[0;34m\u001b[0m\u001b[0m\n\u001b[0;32m----> 5\u001b[0;31m \u001b[0mA\u001b[0m\u001b[0;34m,\u001b[0m\u001b[0mB\u001b[0m \u001b[0;34m=\u001b[0m \u001b[0mlist_chars\u001b[0m\u001b[0;34m(\u001b[0m\u001b[0;34m[\u001b[0m\u001b[0mA\u001b[0m\u001b[0;34m,\u001b[0m\u001b[0mB\u001b[0m\u001b[0;34m]\u001b[0m\u001b[0;34m)\u001b[0m\u001b[0;34m\u001b[0m\u001b[0;34m\u001b[0m\u001b[0m\n\u001b[0m\u001b[1;32m      6\u001b[0m \u001b[0mM\u001b[0m \u001b[0;34m=\u001b[0m \u001b[0mpd\u001b[0m\u001b[0;34m.\u001b[0m\u001b[0mDataFrame\u001b[0m\u001b[0;34m(\u001b[0m\u001b[0mindex\u001b[0m \u001b[0;34m=\u001b[0m \u001b[0mA\u001b[0m\u001b[0;34m,\u001b[0m\u001b[0mcolumns\u001b[0m \u001b[0;34m=\u001b[0m \u001b[0mB\u001b[0m\u001b[0;34m)\u001b[0m\u001b[0;34m\u001b[0m\u001b[0;34m\u001b[0m\u001b[0m\n\u001b[1;32m      7\u001b[0m \u001b[0mmatriz\u001b[0m \u001b[0;34m=\u001b[0m \u001b[0mmatriz_NW\u001b[0m\u001b[0;34m(\u001b[0m\u001b[0mA\u001b[0m\u001b[0;34m,\u001b[0m\u001b[0mB\u001b[0m\u001b[0;34m,\u001b[0m\u001b[0mM\u001b[0m\u001b[0;34m,\u001b[0m\u001b[0;36m0\u001b[0m\u001b[0;34m)\u001b[0m\u001b[0;34m\u001b[0m\u001b[0;34m\u001b[0m\u001b[0m\n",
            "\u001b[0;31mNameError\u001b[0m: name 'list_chars' is not defined"
          ]
        }
      ]
    },
    {
      "cell_type": "markdown",
      "metadata": {
        "id": "MfcpdJemoBuP"
      },
      "source": [
        "## Exemplos utilizando sequências do arquivo de entrada:\n",
        "Decidimos usar como sequência base para os alinhamentos a terceira sequência do arquivo referente ao SARS2. "
      ]
    },
    {
      "cell_type": "markdown",
      "metadata": {
        "id": "6gTLJd2qt15D"
      },
      "source": [
        "Lendo sequências do arquivo fasta:\n",
        "\n",
        "\n",
        "\n"
      ]
    },
    {
      "cell_type": "code",
      "metadata": {
        "id": "JHKS55rJOwlb"
      },
      "source": [
        "sequencias,cabecalho = read_seq('sequencias_spike.fasta')\n",
        "sequencias = list_chars(sequencias)"
      ],
      "execution_count": null,
      "outputs": []
    },
    {
      "cell_type": "markdown",
      "metadata": {
        "id": "T1JHFtNVt-eG"
      },
      "source": [
        "O primeiro exemplo é o alinhamento da SARS2 com CVMJC (Murine coronavirus), utilizando o indel = 5:"
      ]
    },
    {
      "cell_type": "code",
      "metadata": {
        "colab": {
          "base_uri": "https://localhost:8080/"
        },
        "id": "t4skrxECsuk3",
        "outputId": "5409d971-fc13-4d8b-fa4d-96eb072d6a5e"
      },
      "source": [
        "A = sequencias[0]\n",
        "B = sequencias[2]\n",
        "M = pd.DataFrame(index = A,columns = B)\n",
        "matriz = matriz_NW(A,B,M,5)\n",
        "alinhamento = alinhamentos(A,B,matriz)\n",
        "write_alinhamentos('alinhamentos02.fasta',alinhamento,[cabecalho[0],cabecalho[2]])\n",
        "print(alinhamento[0])\n",
        "print()\n",
        "print(alinhamento[1])"
      ],
      "execution_count": null,
      "outputs": [
        {
          "output_type": "stream",
          "text": [
            "MLFVFILFLPSCLGYIGDFRCIQTVNYNGNNASAPSISTEAVDVSKGLGTYYVLDRVYLNATLLLT-G-YYP-VDGSN-YRNLALTGTNTLSLTWFKPPFLSEFNDGI-FAKVQNLKTNTPTGATSYFPTIVIGSLFGNTSYTVVLEPYNNIIMASVCTYTICQLPYTPC---KPN-T--NGN-RVIGFW-H-T-D-VKPPICL-L--KR-NF-TF-N-V--NAPWLYFHFYQQGGTFYAYYADKP---SATTFLFSVYIG-DILT-Q-YFVL-PFICTP---TAGSTL-LPLYWVTPLLKRQYLFNFNEKGVITSAVDCASSYISEIKCKTQSLLPSTGVYDLSGYTVQPVGVVYRRVPNLPD-CKIEEWLTAKSVPSPLNWERRTFQNCNFNLSSLLRYVQAESLSCNNIDASKVYGMCFGSVSVDKFAIPRSRQIDLQIGNSGFLQTANYKIDTAATSCQLYYSLPKNNVTINNYNPSSWNRRYGFNDAGVFGKSKHDVAYAQQCFIVRPSYCPCAQPDIVSACTSQTKPMSAYCPTGTIHRECSLWNGPHLRSARVGSGTYTCECTCKPNPFDTYDLRCGQIKTIVNVGDHCEGLGVLEDKCGNSDPHKGCSCAHDSFIGWSHDTCLVNDHSQIFANILLNGINSGTTCSTDLQLPNTEVATGVCVRYDLYGITGQGVFKEVKADYYNSWQAL-LYDVNG-NLNGFRDLTTNKTYTIRSCYSGRVSAAYHK-EAPE-PALLYRNINCSYVFTNNISREENPLNYFDSYLGCVVNADNRPDEALPNCDLRMGAGLCVDY-SKSRRARRSVSTGYRLTTFEPY-MPMLVNDSVQSVGGLYEMQIPTNFTIGHHEEFIQIRAPKVTIDCAAFVCGDNAACRQQLVEYGSFCDNVNAILNEVNNLLD-NMQLQVASALMQGVTISSRLPDGISGPIDDINFSPLLGCIGSTCAEDGNGPSAMRGRSAIEDLLFDKVKLSDVGFVEAYNNCTGGQEVRDLLCVQSFNGIKVLPPVLSESQISGYTAGATAAAMFPPWT--A-AA-GVPFSLNVQYRINGLGVTMNVLSENQKMIASAFNNALGAIQEGFDATNSALGKIQSVVNANAEALNNLLNQLSNRFGAISASLQEILTRLDRVEAKAQIDRLINGRLTALNAYISKQLSDSTLIKFSAAQAIEKVNECVKSQTTRINFCGNGNHILSLVQNAPYGLCFIHFSYVPTSFKTANVSPGLCISGDRGLAPKAGYFVQDNG-EWKFTGSNYYYPEPITDKNSVVMISCAVNYTKAPEVFLNNSIPNLPDFKEELDKWFKNQTSIAPDLSL-DFEKLNVTFLDLTYEMNRIQDAIKKLNESYINLKEVGTYEMYVKWPWYVWLLIGLAG-VAVCVLLFFICCCTGCGSC---CFRKCGSCCDEYGGHQDS-IVIYNISAHED\n",
            "\n",
            "M-FVFLVLLP--L--VSS-QC---VNLT-TRTQLPPAYTNS--FTRGV--YYP-DKVFRSSVLHSTQDLFLPFFSNVTWFHAIHVSGTNG-TKR-FDNPVL-PFNDGVYFASTE--KSNIIRG-W-IFGT-TLDS---KTQSLLIVNNATNVVI-KVCEFQFCNDPFLGVYYHKNNKSWMESEFRVYSSANNCTFEYVSQPFLMDLEGKQGNFKNLREFVFKNIDG-YFKIYSK-HTPINLVRDLPQGFSALEPLVDLPIGINITRFQTLLALHRSYLTPGDSSSGWTAGAAAYYVGYLQPRTFLLKYNENGTITDAVDCALDPLSETKCTLKSFTVEKGIYQTSNFRVQPTESIV-RFPNITNLCPFGEVFNATRFASVYAWNRKRISNCVADYSVLYNSASFSTFKCYGVSPTKLNDLCFTNVYADSFVI-RGDEV-RQIA-PG--QT-G-KI---A-DYN--YKLP-DDFT--GC-VIAWNSN-NL-DSKV-G-GNYN--YLYRLF-RKSNLKP-FERDI-S--TEIYQAGSTPC-NGVEGFNC-YF--P-LQS--Y--G-F--QPT---NGVG-Y--Q--PYRVVV-L-SF-ELLHAPATVCG---PKK--S-T--NLV--K-NKC-VN-----F-N--FNGL-TG-T-G--V-L--TE-SNKKFLPFQQF---GRDI-ADT-TDAVRDPQTLEILDITPCSFGGVSVITPG-TNT--S--N-QVAVLYQDVNCTEVPVAIHAD-QLT-P-TWRV-YSTGS-NVFQTRAGCLIGAEH-VNNSY-ECDIPIGAGICASYQTQTNSPRRARSVASQ-SII-AYTMSLGAENSV-AYSN-NSIAIPTNFTISVTTEILPVSMTKTSVDCTMYICGDSTECSNLLLQYGSFCTQLNRALTGIAVEQDKNTQ-EVFAQVKQ---I-YKTP-----PIKD--FG---GFNFSQILPDPSKPS--K-RSFIEDLLFNKVTLADAGFIKQYGDCLGDIAARDLICAQKFNGLTVLPPLLTDEMIAQYTSALLAGTITSGWTFGAGAALQIPFAMQMAYRFNGIGVTQNVLYENQKLIANQFNSAIGKIQDSLSSTASALGKLQDVVNQNAQALNTLVKQLSSNFGAISSVLNDILSRLDKVEAEVQIDRLITGRLQSLQTYVTQQLIRAAEIRASANLAATKMSECVLGQSKRVDFCGKGYHLMSFPQSAPHGVVFLHVTYVPAQEKNFTTAPAICHDG-KAHFPREGVFV-SNGTHWFVTQRNFYEPQIITTDNTFVSGNCDVVIGIVNNTVYDPLQPELDSFKEELDKYFKNHTS--PDVDLGDISGINASVVNIQKEIDRLNEVAKNLNESLIDLQELGKYEQYIKWPWYIWLGF-IAGLIAIVMVTIMLCCMTSCCSCLKGCC-SCGSCC-KF-DEDDSEPVLKGVKLHYT\n"
          ],
          "name": "stdout"
        }
      ]
    },
    {
      "cell_type": "code",
      "metadata": {
        "scrolled": false,
        "id": "xnThN_w6j49s",
        "outputId": "88f5dc94-cdc7-42dd-e15f-e40d79e3edc7"
      },
      "source": [
        "#plot('alinhamentos02.fasta') # descomentar e executar para gerar link e visualizar o alinhamento\n",
        "Image(\"newplot (1).png\")  # amostra da visualização"
      ],
      "execution_count": null,
      "outputs": [
        {
          "output_type": "execute_result",
          "data": {
            "image/png": "[encoded data removed]",
            "text/plain": [
              "<IPython.core.display.Image object>"
            ]
          },
          "metadata": {
            "tags": []
          },
          "execution_count": 61
        }
      ]
    },
    {
      "cell_type": "markdown",
      "metadata": {
        "id": "x4w-UNRZj49t"
      },
      "source": [
        "O segundo exemplo é o alinhamento da SARS2 com MERS (Middle East respiratory syndrome-related coronavirus), utilizando o indel = 0:"
      ]
    },
    {
      "cell_type": "code",
      "metadata": {
        "id": "5Kuyqcr0j49v",
        "outputId": "3a099de8-5324-4e98-f1d9-cdce2fdfd2f3"
      },
      "source": [
        "A = sequencias[1]\n",
        "B = sequencias[2]\n",
        "M = pd.DataFrame(index = A,columns = B)\n",
        "matriz = matriz_NW(A,B,M,0)\n",
        "alinhamento = alinhamentos(A,B,matriz)\n",
        "write_alinhamentos('alinhamentos12.fasta',alinhamento,[cabecalho[1],cabecalho[2]])\n",
        "print(alinhamento[0])\n",
        "print()\n",
        "print(alinhamento[1])"
      ],
      "execution_count": null,
      "outputs": [
        {
          "output_type": "stream",
          "text": [
            "MIHSVFLLMFLLTPTESYVDVGPDSVKS-ACIEVDI-QQTFFDKT--WPRP---IDVS--KADGI-IYP-Q--GRTYSNITI--TYQ-GLF-P-YQGD----HGDMYVYSAGHAT-GT----TP-QKL-FVANYSQD-V-KQFA-----NGFVVR--I-GAAANSTGTVI-ISPST-SATIRKIYPAFMLGSSVGNFSDGKMGRFFN-HT-LVL-LPDGCGTLLRAF-YCILEPRSGN-HCP--AG-NSYTSFATYHTPATDCSDGNYNRNAS-LNS-FK-EY---FNLRNCTF-MY-T--YNI-TEDEILEWFGITQTAQGVHLF-S-SR-YV----D----LY------GGN----M-FQ-F-ATL-P-VYD-------TIKY-YS-I-IPHSIRS-IQS--D-RKA-W----AAFYV-YKLQP-LTFLL-DFSVD-G-YI--RRAIDCGFND-LSQ--LHCS-YESF-DVESGVY-SVSSF--EAKPS-GSVVEQ--AEGV---ECDFSPLLSG-----TPPQ---VY--N-FKRLVFTNC--NYNLTKLLS-LFSVN--DF-T--C-SQISP--AAIASN--CYSSLILDY--FSYPLSMKSD-L-SVSSAGP-----ISQFNYKQSFSNP---T-CLILA--TVPHNL-TTITKPL--KYS--Y-I----N-K--CSRLLSD-DRTEV-PQLVNANQYS-PCVSIVPSTVWEDG-D-YYRKQLSPLE--G-----G-G---W-LVASGSTVAMT-EQLQMGFGITVQY--GTDTNSVC-PKLEFA-N-DTKIASQLGN-CVEYSLY-GVSG-RGV--FQ-N-CTAVGVR----QQRF---V----YDA----YQNL-V-GYYSDDGNYYCL--RACVS---VPVSVIYDKET--KTHATLFGS--VA-------C-E-----H---ISST-MSQYSRST-RSM-LKRRDSTYG--PL-QT-PVGCVL-G---LVNSSLFVEDC-KLPLGQS-LCALPDTPS--T-LT--P---RSV--RS-V---PGEM-RL-A--SIAF-NHPIQVDQLNSSYFKLSIPTNF--SFGV-TQEYI---QT-TIQKVT-VDC-KQYVCNG---FQKC---EQLLREYGQFCSKINQAL-HG-ANLRQDDSVRN---LFASVKSSQ--SSPIIP---GFGGDFNLT-LL-EPVS--ISTGSRSARS-AIEDLLFDKVTIAD-PGYM-QGY-DDCMQQG--PASARDLICAQ-Y-VAG--YKVLPPLM-DVNM-EA-AYTSSLLGSIAG-V--GWT--AGLSSFAA--IPFA-Q-SIFYRLNGVGITQQVL-SENQKLIANKFNQALG-AMQ-TGFTTT-NEA--FRKVQDAVNNNAQAL-S--K-LASELSNTFGAISASI-GDIIQRLD-VLEQDA--QIDRLINGRL-T--TLNAFVAQQLVR-SE---SA-ALSAQLA-KDKVNECV-KAQSKR-SGFCGQG-THIVSF--VVNAPNG-LYFMHV-GY-YPS---NHIEVVSA-YGLC-D--AAN-PTNCIAPVNG-YFIKTNNTRIVDEWSY-T--GSSFYAPEP--ITS-LNTKYVA-PQVTYQN------I-STN-L--P--P-PLLGNSTGID-FQDELDEFFKN-VSTSIP--NFG--S-L--T-QINTTL---LD-LTYEMLSLQQVVK-ALNES-YIDLKELGNY--TY-YNKWPWYIWLGFIAGLVALALCV-FFI-LCC-T--GCGTNCMGKLK----C-NRCC--DRYEEYD-LEP--HK-V--HVH-\n",
            "\n",
            "MF--VF-LV-LL-P----L-V---S--SQ-C--VNLT--T---RTQL-P-PAYT-N-SFTR--GVY-YPDKVF-R--SSV-LHST-QD-LFLPFF-SNVTWFHA-IHV-S-G--TNGTKRFDNPV--LPF--N---DGVY--FASTEKSN--IIRGWIFG-----T-T-LD-S-KTQS-----L----LI---V-N----------NA-TNVVIKV---C----E-FQFC-------ND--PFL-GV--Y-----YH------K--N-NK--SWMESEFRV-YSSA-N--NCTFE-YVSQPF-LM--D--LE--G--K--QG-N-FKNL-REFVFKNIDGYFKIYSKHTPI--NLVRDLP-QGFSA-LEPLV-DLPIGINIT-RFQ-TLLAL-H--RSYL-TPGDS-SSGWTAGAAAYYVGY-LQPR-TFLLK-YN-ENGT-ITD--AVDCAL-DPLSETK--CTL-KSFT-VEKGIYQT-SNFRVQ--PTE-SIV-RFP--NITNL-C---P-F-GEVFNAT--RFASVYAWNR-KR-I-SNCVADY------SVLY--NSASFSTFKCYG-VSPTK--L--NDLCFTN-V--YAD-SF-V-IRGDEVRQI--A-PGQTGKIADYNYK--L--PDDFTGC-VIAWNS--NNLD---SK-VGGNYNYLYRLFRKSNLKPF-ER---DIS-TEIY-Q---AG--STPC-N---G-V-E-GFNCYF-----PLQSYGFQPTNGVGYQPYRVV-----V-LSFE-L-----L---HAP-A-T--VCGPK-K-STNL-VK------NKCVNFN-FNGLTGT-GVLT-ESNK------KFLPFQQ-FGRDIADTT-DAVRDP-QTLEIL-----D-----ITP--C-SFGG--VSVI----TPG-TN-T---SNQVAVLYQDVNCTEVPVAIHADQL--TP-------TWR-VY-----ST-GSN-VFQTR-AGC-LIGAEH-VNNS-Y-E-CD-IPIG-AGICA-----SYQTQ-TNSPRRARSVASQSIIAYT---MS-LGAENSVAYSN--------N-S---IAIPTNFTIS--VTT-E-ILPV-SMT--K-TSVDCT-MYIC-GDST-E-CSNL--LL-QYGSFCTQLNRALT-GIA-VEQ-D--KNTQEVFAQVK--QIYKTP--PIKD-FGG-FNFSQILPDP-SKP----SK--RSF-IEDLLFNKVTLADA-GFIKQ-YG-DCL--GDI-A-ARDLICAQKFN--GLT--VLPPLLTD-EMI-AQ-YTSALL---AGTITSGWTFGAG----AALQIPFAMQMA--YRFNGIGVTQNVLY-ENQKLIANQFNSAIGK-IQDS-LSSTAS-ALG--KLQDVVNQNAQALNTLVKQL-S--SN-FGAIS-SVLNDILSRLDKV-E--AEVQIDRLITGRLQSLQT---YVTQQLIRAAEIRASAN-L-A--AT--KMSECVL-GQSKRVD-FCGKGY-HLMSFPQ--SAPHGVV-FLHVT-YV-PAQEKN-F--TTAP-AICHDGK-AHFP-R-----EGV-FV-SNGT----HW-FVTQR--NFY--EPQIITTD-NT-FVSG------NCDVVIGIVN-NTVYDPLQPE--L------DSFKEELDKYFKNH--TS-PDVDLGDISGINASV-VN--IQKEIDRLN-E------VAKN-LNESL-IDLQELGKYEQ-YI--KWPWYIWLGFIAGLIAIVM-VT--IMLCCMTSC-C--SC---LKGCCSCGS-CCKFD--ED-DS-EPVL-KGVKLH-YT\n"
          ],
          "name": "stdout"
        }
      ]
    },
    {
      "cell_type": "code",
      "metadata": {
        "id": "O9QCJjwuj49w",
        "outputId": "312219a2-9c94-4a55-b0d8-ce6b6cdb09df"
      },
      "source": [
        "#plot('alinhamentos12.fasta') # descomentar e executar para gerar link e visualizar o alinhamento\n",
        "Image(\"newplot (2).png\") # amostra da visualização"
      ],
      "execution_count": null,
      "outputs": [
        {
          "output_type": "execute_result",
          "data": {
            "image/png": "[encoded data removed]",
            "text/plain": [
              "<IPython.core.display.Image object>"
            ]
          },
          "metadata": {
            "tags": []
          },
          "execution_count": 62
        }
      ]
    },
    {
      "cell_type": "markdown",
      "metadata": {
        "id": "ImnBKHeSj49z"
      },
      "source": [
        "O terceiro exemplo é o alinhamento da SARS2 com SARS (Severe acute respiratory syndrome coronavirus), utilizando o indel = 5:"
      ]
    },
    {
      "cell_type": "code",
      "metadata": {
        "id": "gLHAsJlOj490",
        "outputId": "471c9f36-896e-4c9a-9c2e-01edab3c2be7"
      },
      "source": [
        "A = sequencias[3]\n",
        "B = sequencias[2]\n",
        "M = pd.DataFrame(index = A,columns = B)\n",
        "matriz = matriz_NW(A,B,M,5)\n",
        "alinhamento = alinhamentos(A,B,matriz)\n",
        "write_alinhamentos('alinhamentos32.fasta',alinhamento,[cabecalho[3],cabecalho[2]])\n",
        "print(alinhamento[0])\n",
        "print()\n",
        "print(alinhamento[1])"
      ],
      "execution_count": null,
      "outputs": [
        {
          "output_type": "stream",
          "text": [
            "MFIFLLFLTLTSGSDLDRCTTFDDVQAPNYTQHTSSMRGVYYPDEIFRSDTLYLTQDLFLPFYSNVTGFHTI-----NHT--FGNPVIPFKDGIYFAATEKSNVVRGWVFGSTMNNKSQSVIIINNSTNVVIRACNFELCDNPFFAV--SK-PMG-TQTHTMIFDNAFNCTFEYISDAFSLDVSEKSGNFKHLREFVFKNKDGFLYVYKGYQPIDVVRDLPSGFNTLKPIFKLPLGINITNFRAILT---AF-SPA-QDI-WGTSAAAYFVGYLKPTTFMLKYDENGTITDAVDCSQNPLAELKCSVKSFEIDKGIYQTSNFRVVPSGDVVRFPNITNLCPFGEVFNATKFPSVYAWERKKISNCVADYSVLYNSTFFSTFKCYGVSATKLNDLCFSNVYADSFVVKGDDVRQIAPGQTGVIADYNYKLPDDFMGCVLAWNTRNIDATSTGNYNYKYRYLRHGKLRPFERDISNVPFSPDGKPCT-PPALNCYWPLNDYGFYTTTGIGYQPYRVVVLSFELLNAPATVCGPKLSTDLIKNQCVNFNFNGLTGTGVLTPSSKRFQPFQQFGRDVSDFTDSVRDPKTSEILDISPCSFGGVSVITPGTNASSEVAVLYQDVNCTDVSTAIHADQLTPAWRIYSTGNNVFQTQAGCLIGAEHVDTSYECDIPIGAGICASYHT-V-S--LLRSTSQKSIVAYTMSLGADSSIAYSNNTIAIPTNFSISITTEVMPVSMAKTSVDCNMYICGDSTECANLLLQYGSFCTQLNRALSGIAAEQDRNTREVFAQVKQMYKTPTLKYFGGFNFSQILPDPLKPTKRSFIEDLLFNKVTLADAGFMKQYGECLGDINARDLICAQKFNGLTVLPPLLTDDMIAAYTAALVSGTATAGWTFGAGAALQIPFAMQMAYRFNGIGVTQNVLYENQKQIANQFNKAISQIQESLTTTSTALGKLQDVVNQNAQALNTLVKQLSSNFGAISSVLNDILSRLDKVEAEVQIDRLITGRLQSLQTYVTQQLIRAAEIRASANLAATKMSECVLGQSKRVDFCGKGYHLMSFPQAAPHGVVFLHVTYVPSQERNFTTAPAICHEGKAYFPREGVFVFNGTSWFITQRNFFSPQIITTDNTFVSGNCDVVIGIINNTVYDPLQPELDSFKEELDKYFKNHTSPDVDLGDISGINASVVNIQKEIDRLNEVAKNLNESLIDLQELGKYEQYIKWPWYVWLGFIAGLIAIVMVTILLCCMTSCCSCLKGACSCGSCCKFDEDDSEPVLKGVKLHYT\n",
            "\n",
            "MFVFLVLLPLVS-SQCVNLTTRTQL-PPAYT-N-SFTRGVYYPDKVFRSSVLHSTQDLFLPFFSNVTWFHAIHVSGTNGTKRFDNPVLPFNDGVYFASTEKSNIIRGWIFGTTLDSKTQSLLIVNNATNVVIKVCEFQFCNDPFLGVYYHKNNKSWMESEFRVYSSANNCTFEYVSQPFLMDLEGKQGNFKNLREFVFKNIDGYFKIYSKHTPINLVRDLPQGFSALEPLVDLPIGINITRFQTLLALHRSYLTPGDSSSGWTAGAAAYYVGYLQPRTFLLKYNENGTITDAVDCALDPLSETKCTLKSFTVEKGIYQTSNFRVQPTESIVRFPNITNLCPFGEVFNATRFASVYAWNRKRISNCVADYSVLYNSASFSTFKCYGVSPTKLNDLCFTNVYADSFVIRGDEVRQIAPGQTGKIADYNYKLPDDFTGCVIAWNSNNLDSKVGGNYNYLYRLFRKSNLKPFERDISTEIYQAGSTPCNGVEGFNCYFPLQSYGFQPTNGVGYQPYRVVVLSFELLHAPATVCGPKKSTNLVKNKCVNFNFNGLTGTGVLTESNKKFLPFQQFGRDIADTTDAVRDPQTLEILDITPCSFGGVSVITPGTNTSNQVAVLYQDVNCTEVPVAIHADQLTPTWRVYSTGSNVFQTRAGCLIGAEHVNNSYECDIPIGAGICASYQTQTNSPRRARSVASQSIIAYTMSLGAENSVAYSNNSIAIPTNFTISVTTEILPVSMTKTSVDCTMYICGDSTECSNLLLQYGSFCTQLNRALTGIAVEQDKNTQEVFAQVKQIYKTPPIKDFGGFNFSQILPDPSKPSKRSFIEDLLFNKVTLADAGFIKQYGDCLGDIAARDLICAQKFNGLTVLPPLLTDEMIAQYTSALLAGTITSGWTFGAGAALQIPFAMQMAYRFNGIGVTQNVLYENQKLIANQFNSAIGKIQDSLSSTASALGKLQDVVNQNAQALNTLVKQLSSNFGAISSVLNDILSRLDKVEAEVQIDRLITGRLQSLQTYVTQQLIRAAEIRASANLAATKMSECVLGQSKRVDFCGKGYHLMSFPQSAPHGVVFLHVTYVPAQEKNFTTAPAICHDGKAHFPREGVFVSNGTHWFVTQRNFYEPQIITTDNTFVSGNCDVVIGIVNNTVYDPLQPELDSFKEELDKYFKNHTSPDVDLGDISGINASVVNIQKEIDRLNEVAKNLNESLIDLQELGKYEQYIKWPWYIWLGFIAGLIAIVMVTIMLCCMTSCCSCLKGCCSCGSCCKFDEDDSEPVLKGVKLHYT\n"
          ],
          "name": "stdout"
        }
      ]
    },
    {
      "cell_type": "code",
      "metadata": {
        "id": "X1BXkE_qj494",
        "outputId": "8a5a0c70-ecc0-414e-ea89-59175e7002a7"
      },
      "source": [
        "#plot('alinhamentos32.fasta') # descomentar e executar para gerar link e visualizar o alinhamento\n",
        "Image(\"newplot (3).png\") # amostra da visualização"
      ],
      "execution_count": null,
      "outputs": [
        {
          "output_type": "execute_result",
          "data": {
            "image/png": "[encoded data removed]",
            "text/plain": [
              "<IPython.core.display.Image object>"
            ]
          },
          "metadata": {
            "tags": []
          },
          "execution_count": 63
        }
      ]
    },
    {
      "cell_type": "markdown",
      "metadata": {
        "id": "B10dbjvxj499"
      },
      "source": [
        "O quarto exemplo é o alinhamento da SARS2 com CVHOC (Human coronavirus OC43), utilizando o indel = 5:"
      ]
    },
    {
      "cell_type": "code",
      "metadata": {
        "id": "Q2wl5Vaxj499",
        "outputId": "f2a40f9c-1dcc-4fce-a0f0-2a76197dd15a"
      },
      "source": [
        "A = sequencias[6]\n",
        "B = sequencias[2]\n",
        "M = pd.DataFrame(index = A,columns = B)\n",
        "matriz = matriz_NW(A,B,M,5)\n",
        "alinhamento = alinhamentos(A,B,matriz)\n",
        "write_alinhamentos('alinhamentos62.fasta',alinhamento,[cabecalho[6],cabecalho[2]])\n",
        "print(alinhamento[0])\n",
        "print()\n",
        "print(alinhamento[1])"
      ],
      "execution_count": null,
      "outputs": [
        {
          "output_type": "stream",
          "text": [
            "MFLILLISLPTAFAVIGDLKCTSDNINDKDTGPPPISTDTVDVTNGLGTYYVLDRVYLNTTLF-LNG-YYP-TSGST-YRNMALKGSVLLSRLWFKPPFLSDFINGI-FAKVKNTKVIKDRVMYSEFPAITIGSTFVNTSYSVVVQPRTINSTQD---G----DNKLQGL-LEVSV-CQYNMCEYPQTICHPNLGN-HRKELWHLDTGVVSCLYKRNFT-Y-DVNADYLYFHFYQE-GGTFYAY--FTD--TGV-VTKFLFNVYLGMALSHYYVMPLTCNSKLT---LEYWVTPLTSRQYLLAFNQDGIIFNAEDCMSDFMSEIKCKTQSIAPPTGVYELNGYTVQPIADVYRRKPNLPN-CNI-EAWLNDKSVPSPLNWERKTFSNCNFNMSSLMSFIQADSFTCNNIDAAKIYGMCFSSITIDKFAIPNGRKV-DLQLGNLGYLQSFNYRIDTTATSCQLYYNLPAANVSVSRFNPSTWNKRFGFIEDSVFKPRPAGVLTNHDVVYAQHCFKAPKNF-CPCKLNGSCVGSGPGKNNGIGTCPAGTNYLTCDNLCTPDPITFTGTYKCPQTKSLVGIGEHCSGLAVKSDYCGGNSCTCRPQAFLGWSADSCLQGDKCNIFANFILHDVNSGLTCSTD-LQKANTDIILGVCVNYDLYGILGQGIFVEVNATYYNSWQNLLYDSNGNLYGFRDYIINRTFMIRSCYSGRVSAAFHANSSEPALLFRNIKCNYVFNNSLTRQLQPINYFDSYLGCVVNAYNSTAISVQTCDLTVGSGYCVDYSKNRRS-RGAITTGYRFTNFEPFTVN-SVNDSLEPVGGLYEIQIPSEFTIGNMVEFIQTSSPKVTIDCAAFVCGDYAACKSQLVEYGSFCDNINAILTEVNELLD-TTQLQVANSLMNGVTLSTKLKDGVNFNVDDINFSPVLGCLGSECSKASSRSAIEDLLFDKVKLSDVGFVEAYNNCTGGAEIRDLICVQSYKGIKVLPPLLSENQISGYTLAATSASLFPPWT--A-AA-GVPFYLNVQYRINGLGVTMDVLSQNQKLIANAFNNALYAIQEGFDATNSALVKIQAVVNANAEALNNLLQQLSNRFGAISASLQEILSRLDALEAEAQIDRLINGRLTALNAYVSQQLSDSTLVKFSAAQAMEKVNECVKSQSSRINFCGNGNHIISLVQNAPYGLYFIHFSYVPTKYVTARVSPGLCIAGDRGIAPKSGYFVNVNNT-WMYTGSGYYYPEPITENNVVVMSTCAVNYTKAPYVMLNTSIPNLPDFKEELDQWFKNQTSVAPDL-SLDYINVTFLDLQVEMNRLQEAIKVLNQSYINLKDIGTYEYYVKWPWYVWLLICLAG-VAMLVLLFFICCCTGCGTSCFK---KCGGCCD-DYTGYQELVIK-TS-HDD\n",
            "\n",
            "MF-VFLVLLP----LVSS-QCV--NLTTR-TQLPPAYTNS--FTRGV--YYP-DKVFRSSVLHSTQDLFLPFFSNVTWFHAIHVSGTNGTKR--FDNPVL-PFNDGVYFASTEKSNIIRGWIFGTTLDSKTQSLLIVNNATNVVIKVCEFQFCNDPFLGVYYHKNNKSWMESEFRVYSSANNCTF-EYVSQPFLMDLEGKQ-GNF-KNLREFVFK-NIDGYFKIYSKHTPINLVRDLPQGFSALEPLVDLPIGINITR--FQT-L-LALHRSYLTPGDSSSGWTAGAAAYYVGYLQPRTFLLKYNENGTITDAVDCALDPLSETKCTLKSFTVEKGIYQTSNFRVQPTESIV-RFPNITNLCPFGEVF-NATRFASVYAWNRKRISNCVADYSVLYNSASFSTFKCYGVSPTKLNDLCFTNVYADSFVI-RGDEVRQIAPGQTGKIADYNYKLPDDFTGCVIAWN--SNNLD-SKVG-GNYNYLYRLFRKSNLKPFERDISTEIYQAGSTPC-NGVEGFNCYFPLQ-S-YGFQP--TNGVGYQPYRVVVLSFE-LLHA-PATVCGP-K-KST-NLVK-NK-C----VNFNF---NGLT--GTGVL--T-ES---NKKFLPFQQF-GRDI-AD-T--TDAVRDPQTLEILDI-TPCS-FG--GVSV-I-TPGT--NT-SNQV--A--VLY--QD--VN-------C-T-EVPVAIHADQLTPT--WR-V---Y----S-T-G-S--NVFQTRAGCLIGAEHVNN-SYE-CDIPIGAGICASYQTQTNSPRRARSVASQ--SIIAYTMSLGAENSV-AYSN-NSIAIPTNFTISVTTEILPVSMTKTSVDCTMYICGDSTECSNLLLQYGSFCTQLNRALTGIAVEQDKNTQ-EVF-AQVKQIYKTPPIKD---FG--GFNFSQI---L-PDPSKPSKRSFIEDLLFNKVTLADAGFIKQYGDCLGDIAARDLICAQKFNGLTVLPPLLTDEMIAQYTSALLAGTITSGWTFGAGAALQIPFAMQMAYRFNGIGVTQNVLYENQKLIANQFNSAIGKIQDSLSSTASALGKLQDVVNQNAQALNTLVKQLSSNFGAISSVLNDILSRLDKVEAEVQIDRLITGRLQSLQTYVTQQLIRAAEIRASANLAATKMSECVLGQSKRVDFCGKGYHLMSFPQSAPHGVVFLHVTYVPAQEKNFTTAPAICHDG-KAHFPREGVFVS-NGTHWFVTQRNFYEPQIITTDNTFVSGNCDVVIGIVNNTVYDPLQPELDSFKEELDKYFKNHTSPDVDLGDISGINASVVNIQKEIDRLNEVAKNLNESLIDLQELGKYEQYIKWPWYIWLGF-IAGLIAIVMVTIMLCCMTSC-CSCLKGCCSCGSCCKFDEDD-SEPVLKGVKLHYT\n"
          ],
          "name": "stdout"
        }
      ]
    },
    {
      "cell_type": "code",
      "metadata": {
        "id": "kgfnJqUTj49_",
        "outputId": "884bda5c-a25f-442c-fa36-73e78a9a121e"
      },
      "source": [
        "#plot('alinhamentos62.fasta') # descomentar e executar para gerar link e visualizar o alinhamento\n",
        "Image(\"newplot (4).png\") # amostra da visualização"
      ],
      "execution_count": null,
      "outputs": [
        {
          "output_type": "execute_result",
          "data": {
            "image/png": "[encoded data removed]",
            "text/plain": [
              "<IPython.core.display.Image object>"
            ]
          },
          "metadata": {
            "tags": []
          },
          "execution_count": 64
        }
      ]
    },
    {
      "cell_type": "markdown",
      "metadata": {
        "id": "aZFaEPDIyoHx"
      },
      "source": [
        "### Para teste do avaliador:\n"
      ]
    },
    {
      "cell_type": "code",
      "metadata": {
        "id": "apW_Ocp4ynbv"
      },
      "source": [
        "# ENTRAR VALORES PARA REALIZAR O ALINHAMENTO:\n",
        "nome_arquivo_origem = \"\"\n",
        "nome_arquivo_resultado = \"\"\n",
        "indel = 0\n",
        "\n",
        "#chamada das funções:\n",
        "sequencias,cabecalho = read_seq(nome_arquivo_origem)\n",
        "sequencias = list_chars(sequencias)\n",
        "A = sequencias[0]\n",
        "B = sequencias[1]\n",
        "A,B = list_chars([A,B])\n",
        "M = pd.DataFrame(index = A,columns = B)\n",
        "matriz = matriz_NW(A,B,M,indel)\n",
        "alms = alinhamentos(A,B,matriz)\n",
        "cabecalhos = [cabecalho[0],cabecalho[1]]\n",
        "\n",
        "#Armazenando arquivo resultado\n",
        "write_alinhamentos(nome_arquivo_resultado,alms,cabecalhos)\n",
        "\n",
        "#Plotando arquivo resultado\n",
        "plot(nome_arquivo_resultado)"
      ],
      "execution_count": null,
      "outputs": []
    }
  ]
}