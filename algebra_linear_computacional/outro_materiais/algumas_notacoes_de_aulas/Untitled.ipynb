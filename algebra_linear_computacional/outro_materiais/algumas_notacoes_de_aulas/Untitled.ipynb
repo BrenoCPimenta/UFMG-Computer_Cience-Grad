{
 "cells": [
  {
   "cell_type": "code",
   "execution_count": 1,
   "metadata": {},
   "outputs": [],
   "source": [
    "import numpy as np"
   ]
  },
  {
   "cell_type": "code",
   "execution_count": 2,
   "metadata": {},
   "outputs": [],
   "source": [
    "from scipy import linalg"
   ]
  },
  {
   "cell_type": "code",
   "execution_count": 7,
   "metadata": {},
   "outputs": [
    {
     "name": "stdout",
     "output_type": "stream",
     "text": [
      "Matrix U\n",
      " [[-6.32455532e-01  1.11022302e-16]\n",
      " [ 3.16227766e-01 -4.08248290e-01]\n",
      " [-3.16227766e-01 -4.08248290e-01]\n",
      " [ 6.32455532e-01 -1.11022302e-16]\n",
      " [-5.55111512e-17 -8.16496581e-01]]\n",
      "vector s\n",
      " [2.23606798 1.73205081]\n",
      "Matrix Vt\n",
      " [[-0.70710678  0.70710678]\n",
      " [-0.70710678 -0.70710678]]\n"
     ]
    }
   ],
   "source": [
    "A=np.array([[1,-1],[0,1], [1,0], [-1,1], [1,1]])\n",
    "#linalg.svd(A)\n",
    "\n",
    "\n",
    "U, s, Vt = linalg.svd(A, full_matrices=False)\n",
    "print('Matrix U\\n',U)\n",
    "print('vector s\\n',s)\n",
    "print('Matrix Vt\\n',Vt)"
   ]
  },
  {
   "cell_type": "code",
   "execution_count": 14,
   "metadata": {},
   "outputs": [
    {
     "name": "stdout",
     "output_type": "stream",
     "text": [
      "[[0.99984899 0.99984899]]\n"
     ]
    }
   ],
   "source": [
    "U=np.array([[0,(-1)*pow(2,0.5)]])\n",
    "S=np.array([[2.236, 0], [0,1]])\n",
    "V=np.array([[-0.707,0.707],[-0.707,-0.707]])\n",
    "\n",
    "D=U@S\n",
    "E=D@V\n",
    "\n",
    "print(E)"
   ]
  },
  {
   "cell_type": "code",
   "execution_count": 12,
   "metadata": {},
   "outputs": [
    {
     "data": {
      "text/plain": [
       "8.0"
      ]
     },
     "execution_count": 12,
     "metadata": {},
     "output_type": "execute_result"
    }
   ],
   "source": [
    "pow(64,0.5)"
   ]
  },
  {
   "cell_type": "code",
   "execution_count": null,
   "metadata": {},
   "outputs": [],
   "source": []
  }
 ],
 "metadata": {
  "kernelspec": {
   "display_name": "Python 3",
   "language": "python",
   "name": "python3"
  },
  "language_info": {
   "codemirror_mode": {
    "name": "ipython",
    "version": 3
   },
   "file_extension": ".py",
   "mimetype": "text/x-python",
   "name": "python",
   "nbconvert_exporter": "python",
   "pygments_lexer": "ipython3",
   "version": "3.7.0"
  }
 },
 "nbformat": 4,
 "nbformat_minor": 2
}
