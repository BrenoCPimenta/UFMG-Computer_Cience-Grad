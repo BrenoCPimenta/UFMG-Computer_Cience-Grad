{
 "cells": [
  {
   "cell_type": "markdown",
   "metadata": {},
   "source": [
    "# Aula 19-03-19"
   ]
  },
  {
   "cell_type": "code",
   "execution_count": 1,
   "metadata": {},
   "outputs": [],
   "source": [
    "import numpy as np\n",
    "from sklearn.datasets import fetch_20newsgroups\n",
    "from sklearn import decomposition\n",
    "from scipy import linalg\n",
    "import matplotlib.pyplot as plt"
   ]
  },
  {
   "cell_type": "code",
   "execution_count": 2,
   "metadata": {},
   "outputs": [],
   "source": [
    "%matplotlib inline\n",
    "np.set_printoptions(suppress=True)"
   ]
  },
  {
   "cell_type": "code",
   "execution_count": 5,
   "metadata": {},
   "outputs": [
    {
     "name": "stdout",
     "output_type": "stream",
     "text": [
      "Matrix U\n",
      " [[-0.89442719 -0.4472136 ]\n",
      " [-0.4472136   0.89442719]]\n",
      "vector s\n",
      " [3.16227766 0.        ]\n",
      "Matrix Vt\n",
      " [[-0.70710678 -0.70710678]\n",
      " [-0.70710678  0.70710678]]\n"
     ]
    }
   ],
   "source": [
    "A=np.array([[2,2],[1,1]])\n",
    "#linalg.svd(A)\n",
    "U, s, Vt = linalg.svd(A, full_matrices=False)\n",
    "print('Matrix U\\n',U)\n",
    "print('vector s\\n',s)\n",
    "print('Matrix Vt\\n',Vt)"
   ]
  },
  {
   "cell_type": "markdown",
   "metadata": {},
   "source": [
    "Exemplo dos filmes:<br>\n",
    "as linhas de A representam os filmes e as colunas os usuarios."
   ]
  },
  {
   "cell_type": "code",
   "execution_count": 6,
   "metadata": {},
   "outputs": [
    {
     "name": "stdout",
     "output_type": "stream",
     "text": [
      "Matrix U\n",
      " [[-0.138  0.024 -0.011 -0.56   0.376]\n",
      " [-0.413  0.071 -0.032 -0.206 -0.756]\n",
      " [-0.55   0.094 -0.043  0.725  0.185]\n",
      " [-0.688  0.118 -0.054 -0.344  0.231]\n",
      " [-0.153 -0.591  0.654 -0.     0.2  ]\n",
      " [-0.072 -0.731 -0.678  0.     0.   ]\n",
      " [-0.076 -0.296  0.327 -0.    -0.4  ]]\n",
      "vector s\n",
      " [12.481  9.509  1.346  0.     0.   ]\n",
      "Matrix Vt\n",
      " [[-0.562 -0.593 -0.562 -0.09  -0.09 ]\n",
      " [ 0.127 -0.029  0.127 -0.695 -0.695]\n",
      " [-0.41   0.805 -0.41  -0.091 -0.091]\n",
      " [ 0.707 -0.    -0.707 -0.     0.   ]\n",
      " [ 0.    -0.     0.    -0.707  0.707]]\n"
     ]
    }
   ],
   "source": [
    "np.set_printoptions(precision=3)\n",
    "A = np.array([\n",
    "    [1,1,1,0,0],\n",
    "    [3,3,3,0,0],\n",
    "    [4,4,4,0,0],\n",
    "    [5,5,5,0,0],\n",
    "    [0,2,0,4,4],\n",
    "    [0,0,0,5,5],\n",
    "    [0,1,0,2,2]\n",
    "])\n",
    "U, s, Vt = linalg.svd(A, full_matrices=False)\n",
    "print('Matrix U\\n',U)\n",
    "print('vector s\\n',s)\n",
    "print('Matrix Vt\\n',Vt)"
   ]
  },
  {
   "cell_type": "markdown",
   "metadata": {},
   "source": [
    "Percebe-se pela matriz sigma que só será multiplicado as 3 primeiras colunas de U para o calculo de A... As linhas de U representam os filmes. <br>\n",
    "As linhas da matriz V representara os usuarios"
   ]
  }
 ],
 "metadata": {
  "kernelspec": {
   "display_name": "Python 3",
   "language": "python",
   "name": "python3"
  },
  "language_info": {
   "codemirror_mode": {
    "name": "ipython",
    "version": 3
   },
   "file_extension": ".py",
   "mimetype": "text/x-python",
   "name": "python",
   "nbconvert_exporter": "python",
   "pygments_lexer": "ipython3",
   "version": "3.7.1"
  }
 },
 "nbformat": 4,
 "nbformat_minor": 2
}
