{
 "cells": [
  {
   "cell_type": "code",
   "execution_count": 1,
   "metadata": {},
   "outputs": [],
   "source": [
    "import numpy as np\n",
    "import math"
   ]
  },
  {
   "cell_type": "code",
   "execution_count": 2,
   "metadata": {},
   "outputs": [],
   "source": [
    "def aproxOrtonormErroFrobIdentidade(m):\n",
    "    #(i)\n",
    "    W = np.random.randn(m,4)\n",
    "    #(ii)\n",
    "    Wnormalized = W / math.sqrt(m)\n",
    "    #(iii)\n",
    "    Z = Wnormalized.T @ Wnormalized\n",
    "    #print(Z)\n",
    "    #(iv)\n",
    "    frobenius_Z_I = np.linalg.norm(Z-np.eye(4), ord='fro') \n",
    "    return frobenius_Z_I;"
   ]
  },
  {
   "cell_type": "code",
   "execution_count": 3,
   "metadata": {},
   "outputs": [
    {
     "ename": "NameError",
     "evalue": "name 'funcaoEx1' is not defined",
     "output_type": "error",
     "traceback": [
      "\u001b[1;31m---------------------------------------------------------------------------\u001b[0m",
      "\u001b[1;31mNameError\u001b[0m                                 Traceback (most recent call last)",
      "\u001b[1;32m<ipython-input-3-f3f2bd622379>\u001b[0m in \u001b[0;36m<module>\u001b[1;34m()\u001b[0m\n\u001b[1;32m----> 1\u001b[1;33m \u001b[0mfuncaoEx1\u001b[0m\u001b[1;33m(\u001b[0m\u001b[1;36m100\u001b[0m\u001b[1;33m)\u001b[0m\u001b[1;33m\u001b[0m\u001b[0m\n\u001b[0m",
      "\u001b[1;31mNameError\u001b[0m: name 'funcaoEx1' is not defined"
     ]
    }
   ],
   "source": [
    "funcaoEx1(100)"
   ]
  },
  {
   "cell_type": "code",
   "execution_count": null,
   "metadata": {},
   "outputs": [],
   "source": [
    "maior = 0\n",
    "menor = 0\n",
    "soma = 0\n",
    "\n",
    "for i in range(1,100000):\n",
    "    x = funcaoEx1(10000)\n",
    "    if(x>maior):\n",
    "        maior = x\n",
    "    if(x<menor):\n",
    "        menor = x\n",
    "    soma+=x\n",
    "    \n",
    "    \n",
    "        \n",
    "print(\"maior\", maior)\n",
    "print(\"menor\", menor)\n",
    "print(\"media\", soma/100000)"
   ]
  },
  {
   "cell_type": "code",
   "execution_count": null,
   "metadata": {},
   "outputs": [],
   "source": [
    "maior = 0\n",
    "menor = 0\n",
    "soma = 0\n",
    "\n",
    "for i in range(1,100000):\n",
    "    x = funcaoEx1(100)\n",
    "    if(x>maior):\n",
    "        maior = x\n",
    "    if(x<menor):\n",
    "        menor = x\n",
    "    soma += x\n",
    "        \n",
    "print(\"maior\", maior)\n",
    "print(\"menor\", menor)\n",
    "print(\"media\", soma/100000)"
   ]
  },
  {
   "cell_type": "code",
   "execution_count": null,
   "metadata": {},
   "outputs": [],
   "source": []
  },
  {
   "cell_type": "code",
   "execution_count": null,
   "metadata": {},
   "outputs": [],
   "source": []
  },
  {
   "cell_type": "code",
   "execution_count": null,
   "metadata": {},
   "outputs": [],
   "source": []
  },
  {
   "cell_type": "code",
   "execution_count": null,
   "metadata": {},
   "outputs": [],
   "source": [
    "m = 10\n",
    "np.set_printoptions(precision=2) \n",
    "W = np.random.randn(m,4)\n",
    "print(W)\n",
    "print()\n",
    "print()\n",
    "print()\n",
    "print()\n",
    "Wnormalized = W / math.sqrt(m)\n",
    "print(Wnormalized)\n",
    "print()\n",
    "print()\n",
    "print()\n",
    "print()\n",
    "Z = Wnormalized.T @ Wnormalized\n",
    "print(Z)"
   ]
  },
  {
   "cell_type": "code",
   "execution_count": null,
   "metadata": {},
   "outputs": [],
   "source": []
  },
  {
   "cell_type": "code",
   "execution_count": null,
   "metadata": {},
   "outputs": [],
   "source": []
  },
  {
   "cell_type": "code",
   "execution_count": null,
   "metadata": {},
   "outputs": [],
   "source": []
  },
  {
   "cell_type": "code",
   "execution_count": null,
   "metadata": {},
   "outputs": [],
   "source": [
    "funcaoEx1(4)"
   ]
  },
  {
   "cell_type": "code",
   "execution_count": null,
   "metadata": {},
   "outputs": [],
   "source": [
    "funcaoEx1(4)"
   ]
  },
  {
   "cell_type": "code",
   "execution_count": null,
   "metadata": {},
   "outputs": [],
   "source": [
    "funcaoEx1(4)"
   ]
  },
  {
   "cell_type": "code",
   "execution_count": null,
   "metadata": {},
   "outputs": [],
   "source": [
    "funcaoEx1(4)"
   ]
  },
  {
   "cell_type": "code",
   "execution_count": null,
   "metadata": {},
   "outputs": [],
   "source": []
  },
  {
   "cell_type": "code",
   "execution_count": null,
   "metadata": {},
   "outputs": [],
   "source": []
  },
  {
   "cell_type": "code",
   "execution_count": null,
   "metadata": {},
   "outputs": [],
   "source": []
  },
  {
   "cell_type": "code",
   "execution_count": null,
   "metadata": {},
   "outputs": [],
   "source": []
  },
  {
   "cell_type": "code",
   "execution_count": null,
   "metadata": {},
   "outputs": [],
   "source": []
  },
  {
   "cell_type": "code",
   "execution_count": null,
   "metadata": {},
   "outputs": [],
   "source": []
  },
  {
   "cell_type": "code",
   "execution_count": null,
   "metadata": {},
   "outputs": [],
   "source": [
    "Y = np.array([[1,2],[3,4]])\n",
    "print(Y/2)"
   ]
  },
  {
   "cell_type": "code",
   "execution_count": null,
   "metadata": {},
   "outputs": [],
   "source": [
    "np.eye(4)"
   ]
  },
  {
   "cell_type": "code",
   "execution_count": null,
   "metadata": {},
   "outputs": [],
   "source": []
  },
  {
   "cell_type": "code",
   "execution_count": null,
   "metadata": {},
   "outputs": [],
   "source": []
  },
  {
   "cell_type": "code",
   "execution_count": null,
   "metadata": {},
   "outputs": [],
   "source": []
  },
  {
   "cell_type": "code",
   "execution_count": null,
   "metadata": {},
   "outputs": [],
   "source": []
  },
  {
   "cell_type": "code",
   "execution_count": null,
   "metadata": {},
   "outputs": [],
   "source": []
  },
  {
   "cell_type": "code",
   "execution_count": 84,
   "metadata": {},
   "outputs": [],
   "source": [
    "X = np.array([[90, 80, 60, 95],\n",
    "              [65, 75, 90, 70],\n",
    "              [40, 90, 60, 55],\n",
    "              [80, 60, 59, 75],\n",
    "              [60, 100, 80, 80]])\n",
    "             "
   ]
  },
  {
   "cell_type": "code",
   "execution_count": 85,
   "metadata": {},
   "outputs": [],
   "source": [
    "X = X.T"
   ]
  },
  {
   "cell_type": "code",
   "execution_count": 88,
   "metadata": {},
   "outputs": [],
   "source": [
    "m,n = X.shape\n",
    "mu = np.mean(X,axis=1)\n",
    "Mu = np.reshape(np.repeat(mu,n),(m,n))\n",
    "X_centered = (X-Mu)\n",
    "X_cov = X_centered@X_centered.T"
   ]
  },
  {
   "cell_type": "code",
   "execution_count": 89,
   "metadata": {},
   "outputs": [
    {
     "data": {
      "text/plain": [
       "array([[ 370.  , -165.  ,  -53.25,  243.75],\n",
       "       [-165.  ,  230.  ,   55.25,  -18.75],\n",
       "       [ -53.25,   55.25,  205.2 ,  -12.5 ],\n",
       "       [ 243.75,  -18.75,  -12.5 ,  212.5 ]])"
      ]
     },
     "execution_count": 89,
     "metadata": {},
     "output_type": "execute_result"
    }
   ],
   "source": [
    "X_cov/4"
   ]
  },
  {
   "cell_type": "code",
   "execution_count": 7,
   "metadata": {},
   "outputs": [
    {
     "data": {
      "text/plain": [
       "array([[ 370.  , -165.  ,  -53.25,  243.75],\n",
       "       [-165.  ,  230.  ,   55.25,  -18.75],\n",
       "       [ -53.25,   55.25,  205.2 ,  -12.5 ],\n",
       "       [ 243.75,  -18.75,  -12.5 ,  212.5 ]])"
      ]
     },
     "execution_count": 7,
     "metadata": {},
     "output_type": "execute_result"
    }
   ],
   "source": [
    "#np . s e t p r i n t o p t i o n s ( p r e c i s i o n =1)\n",
    "np.cov (X.T, ddof =1)"
   ]
  },
  {
   "cell_type": "code",
   "execution_count": 17,
   "metadata": {},
   "outputs": [
    {
     "data": {
      "text/plain": [
       "array([[27125, 23900, 19625, 22665, 25800],\n",
       "       [23900, 22850, 18600, 20260, 24200],\n",
       "       [19625, 18600, 16325, 16265, 20600],\n",
       "       [22665, 20260, 16265, 19106, 21520],\n",
       "       [25800, 24200, 20600, 21520, 26400]])"
      ]
     },
     "execution_count": 17,
     "metadata": {},
     "output_type": "execute_result"
    }
   ],
   "source": [
    "X@X.T"
   ]
  },
  {
   "cell_type": "code",
   "execution_count": 35,
   "metadata": {},
   "outputs": [],
   "source": [
    "X = X.T"
   ]
  },
  {
   "cell_type": "code",
   "execution_count": 38,
   "metadata": {},
   "outputs": [
    {
     "data": {
      "text/plain": [
       "array([[81.25, 81.25, 81.25, 81.25],\n",
       "       [75.  , 75.  , 75.  , 75.  ],\n",
       "       [61.25, 61.25, 61.25, 61.25],\n",
       "       [68.5 , 68.5 , 68.5 , 68.5 ],\n",
       "       [80.  , 80.  , 80.  , 80.  ]])"
      ]
     },
     "execution_count": 38,
     "metadata": {},
     "output_type": "execute_result"
    }
   ],
   "source": [
    "m,n = X.shape\n",
    "mu = np.mean(X,axis=1)\n",
    "# Alternativa 1\n",
    "Mu = mu.repeat(n).reshape((m,n))\n",
    "# Alternativa 2\n",
    "Mu = np.reshape(np.repeat(mu,n),(m,n))\n",
    "Mu"
   ]
  },
  {
   "cell_type": "code",
   "execution_count": 39,
   "metadata": {},
   "outputs": [
    {
     "data": {
      "text/plain": [
       "array([[  8.75,  -1.25, -21.25,  13.75],\n",
       "       [-10.  ,   0.  ,  15.  ,  -5.  ],\n",
       "       [-21.25,  28.75,  -1.25,  -6.25],\n",
       "       [ 11.5 ,  -8.5 ,  -9.5 ,   6.5 ],\n",
       "       [-20.  ,  20.  ,   0.  ,   0.  ]])"
      ]
     },
     "execution_count": 39,
     "metadata": {},
     "output_type": "execute_result"
    }
   ],
   "source": [
    "X_centered = X-Mu\n",
    "X_centered"
   ]
  },
  {
   "cell_type": "code",
   "execution_count": 44,
   "metadata": {},
   "outputs": [],
   "source": [
    "X_centered = X/4"
   ]
  },
  {
   "cell_type": "code",
   "execution_count": 46,
   "metadata": {},
   "outputs": [
    {
     "data": {
      "text/plain": [
       "array([[1495.3125, 1654.6875, 1448.125 , 1631.25  ],\n",
       "       [1654.6875, 2107.8125, 1780.625 , 1893.75  ],\n",
       "       [1448.125 , 1780.625 , 1573.8125, 1632.8125],\n",
       "       [1631.25  , 1893.75  , 1632.8125, 1810.9375]])"
      ]
     },
     "execution_count": 46,
     "metadata": {},
     "output_type": "execute_result"
    }
   ],
   "source": [
    "X_centered.T@X_centered"
   ]
  },
  {
   "cell_type": "code",
   "execution_count": 12,
   "metadata": {},
   "outputs": [
    {
     "data": {
      "text/plain": [
       "0.0"
      ]
     },
     "execution_count": 12,
     "metadata": {},
     "output_type": "execute_result"
    }
   ],
   "source": [
    "np.sum(X_centered[1,:])"
   ]
  },
  {
   "cell_type": "code",
   "execution_count": 13,
   "metadata": {},
   "outputs": [
    {
     "data": {
      "text/plain": [
       "array([17.20465053, 13.56465997, 12.8124939 , 13.03840481])"
      ]
     },
     "execution_count": 13,
     "metadata": {},
     "output_type": "execute_result"
    }
   ],
   "source": [
    "sigma = np.std(X_centered, axis=1)\n",
    "sigma"
   ]
  },
  {
   "cell_type": "code",
   "execution_count": 14,
   "metadata": {},
   "outputs": [
    {
     "data": {
      "text/plain": [
       "array([[ 1.33684785, -0.11624764, -1.56934312,  0.75560965, -0.40686674],\n",
       "       [-0.07372098, -0.44232587,  0.6634888 , -1.54814054,  1.40069858],\n",
       "       [-0.76487841,  1.57658612, -0.76487841, -0.84292723,  0.79609794],\n",
       "       [ 1.53392998, -0.38348249, -1.53392998,  0.        ,  0.38348249]])"
      ]
     },
     "execution_count": 14,
     "metadata": {},
     "output_type": "execute_result"
    }
   ],
   "source": [
    "Sigma = sigma.repeat(n).reshape((m,n))\n",
    "X_normalized = X_centered/Sigma\n",
    "X_normalized"
   ]
  },
  {
   "cell_type": "code",
   "execution_count": null,
   "metadata": {},
   "outputs": [],
   "source": [
    "print(Sigma)"
   ]
  },
  {
   "cell_type": "code",
   "execution_count": 15,
   "metadata": {},
   "outputs": [
    {
     "data": {
      "text/plain": [
       "array([[ 5.        , -2.82806358, -0.96627352,  4.34644611],\n",
       "       [-2.82806358,  5.        ,  1.27159757, -0.42406057],\n",
       "       [-0.96627352,  1.27159757,  5.        , -0.29930355],\n",
       "       [ 4.34644611, -0.42406057, -0.29930355,  5.        ]])"
      ]
     },
     "execution_count": 15,
     "metadata": {},
     "output_type": "execute_result"
    }
   ],
   "source": [
    "X_normalized@X_normalized.T"
   ]
  },
  {
   "cell_type": "code",
   "execution_count": null,
   "metadata": {},
   "outputs": [],
   "source": []
  },
  {
   "cell_type": "code",
   "execution_count": null,
   "metadata": {},
   "outputs": [],
   "source": []
  },
  {
   "cell_type": "code",
   "execution_count": null,
   "metadata": {},
   "outputs": [],
   "source": [
    "ortogonal = np.array([[1,1,1],\n",
    "                      [1,0,-2],\n",
    "                      [1,-1,1]])\n",
    "print(ortogonal@ortogonal.T)"
   ]
  },
  {
   "cell_type": "code",
   "execution_count": null,
   "metadata": {},
   "outputs": [],
   "source": [
    "import math"
   ]
  },
  {
   "cell_type": "code",
   "execution_count": null,
   "metadata": {},
   "outputs": [],
   "source": [
    "x = 1/math.sqrt(3)\n",
    "y = 1/math.sqrt(2)\n",
    "z = 1/math.sqrt(6)\n",
    "\n",
    "ortonormal = np.array([[x,y,z],\n",
    "                      [x,0,(-2*z)],\n",
    "                      [x,-y,z]])\n",
    "print(ortonormal@ortonormal.T)"
   ]
  }
 ],
 "metadata": {
  "kernelspec": {
   "display_name": "Python 3",
   "language": "python",
   "name": "python3"
  },
  "language_info": {
   "codemirror_mode": {
    "name": "ipython",
    "version": 3
   },
   "file_extension": ".py",
   "mimetype": "text/x-python",
   "name": "python",
   "nbconvert_exporter": "python",
   "pygments_lexer": "ipython3",
   "version": "3.7.0"
  }
 },
 "nbformat": 4,
 "nbformat_minor": 2
}
