{
 "cells": [
  {
   "cell_type": "code",
   "execution_count": 12,
   "metadata": {},
   "outputs": [],
   "source": [
    "import numpy as np\n",
    "import math"
   ]
  },
  {
   "cell_type": "code",
   "execution_count": 13,
   "metadata": {},
   "outputs": [],
   "source": [
    "def funcaoEx1(m):\n",
    "    #(i)\n",
    "    W = np.random.randn(m,4)\n",
    "    #(ii)\n",
    "    Wnormalized = W / math.sqrt(m)\n",
    "    #(iii)\n",
    "    Z = Wnormalized.T @ Wnormalized\n",
    "    #print(Z)\n",
    "    #(iv)\n",
    "    frobenius_Z_I = np.linalg.norm(Z-np.eye(4), ord='fro') \n",
    "    return frobenius_Z_I;"
   ]
  },
  {
   "cell_type": "code",
   "execution_count": 14,
   "metadata": {},
   "outputs": [
    {
     "data": {
      "text/plain": [
       "0.5015081758543243"
      ]
     },
     "execution_count": 14,
     "metadata": {},
     "output_type": "execute_result"
    }
   ],
   "source": [
    "funcaoEx1(100)"
   ]
  },
  {
   "cell_type": "code",
   "execution_count": 23,
   "metadata": {},
   "outputs": [
    {
     "name": "stdout",
     "output_type": "stream",
     "text": [
      "maior 0.09321424537020075\n",
      "menor 0\n",
      "media 0.043649528608707494\n"
     ]
    }
   ],
   "source": [
    "maior = 0\n",
    "menor = 0\n",
    "soma = 0\n",
    "\n",
    "for i in range(1,100000):\n",
    "    x = funcaoEx1(10000)\n",
    "    if(x>maior):\n",
    "        maior = x\n",
    "    if(x<menor):\n",
    "        menor = x\n",
    "    soma+=x\n",
    "    \n",
    "    \n",
    "        \n",
    "print(\"maior\", maior)\n",
    "print(\"menor\", menor)\n",
    "print(\"media\", soma/100000)"
   ]
  },
  {
   "cell_type": "code",
   "execution_count": 16,
   "metadata": {},
   "outputs": [
    {
     "name": "stdout",
     "output_type": "stream",
     "text": [
      "maior 1.0920240707792088\n",
      "menor 0\n",
      "media 0.4347154306436086\n"
     ]
    }
   ],
   "source": [
    "maior = 0\n",
    "menor = 0\n",
    "soma = 0\n",
    "\n",
    "for i in range(1,100000):\n",
    "    x = funcaoEx1(100)\n",
    "    if(x>maior):\n",
    "        maior = x\n",
    "    if(x<menor):\n",
    "        menor = x\n",
    "    soma += x\n",
    "        \n",
    "print(\"maior\", maior)\n",
    "print(\"menor\", menor)\n",
    "print(\"media\", soma/100000)"
   ]
  },
  {
   "cell_type": "code",
   "execution_count": null,
   "metadata": {},
   "outputs": [],
   "source": []
  },
  {
   "cell_type": "code",
   "execution_count": null,
   "metadata": {},
   "outputs": [],
   "source": []
  },
  {
   "cell_type": "code",
   "execution_count": null,
   "metadata": {},
   "outputs": [],
   "source": []
  },
  {
   "cell_type": "code",
   "execution_count": 53,
   "metadata": {},
   "outputs": [
    {
     "name": "stdout",
     "output_type": "stream",
     "text": [
      "[[ 0.4  -0.39  0.05  0.66]\n",
      " [ 0.67 -1.59 -0.4   0.58]\n",
      " [-0.47  0.51 -0.84 -0.42]\n",
      " [-0.39  0.57 -0.68 -0.09]\n",
      " [-0.27 -0.06  0.22 -0.15]\n",
      " [ 0.85 -1.56  0.58  0.85]\n",
      " [-0.29 -2.26 -0.1   0.39]\n",
      " [ 0.1   2.28  1.72  0.57]\n",
      " [ 0.76  0.46 -0.18 -0.33]\n",
      " [-0.25  0.13 -1.    0.17]]\n",
      "\n",
      "\n",
      "\n",
      "\n",
      "[[ 0.13 -0.12  0.02  0.21]\n",
      " [ 0.21 -0.5  -0.13  0.18]\n",
      " [-0.15  0.16 -0.26 -0.13]\n",
      " [-0.12  0.18 -0.21 -0.03]\n",
      " [-0.09 -0.02  0.07 -0.05]\n",
      " [ 0.27 -0.49  0.18  0.27]\n",
      " [-0.09 -0.72 -0.03  0.12]\n",
      " [ 0.03  0.72  0.54  0.18]\n",
      " [ 0.24  0.15 -0.06 -0.11]\n",
      " [-0.08  0.04 -0.32  0.05]]\n",
      "\n",
      "\n",
      "\n",
      "\n",
      "[[ 0.25 -0.18  0.11  0.13]\n",
      " [-0.18  1.63  0.28 -0.25]\n",
      " [ 0.11  0.28  0.57  0.15]\n",
      " [ 0.13 -0.25  0.15  0.23]]\n"
     ]
    }
   ],
   "source": [
    "m = 10\n",
    "np.set_printoptions(precision=2) \n",
    "W = np.random.randn(m,4)\n",
    "print(W)\n",
    "print()\n",
    "print()\n",
    "print()\n",
    "print()\n",
    "Wnormalized = W / math.sqrt(m)\n",
    "print(Wnormalized)\n",
    "print()\n",
    "print()\n",
    "print()\n",
    "print()\n",
    "Z = Wnormalized.T @ Wnormalized\n",
    "print(Z)"
   ]
  },
  {
   "cell_type": "code",
   "execution_count": null,
   "metadata": {},
   "outputs": [],
   "source": []
  },
  {
   "cell_type": "code",
   "execution_count": null,
   "metadata": {},
   "outputs": [],
   "source": []
  },
  {
   "cell_type": "code",
   "execution_count": null,
   "metadata": {},
   "outputs": [],
   "source": []
  },
  {
   "cell_type": "code",
   "execution_count": 17,
   "metadata": {},
   "outputs": [
    {
     "data": {
      "text/plain": [
       "1.7148694997767462"
      ]
     },
     "execution_count": 17,
     "metadata": {},
     "output_type": "execute_result"
    }
   ],
   "source": [
    "funcaoEx1(4)"
   ]
  },
  {
   "cell_type": "code",
   "execution_count": 18,
   "metadata": {},
   "outputs": [
    {
     "data": {
      "text/plain": [
       "2.1145503270802273"
      ]
     },
     "execution_count": 18,
     "metadata": {},
     "output_type": "execute_result"
    }
   ],
   "source": [
    "funcaoEx1(4)"
   ]
  },
  {
   "cell_type": "code",
   "execution_count": 19,
   "metadata": {},
   "outputs": [
    {
     "data": {
      "text/plain": [
       "1.6977732874558495"
      ]
     },
     "execution_count": 19,
     "metadata": {},
     "output_type": "execute_result"
    }
   ],
   "source": [
    "funcaoEx1(4)"
   ]
  },
  {
   "cell_type": "code",
   "execution_count": 20,
   "metadata": {},
   "outputs": [
    {
     "data": {
      "text/plain": [
       "1.643034383037476"
      ]
     },
     "execution_count": 20,
     "metadata": {},
     "output_type": "execute_result"
    }
   ],
   "source": [
    "funcaoEx1(4)"
   ]
  },
  {
   "cell_type": "code",
   "execution_count": null,
   "metadata": {},
   "outputs": [],
   "source": []
  },
  {
   "cell_type": "code",
   "execution_count": null,
   "metadata": {},
   "outputs": [],
   "source": []
  },
  {
   "cell_type": "code",
   "execution_count": null,
   "metadata": {},
   "outputs": [],
   "source": []
  },
  {
   "cell_type": "code",
   "execution_count": null,
   "metadata": {},
   "outputs": [],
   "source": []
  },
  {
   "cell_type": "code",
   "execution_count": null,
   "metadata": {},
   "outputs": [],
   "source": []
  },
  {
   "cell_type": "code",
   "execution_count": null,
   "metadata": {},
   "outputs": [],
   "source": []
  },
  {
   "cell_type": "code",
   "execution_count": 21,
   "metadata": {},
   "outputs": [
    {
     "name": "stdout",
     "output_type": "stream",
     "text": [
      "[[0.5 1. ]\n",
      " [1.5 2. ]]\n"
     ]
    }
   ],
   "source": [
    "Y = np.array([[1,2],[3,4]])\n",
    "print(Y/2)"
   ]
  },
  {
   "cell_type": "code",
   "execution_count": 22,
   "metadata": {},
   "outputs": [
    {
     "data": {
      "text/plain": [
       "array([[1., 0., 0., 0.],\n",
       "       [0., 1., 0., 0.],\n",
       "       [0., 0., 1., 0.],\n",
       "       [0., 0., 0., 1.]])"
      ]
     },
     "execution_count": 22,
     "metadata": {},
     "output_type": "execute_result"
    }
   ],
   "source": [
    "np.eye(4)"
   ]
  },
  {
   "cell_type": "code",
   "execution_count": null,
   "metadata": {},
   "outputs": [],
   "source": []
  },
  {
   "cell_type": "code",
   "execution_count": null,
   "metadata": {},
   "outputs": [],
   "source": []
  },
  {
   "cell_type": "code",
   "execution_count": null,
   "metadata": {},
   "outputs": [],
   "source": []
  },
  {
   "cell_type": "code",
   "execution_count": null,
   "metadata": {},
   "outputs": [],
   "source": []
  },
  {
   "cell_type": "code",
   "execution_count": null,
   "metadata": {},
   "outputs": [],
   "source": []
  },
  {
   "cell_type": "code",
   "execution_count": 54,
   "metadata": {},
   "outputs": [],
   "source": [
    "X = np.array([[90, 80, 60, 95],\n",
    "              [65, 75, 90, 70],\n",
    "              [40, 90, 60, 55],\n",
    "              [80, 60, 59, 75],\n",
    "              [60, 100, 80, 80]])\n",
    "             "
   ]
  },
  {
   "cell_type": "code",
   "execution_count": 64,
   "metadata": {},
   "outputs": [
    {
     "data": {
      "text/plain": [
       "array([[81.25, 81.25, 81.25, 81.25],\n",
       "       [75.  , 75.  , 75.  , 75.  ],\n",
       "       [61.25, 61.25, 61.25, 61.25],\n",
       "       [68.5 , 68.5 , 68.5 , 68.5 ],\n",
       "       [80.  , 80.  , 80.  , 80.  ]])"
      ]
     },
     "execution_count": 64,
     "metadata": {},
     "output_type": "execute_result"
    }
   ],
   "source": [
    "m,n = X.shape\n",
    "# Alternativa 1\n",
    "Mu = mu.repeat(n).reshape((m,n))\n",
    "# Alternativa 2\n",
    "Mu = np.reshape(np.repeat(mu,n),(m,n))\n",
    "Mu"
   ]
  },
  {
   "cell_type": "code",
   "execution_count": 65,
   "metadata": {},
   "outputs": [
    {
     "data": {
      "text/plain": [
       "array([[  8.75,  -1.25, -21.25,  13.75],\n",
       "       [-10.  ,   0.  ,  15.  ,  -5.  ],\n",
       "       [-21.25,  28.75,  -1.25,  -6.25],\n",
       "       [ 11.5 ,  -8.5 ,  -9.5 ,   6.5 ],\n",
       "       [-20.  ,  20.  ,   0.  ,   0.  ]])"
      ]
     },
     "execution_count": 65,
     "metadata": {},
     "output_type": "execute_result"
    }
   ],
   "source": [
    "X_centered = X-Mu\n",
    "X_centered"
   ]
  },
  {
   "cell_type": "code",
   "execution_count": 66,
   "metadata": {},
   "outputs": [
    {
     "data": {
      "text/plain": [
       "array([13.4 ,  9.35, 18.16,  9.18, 14.14])"
      ]
     },
     "execution_count": 66,
     "metadata": {},
     "output_type": "execute_result"
    }
   ],
   "source": [
    "sigma = np.std(X_centered, axis=1)\n",
    "sigma"
   ]
  },
  {
   "cell_type": "code",
   "execution_count": 67,
   "metadata": {},
   "outputs": [
    {
     "data": {
      "text/plain": [
       "array([[  8.75,  -1.25, -21.25,  13.75],\n",
       "       [-10.  ,   0.  ,  15.  ,  -5.  ],\n",
       "       [-21.25,  28.75,  -1.25,  -6.25],\n",
       "       [ 11.5 ,  -8.5 ,  -9.5 ,   6.5 ],\n",
       "       [-20.  ,  20.  ,   0.  ,   0.  ]])"
      ]
     },
     "execution_count": 67,
     "metadata": {},
     "output_type": "execute_result"
    }
   ],
   "source": [
    "Sigma = sigma.repeat(n).reshape((m,n))\n",
    "X_normalized = X_centered/Sigma\n",
    "X_normalized = X_centered\n",
    "X_normalized"
   ]
  },
  {
   "cell_type": "code",
   "execution_count": null,
   "metadata": {},
   "outputs": [],
   "source": []
  }
 ],
 "metadata": {
  "kernelspec": {
   "display_name": "Python 3",
   "language": "python",
   "name": "python3"
  },
  "language_info": {
   "codemirror_mode": {
    "name": "ipython",
    "version": 3
   },
   "file_extension": ".py",
   "mimetype": "text/x-python",
   "name": "python",
   "nbconvert_exporter": "python",
   "pygments_lexer": "ipython3",
   "version": "3.7.0"
  }
 },
 "nbformat": 4,
 "nbformat_minor": 2
}
