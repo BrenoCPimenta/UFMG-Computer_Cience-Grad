{
 "cells": [
  {
   "cell_type": "markdown",
   "metadata": {},
   "source": [
    "Before you turn this problem in, make sure everything runs as expected. First, **restart the kernel** (in the menubar, select Kernel$\\rightarrow$Restart) and then **run all cells** (in the menubar, select Cell$\\rightarrow$Run All).\n",
    "\n",
    "Make sure you fill in any place that says `YOUR CODE HERE` or \"YOUR ANSWER HERE\", as well as your name and collaborators below:"
   ]
  },
  {
   "cell_type": "code",
   "execution_count": 2,
   "metadata": {},
   "outputs": [],
   "source": [
    "NAME = \"Breno de Castro Pimenta\"\n",
    "COLLABORATORS = \"\""
   ]
  },
  {
   "cell_type": "markdown",
   "metadata": {},
   "source": [
    "---"
   ]
  },
  {
   "cell_type": "markdown",
   "metadata": {
    "deletable": false,
    "editable": false,
    "nbgrader": {
     "checksum": "d28ee5707e40ad1202c1067e58cfff97",
     "grade": false,
     "grade_id": "cell-4fa496f287deac73",
     "locked": true,
     "schema_version": 1,
     "solution": false
    }
   },
   "source": [
    "# Exercício Prático 2: SVD truncado\n",
    "\n",
    "Neste exercício vamos estudar as aproximações obtidas pelo SVD truncado. Vamos começar carregando os dados do 20_newsgroups, conforme visto em sala."
   ]
  },
  {
   "cell_type": "code",
   "execution_count": 3,
   "metadata": {
    "deletable": false,
    "editable": false,
    "nbgrader": {
     "checksum": "706006544d7257fac71916e2243a056e",
     "grade": false,
     "grade_id": "cell-893ffaa91c1d2825",
     "locked": true,
     "schema_version": 1,
     "solution": false
    }
   },
   "outputs": [],
   "source": [
    "import numpy as np\n",
    "from sklearn.datasets import fetch_20newsgroups\n",
    "from sklearn import decomposition\n",
    "from scipy import linalg\n",
    "import matplotlib.pyplot as plt\n",
    "from sklearn.feature_extraction.text import CountVectorizer\n",
    "%matplotlib inline\n",
    "np.set_printoptions(suppress=True)"
   ]
  },
  {
   "cell_type": "code",
   "execution_count": 4,
   "metadata": {
    "deletable": false,
    "editable": false,
    "nbgrader": {
     "checksum": "fc1531f02675993f571adf4c074b2591",
     "grade": false,
     "grade_id": "cell-b08bf37b0b3bba73",
     "locked": true,
     "schema_version": 1,
     "solution": false
    }
   },
   "outputs": [
    {
     "data": {
      "text/plain": [
       "(2034, 26576)"
      ]
     },
     "execution_count": 4,
     "metadata": {},
     "output_type": "execute_result"
    }
   ],
   "source": [
    "categories = ['alt.atheism', 'talk.religion.misc', 'comp.graphics', 'sci.space']\n",
    "remove = ('headers', 'footers', 'quotes')\n",
    "newsgroups_train = fetch_20newsgroups(subset='train', categories=categories, remove=remove)\n",
    "\n",
    "vectorizer = CountVectorizer(stop_words='english')\n",
    "vectors = vectorizer.fit_transform(newsgroups_train.data).todense() # (documents, vocab)\n",
    "vectors.shape #, vectors.nnz / vectors.shape[0], row_means.shape"
   ]
  },
  {
   "cell_type": "code",
   "execution_count": 5,
   "metadata": {
    "deletable": false,
    "editable": false,
    "nbgrader": {
     "checksum": "76fa8c69ce5d57ddcc87f1f4ed0f8a92",
     "grade": false,
     "grade_id": "cell-2a7982b4f142dc38",
     "locked": true,
     "schema_version": 1,
     "solution": false
    }
   },
   "outputs": [
    {
     "name": "stdout",
     "output_type": "stream",
     "text": [
      "Wall time: 27.2 s\n"
     ]
    }
   ],
   "source": [
    "%time U, s, Vt = linalg.svd(vectors, full_matrices=False)"
   ]
  },
  {
   "cell_type": "markdown",
   "metadata": {
    "deletable": false,
    "editable": false,
    "nbgrader": {
     "checksum": "5b521b82d29f027664dfa9d303f98cb6",
     "grade": false,
     "grade_id": "cell-63ce74c39ad4b986",
     "locked": true,
     "schema_version": 1,
     "solution": false
    }
   },
   "source": [
    "## Questão 1\n",
    "\n",
    "Plote uma curva contendo os valores singulares $s$."
   ]
  },
  {
   "cell_type": "code",
   "execution_count": 6,
   "metadata": {
    "deletable": false,
    "nbgrader": {
     "checksum": "68a2a1364cdfa2f7a3525681c0b7a259",
     "grade": false,
     "grade_id": "cell-149f7d33544a28ba",
     "locked": false,
     "schema_version": 1,
     "solution": true
    }
   },
   "outputs": [
    {
     "data": {
      "image/png": "[encoded data removed]",
      "text/plain": [
       "<Figure size 432x288 with 1 Axes>"
      ]
     },
     "metadata": {
      "needs_background": "light"
     },
     "output_type": "display_data"
    }
   ],
   "source": [
    "# solucao da Questao 1\n",
    "\n",
    "# YOUR CODE HERE\n",
    "plt.plot(s)\n",
    "plt.ylabel('valores singulares')\n",
    "plt.show()"
   ]
  },
  {
   "cell_type": "markdown",
   "metadata": {
    "deletable": false,
    "editable": false,
    "nbgrader": {
     "checksum": "97b7c77c31e81abdac5472f7e83494c3",
     "grade": false,
     "grade_id": "cell-eace73eb188d7d14",
     "locked": true,
     "schema_version": 1,
     "solution": false
    }
   },
   "source": [
    "## Questão 2\n",
    "\n",
    "Repita o gráfico da questão anterior, mas desta vez, tente dar um \"zoom\" para mostrar onde está o joelho da curva, ou seja, o ponto a partir do qual os valores passam a ser muito baixos. Para isto, você pode pegar um slice de ```s```, ou usar a função ```plt.xlims```."
   ]
  },
  {
   "cell_type": "code",
   "execution_count": 14,
   "metadata": {
    "deletable": false,
    "nbgrader": {
     "checksum": "bccb5083fca5804b482a22a4c8ba1c47",
     "grade": true,
     "grade_id": "cell-95f0c2dd4e490335",
     "locked": false,
     "points": 1,
     "schema_version": 1,
     "solution": true
    }
   },
   "outputs": [
    {
     "data": {
      "image/png": "[encoded data removed]",
      "text/plain": [
       "<Figure size 432x288 with 1 Axes>"
      ]
     },
     "metadata": {
      "needs_background": "light"
     },
     "output_type": "display_data"
    }
   ],
   "source": [
    "# solucao da Questao 2\n",
    "\n",
    "# YOUR CODE HERE\n",
    "plt.plot(s)\n",
    "plt.xlim(10, 50)\n",
    "plt.ylim(30, 100);\n",
    "plt.ylabel('valores singulares')\n",
    "plt.show()\n",
    "#raise NotImplementedError()"
   ]
  },
  {
   "cell_type": "markdown",
   "metadata": {
    "deletable": false,
    "editable": false,
    "nbgrader": {
     "checksum": "92955e90b104553e921bc94676bcc793",
     "grade": false,
     "grade_id": "cell-5e42a1572f906132",
     "locked": true,
     "schema_version": 1,
     "solution": false
    }
   },
   "source": [
    "## Questão 3\n",
    "\n",
    "Seja $A$ uma matriz $m \\times n$. O SVD reduzido de $A$ retorna $U_{m \\times k}$, $\\Sigma_{k \\times k}$ e $V^\\top_{k \\times n}$, onde $k = \\min(m,n)$. Já o SVD truncado de posto $r < \\min(m,n)$ retorna apenas as $r$ primeiras colunas de $U$, os $r$ maiores valores singulares de $\\Sigma$ e as $r$ primeiras linhas de $V^\\top$.\n",
    "\n",
    "Uma propriedade importante do SVD truncado é que ele retorna a melhor aproximação $A_r$ para uma matriz $A$ dentre todas as matrizes de posto $r$, onde a qualidade da aproximação é medida por $\\| A - A_r \\|_F$, sendo $\\| B \\|_F = \\sqrt{\\sum_i \\sum_j B_{i,j}^2}$ a norma de Frobenius de uma matriz $B$.\n",
    "\n",
    "Nesta questão, vamos ver como a qualidade da aproximação aumenta com $r$, variando $r$ em $\\{1,2,4,\\ldots,2^7\\}$. Primeiramente, vamos encontrar a decomposição SVD reduzida para a matriz ```vectors```. Depois disso, vamos variar o número $r$ de valores singulares considerados para encontrar aproximações $A_r$ para, finalmente, calcular $\\| A - A_r \\|_F$. Para facilitar a resolução deste problema, parte do código já foi fornecida. Para calcular a norma Frobenius, consulte a documentação de ```np.linalg.norm```."
   ]
  },
  {
   "cell_type": "code",
   "execution_count": 15,
   "metadata": {},
   "outputs": [
    {
     "data": {
      "text/plain": [
       "(2034,)"
      ]
     },
     "execution_count": 15,
     "metadata": {},
     "output_type": "execute_result"
    }
   ],
   "source": [
    "s.shape"
   ]
  },
  {
   "cell_type": "code",
   "execution_count": 16,
   "metadata": {},
   "outputs": [
    {
     "ename": "NameError",
     "evalue": "name 'r' is not defined",
     "output_type": "error",
     "traceback": [
      "\u001b[1;31m---------------------------------------------------------------------------\u001b[0m",
      "\u001b[1;31mNameError\u001b[0m                                 Traceback (most recent call last)",
      "\u001b[1;32m<ipython-input-16-abf4eb33be8b>\u001b[0m in \u001b[0;36m<module>\u001b[1;34m()\u001b[0m\n\u001b[1;32m----> 1\u001b[1;33m \u001b[0mU\u001b[0m\u001b[1;33m[\u001b[0m\u001b[1;33m:\u001b[0m\u001b[1;33m,\u001b[0m \u001b[1;33m:\u001b[0m\u001b[0mr\u001b[0m\u001b[1;33m]\u001b[0m \u001b[1;33m@\u001b[0m \u001b[0ms\u001b[0m\u001b[1;33m[\u001b[0m\u001b[1;33m:\u001b[0m\u001b[0mr\u001b[0m\u001b[1;33m]\u001b[0m \u001b[1;33m@\u001b[0m \u001b[0mVt\u001b[0m\u001b[1;33m[\u001b[0m\u001b[1;33m:\u001b[0m\u001b[1;33m,\u001b[0m \u001b[1;33m:\u001b[0m\u001b[0mr\u001b[0m\u001b[1;33m]\u001b[0m\u001b[1;33m\u001b[0m\u001b[0m\n\u001b[0m",
      "\u001b[1;31mNameError\u001b[0m: name 'r' is not defined"
     ]
    }
   ],
   "source": [
    " U[:, :r] @ s[:r] @ Vt[:, :r]"
   ]
  },
  {
   "cell_type": "code",
   "execution_count": null,
   "metadata": {},
   "outputs": [],
   "source": [
    "diag_s = np.diag(s)\n",
    "diag_s"
   ]
  },
  {
   "cell_type": "code",
   "execution_count": null,
   "metadata": {},
   "outputs": [],
   "source": [
    "diag_s = np.diag(s)\n",
    "r=2\n",
    "A_r =  U[:, :r] @ diag_s[:r, :r] @ Vt[:r, :]\n",
    "A_r.shape\n",
    "A_r[:2,:2]"
   ]
  },
  {
   "cell_type": "code",
   "execution_count": null,
   "metadata": {},
   "outputs": [],
   "source": [
    "atest = np.array([[1,0,3],\n",
    "                 [2,1,3],\n",
    "                 [3,1,3]])\n",
    "\n",
    "atest[:, :1]"
   ]
  },
  {
   "cell_type": "code",
   "execution_count": null,
   "metadata": {},
   "outputs": [],
   "source": [
    "r_values = 2**np.arange(8)\n",
    "r_values"
   ]
  },
  {
   "cell_type": "code",
   "execution_count": 17,
   "metadata": {
    "deletable": false,
    "nbgrader": {
     "checksum": "126cafd88a6ed14306fcbe0afb29f3ce",
     "grade": true,
     "grade_id": "cell-740d5eb656e18dd3",
     "locked": false,
     "points": 3,
     "schema_version": 1,
     "solution": true
    }
   },
   "outputs": [
    {
     "data": {
      "image/png": "[encoded data removed]",
      "text/plain": [
       "<Figure size 432x288 with 1 Axes>"
      ]
     },
     "metadata": {
      "needs_background": "light"
     },
     "output_type": "display_data"
    }
   ],
   "source": [
    "m,n = vectors.shape\n",
    "k = min(m,n)\n",
    "\n",
    "A_r = np.zeros((m,n))\n",
    "erro = np.zeros(8)\n",
    "r_values = 2**np.arange(8)\n",
    "for i in range(len(r_values)):\n",
    "    r = r_values[i]\n",
    "    # YOUR CODE HERE\n",
    "    diag_s = np.diag(s)                           #Transforma s em formato diagonal para facilitar o calculo da matriz por SVD\n",
    "    A_r =  U[:, :r] @ diag_s[:r, :r] @ Vt[:r, :]  #Calcula-se Ar usando apenas os valores singulares referentes a r\n",
    "    B = vectors - A_r                             #Calcula-se a matriz da diferença para ser jogada na norma de Fobrenius e verificar o erro\n",
    "    erro[i] = np.linalg.norm(B, ord='fro')        #Passa-se o erro para o array\n",
    "    #raise NotImplementedError()\n",
    "\n",
    "# código para plotar o vetor erro\n",
    "# YOUR CODE HERE\n",
    "#raise NotImplementedError()\n",
    "plt.ylabel(r'Erro $\\|A-A_r\\|_F$')\n",
    "plt.xlabel('r')\n",
    "plt.plot(erro)\n",
    "plt.show()"
   ]
  },
  {
   "cell_type": "markdown",
   "metadata": {
    "deletable": false,
    "editable": false,
    "nbgrader": {
     "checksum": "9fb1f2a0c4fed4f2d7eb255163bc6b6a",
     "grade": false,
     "grade_id": "cell-3bf208fff37c16c8",
     "locked": true,
     "schema_version": 1,
     "solution": false
    }
   },
   "source": [
    "## Questão 4\n",
    "\n",
    "Vamos criar e implementar uma heurística para a escolha de $k$. Deseja-se obter uma representação de baixa dimensão $k$ para a matriz ```vectors```. Implemente uma função que recebe um vetor de valores singulares em ordem descrente e retorna o número de valores singulares que é maior ou igual a 2x a média. (Dica: você pode usar ```np.mean```)."
   ]
  },
  {
   "cell_type": "code",
   "execution_count": 18,
   "metadata": {},
   "outputs": [
    {
     "data": {
      "text/plain": [
       "(2034,)"
      ]
     },
     "execution_count": 18,
     "metadata": {},
     "output_type": "execute_result"
    }
   ],
   "source": [
    "s.shape"
   ]
  },
  {
   "cell_type": "code",
   "execution_count": 19,
   "metadata": {},
   "outputs": [
    {
     "data": {
      "text/plain": [
       "array([433.92698542, 291.51012741, 240.71137677, 220.00048043,\n",
       "       182.74475229, 168.15235371, 148.15722056, 128.78642   ,\n",
       "       126.49055396, 118.34718466, 113.447462  , 112.65834102,\n",
       "       104.87273147, 100.22337971,  88.52079878,  83.89970648,\n",
       "        81.45397348,  79.15690986,  76.65835376,  69.39945005,\n",
       "        68.19232307,  67.11495196,  66.31238351,  63.1104201 ,\n",
       "        62.22947158,  58.71335267,  58.07036595,  56.10964588,\n",
       "        55.85579752,  53.69796639])"
      ]
     },
     "execution_count": 19,
     "metadata": {},
     "output_type": "execute_result"
    }
   ],
   "source": [
    "s[:30]"
   ]
  },
  {
   "cell_type": "code",
   "execution_count": 20,
   "metadata": {
    "scrolled": true
   },
   "outputs": [
    {
     "name": "stdout",
     "output_type": "stream",
     "text": [
      "[1 2 3 4 5 9]\n"
     ]
    }
   ],
   "source": [
    "s_test_sort = np.array([2,4,3,1,5,9])\n",
    "s_test_sort = np.sort(s_test_sort)\n",
    "print(s_test_sort)"
   ]
  },
  {
   "cell_type": "code",
   "execution_count": 22,
   "metadata": {
    "scrolled": true
   },
   "outputs": [
    {
     "name": "stdout",
     "output_type": "stream",
     "text": [
      "[9 5 4 3 2 1]\n"
     ]
    }
   ],
   "source": [
    "s_test_sort = np.array([2,4,3,1,5,9])\n",
    "s_test_sort = np.sort(s_test_sort)[::-1]\n",
    "print(s_test_sort)"
   ]
  },
  {
   "cell_type": "code",
   "execution_count": 37,
   "metadata": {
    "deletable": false,
    "nbgrader": {
     "checksum": "1020907ed76fb18f6047cbbf0d61c33e",
     "grade": false,
     "grade_id": "cell-2864944c1e8f7a36",
     "locked": false,
     "schema_version": 1,
     "solution": true
    }
   },
   "outputs": [],
   "source": [
    "# solucao da Questao 4\n",
    "\n",
    "def escolheK(s):\n",
    "    \"\"\" Retorna o inteiro k contendo o número de valores singulares que é pelo menos 2x maior que a média.\n",
    "    \n",
    "        Entrada:\n",
    "            s é um vetor contendo os valores singulares em ordem decrescente\n",
    "    \"\"\"\n",
    "    k = 0\n",
    "    # YOUR CODE HERE\n",
    "    mean_s = np.mean(s, dtype=np.float64)\n",
    "    \n",
    "    for sing_vals in s:\n",
    "        if( (2*mean_s) <= sing_vals):\n",
    "            k+=1\n",
    "            \n",
    "    #raise NotImplementedError()\n",
    "    return k"
   ]
  },
  {
   "cell_type": "code",
   "execution_count": 36,
   "metadata": {
    "deletable": false,
    "editable": false,
    "nbgrader": {
     "checksum": "c9957f2e77c9b6baedad5b88913b314e",
     "grade": true,
     "grade_id": "cell-4dbfc342c28b8a04",
     "locked": true,
     "points": 1,
     "schema_version": 1,
     "solution": false
    }
   },
   "outputs": [
    {
     "name": "stdout",
     "output_type": "stream",
     "text": [
      "[1000  900  800  700  600  500  400  300  200  100   90   80   70   60\n",
      "   50   40   30   20   10    9    8    7    6    5    4    3    2]\n"
     ]
    }
   ],
   "source": [
    "s_example = np.hstack((np.arange(1000,100,-100),np.arange(100,10,-10),np.arange(10,1,-1)))\n",
    "print(s_example)\n",
    "\n",
    "assert escolheK(s_example) == 6\n",
    "assert escolheK(s) == 191"
   ]
  }
 ],
 "metadata": {
  "kernelspec": {
   "display_name": "Python 3",
   "language": "python",
   "name": "python3"
  },
  "language_info": {
   "codemirror_mode": {
    "name": "ipython",
    "version": 3
   },
   "file_extension": ".py",
   "mimetype": "text/x-python",
   "name": "python",
   "nbconvert_exporter": "python",
   "pygments_lexer": "ipython3",
   "version": "3.7.0"
  }
 },
 "nbformat": 4,
 "nbformat_minor": 2
}
