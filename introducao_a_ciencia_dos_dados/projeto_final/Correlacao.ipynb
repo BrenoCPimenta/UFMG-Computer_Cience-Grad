{
 "cells": [
  {
   "cell_type": "markdown",
   "metadata": {},
   "source": [
    "# Projeto ICD - Analise exploratória dos dados\n",
    "## Correlação entre valor da aposta e posição do jogador\n",
    "\n",
    "Procuramos uma correlação entre os atributos dos dados. \n",
    "Uma possível correlação seria entre a força das cartas da mão do jogador e seu valor de aposta.\n",
    "Outra possível correlação é entre o valor da aposta e a posição do jogador no turno. Teoricamente, os últimos jogadores de uma rodada, por ja terem visto a ação dos jogadores anteriores, podem fazer decisões mais embasadas e, portanto, fazer apostas mais maiores. Tentaremos verificar a veracidade dessa afirmação a seguir:"
   ]
  },
  {
   "cell_type": "markdown",
   "metadata": {},
   "source": [
    "### Imports"
   ]
  },
  {
   "cell_type": "markdown",
   "metadata": {},
   "source": [
    "## Correlação entre Raise e Hand\n",
    "(Valor de aposta e força da mão)"
   ]
  },
  {
   "cell_type": "code",
   "execution_count": 1,
   "metadata": {},
   "outputs": [],
   "source": [
    "import numpy as np\n",
    "import matplotlib.pyplot as plt\n",
    "import pandas as pd"
   ]
  },
  {
   "cell_type": "markdown",
   "metadata": {},
   "source": [
    "### Carregando dados tratados:"
   ]
  },
  {
   "cell_type": "code",
   "execution_count": 2,
   "metadata": {
    "scrolled": false
   },
   "outputs": [
    {
     "data": {
      "text/html": [
       "<div>\n",
       "<style scoped>\n",
       "    .dataframe tbody tr th:only-of-type {\n",
       "        vertical-align: middle;\n",
       "    }\n",
       "\n",
       "    .dataframe tbody tr th {\n",
       "        vertical-align: top;\n",
       "    }\n",
       "\n",
       "    .dataframe thead th {\n",
       "        text-align: right;\n",
       "    }\n",
       "</style>\n",
       "<table border=\"1\" class=\"dataframe\">\n",
       "  <thead>\n",
       "    <tr style=\"text-align: right;\">\n",
       "      <th></th>\n",
       "      <th>Raise</th>\n",
       "      <th>Position</th>\n",
       "      <th>Hand</th>\n",
       "      <th>Pot</th>\n",
       "      <th>P1-Action</th>\n",
       "      <th>P1-Bet</th>\n",
       "      <th>P2-Action</th>\n",
       "      <th>P2-Bet</th>\n",
       "      <th>P3-Action</th>\n",
       "      <th>P3-Bet</th>\n",
       "      <th>P4-Action</th>\n",
       "      <th>P4-Bet</th>\n",
       "      <th>P5-Action</th>\n",
       "      <th>P5-Bet</th>\n",
       "    </tr>\n",
       "  </thead>\n",
       "  <tbody>\n",
       "    <tr>\n",
       "      <th>0</th>\n",
       "      <td>225.0</td>\n",
       "      <td>4</td>\n",
       "      <td>133</td>\n",
       "      <td>150.0</td>\n",
       "      <td>sb</td>\n",
       "      <td>50.0</td>\n",
       "      <td>bb</td>\n",
       "      <td>100.0</td>\n",
       "      <td>f</td>\n",
       "      <td>0.0</td>\n",
       "      <td>f</td>\n",
       "      <td>0.0</td>\n",
       "      <td>hold</td>\n",
       "      <td>0.0</td>\n",
       "    </tr>\n",
       "    <tr>\n",
       "      <th>1</th>\n",
       "      <td>300.0</td>\n",
       "      <td>0</td>\n",
       "      <td>5017</td>\n",
       "      <td>150.0</td>\n",
       "      <td>bb</td>\n",
       "      <td>100.0</td>\n",
       "      <td>f</td>\n",
       "      <td>0.0</td>\n",
       "      <td>f</td>\n",
       "      <td>0.0</td>\n",
       "      <td>f</td>\n",
       "      <td>0.0</td>\n",
       "      <td>f</td>\n",
       "      <td>0.0</td>\n",
       "    </tr>\n",
       "    <tr>\n",
       "      <th>2</th>\n",
       "      <td>200.0</td>\n",
       "      <td>5</td>\n",
       "      <td>441</td>\n",
       "      <td>150.0</td>\n",
       "      <td>sb</td>\n",
       "      <td>50.0</td>\n",
       "      <td>bb</td>\n",
       "      <td>100.0</td>\n",
       "      <td>f</td>\n",
       "      <td>0.0</td>\n",
       "      <td>f</td>\n",
       "      <td>0.0</td>\n",
       "      <td>f</td>\n",
       "      <td>0.0</td>\n",
       "    </tr>\n",
       "    <tr>\n",
       "      <th>3</th>\n",
       "      <td>200.0</td>\n",
       "      <td>4</td>\n",
       "      <td>1189</td>\n",
       "      <td>150.0</td>\n",
       "      <td>sb</td>\n",
       "      <td>50.0</td>\n",
       "      <td>bb</td>\n",
       "      <td>100.0</td>\n",
       "      <td>f</td>\n",
       "      <td>0.0</td>\n",
       "      <td>f</td>\n",
       "      <td>0.0</td>\n",
       "      <td>hold</td>\n",
       "      <td>0.0</td>\n",
       "    </tr>\n",
       "    <tr>\n",
       "      <th>4</th>\n",
       "      <td>500.0</td>\n",
       "      <td>5</td>\n",
       "      <td>705</td>\n",
       "      <td>350.0</td>\n",
       "      <td>sb</td>\n",
       "      <td>50.0</td>\n",
       "      <td>bb</td>\n",
       "      <td>100.0</td>\n",
       "      <td>f</td>\n",
       "      <td>0.0</td>\n",
       "      <td>f</td>\n",
       "      <td>0.0</td>\n",
       "      <td>r</td>\n",
       "      <td>200.0</td>\n",
       "    </tr>\n",
       "  </tbody>\n",
       "</table>\n",
       "</div>"
      ],
      "text/plain": [
       "   Raise  Position  Hand    Pot P1-Action  P1-Bet P2-Action  P2-Bet P3-Action  \\\n",
       "0  225.0         4   133  150.0        sb    50.0        bb   100.0         f   \n",
       "1  300.0         0  5017  150.0        bb   100.0         f     0.0         f   \n",
       "2  200.0         5   441  150.0        sb    50.0        bb   100.0         f   \n",
       "3  200.0         4  1189  150.0        sb    50.0        bb   100.0         f   \n",
       "4  500.0         5   705  350.0        sb    50.0        bb   100.0         f   \n",
       "\n",
       "   P3-Bet P4-Action  P4-Bet P5-Action  P5-Bet  \n",
       "0     0.0         f     0.0      hold     0.0  \n",
       "1     0.0         f     0.0         f     0.0  \n",
       "2     0.0         f     0.0         f     0.0  \n",
       "3     0.0         f     0.0      hold     0.0  \n",
       "4     0.0         f     0.0         r   200.0  "
      ]
     },
     "execution_count": 2,
     "metadata": {},
     "output_type": "execute_result"
    }
   ],
   "source": [
    "df_corr = pd.read_csv('./poker_dados_regress.csv', sep= ',')\n",
    "df_corr.head()"
   ]
  },
  {
   "cell_type": "code",
   "execution_count": 3,
   "metadata": {
    "scrolled": true
   },
   "outputs": [],
   "source": [
    "df_corr = df_corr[df_corr[\"Position\"] > 1]"
   ]
  },
  {
   "cell_type": "markdown",
   "metadata": {},
   "source": [
    "## Correlação entre Raise e Hand\n",
    "(Valor de aposta e força da mão)"
   ]
  },
  {
   "cell_type": "code",
   "execution_count": 4,
   "metadata": {
    "scrolled": true
   },
   "outputs": [
    {
     "data": {
      "text/plain": [
       "Text(0,0.5,'Hand')"
      ]
     },
     "execution_count": 4,
     "metadata": {},
     "output_type": "execute_result"
    },
    {
     "data": {
      "image/png": "[encoded data removed]",
      "text/plain": [
       "<Figure size 432x288 with 1 Axes>"
      ]
     },
     "metadata": {
      "needs_background": "light"
     },
     "output_type": "display_data"
    }
   ],
   "source": [
    "# Correlação entre Raise x Hand.\n",
    "\n",
    "plt.scatter(df_corr['Raise'], df_corr['Hand'])\n",
    "plt.title('Raise X Hand')\n",
    "plt.xlabel('Raise')\n",
    "plt.ylabel('Hand')"
   ]
  },
  {
   "cell_type": "markdown",
   "metadata": {},
   "source": [
    "## Correlação entre Raise e Position\n",
    "(Valor de aposta e posição do jogador)"
   ]
  },
  {
   "cell_type": "code",
   "execution_count": 5,
   "metadata": {},
   "outputs": [
    {
     "data": {
      "text/plain": [
       "<matplotlib.collections.PathCollection at 0x15f08dbe400>"
      ]
     },
     "execution_count": 5,
     "metadata": {},
     "output_type": "execute_result"
    },
    {
     "data": {
      "image/png": "[encoded data removed]",
      "text/plain": [
       "<Figure size 432x288 with 1 Axes>"
      ]
     },
     "metadata": {
      "needs_background": "light"
     },
     "output_type": "display_data"
    }
   ],
   "source": [
    "# Correlação entre Raise x Position.\n",
    "\n",
    "plt.scatter(df_corr['Raise'], df_corr['Position'])"
   ]
  },
  {
   "cell_type": "markdown",
   "metadata": {},
   "source": [
    "Podemos verificar uma possível correlação entre o aumento do valor das apostas e a posição dos jogadores."
   ]
  },
  {
   "cell_type": "code",
   "execution_count": 6,
   "metadata": {},
   "outputs": [
    {
     "data": {
      "text/plain": [
       "Position\n",
       "2    219.091190\n",
       "3    231.734292\n",
       "4    252.120249\n",
       "5    289.055222\n",
       "Name: Raise, dtype: float64"
      ]
     },
     "execution_count": 6,
     "metadata": {},
     "output_type": "execute_result"
    }
   ],
   "source": [
    "# Média de Raise por Position.\n",
    "\n",
    "raise_por_position = df_corr.groupby(['Position'])['Raise'].mean()\n",
    "raise_por_position"
   ]
  },
  {
   "cell_type": "code",
   "execution_count": 7,
   "metadata": {},
   "outputs": [
    {
     "name": "stdout",
     "output_type": "stream",
     "text": [
      "Média das médias: 248.00023840527192\n",
      "Variância das médias:  934.2667512276809\n",
      "Raiz quadrada do número de linhas das médias:  2.0\n"
     ]
    }
   ],
   "source": [
    "# Dados das médias.\n",
    "\n",
    "media_raise_por_position = raise_por_position.mean()\n",
    "variancia_raise_por_position =  raise_por_position.var()\n",
    "raizn_raise_por_position = (raise_por_position.size)**.5\n",
    "print('Média das médias:', media_raise_por_position)\n",
    "print('Variância das médias: ', variancia_raise_por_position)\n",
    "print('Raiz quadrada do número de linhas das médias: ', raizn_raise_por_position)"
   ]
  },
  {
   "cell_type": "markdown",
   "metadata": {},
   "source": [
    "Faremos agora a permutação dos dados para verificar se os valores médios encontrados poderiam, potencialmente, ser verificados ao acaso."
   ]
  },
  {
   "cell_type": "code",
   "execution_count": 8,
   "metadata": {},
   "outputs": [
    {
     "data": {
      "text/plain": [
       "<matplotlib.collections.PathCollection at 0x15f08e301d0>"
      ]
     },
     "execution_count": 8,
     "metadata": {},
     "output_type": "execute_result"
    },
    {
     "data": {
      "image/png": "[encoded data removed]",
      "text/plain": [
       "<Figure size 432x288 with 1 Axes>"
      ]
     },
     "metadata": {
      "needs_background": "light"
     },
     "output_type": "display_data"
    }
   ],
   "source": [
    "# Correlação Raise_shuffle x Position, apenas para verificar a distribuição.Faremos agora a permutação dos dados para verificar se os valores médios encontrados poderiam, potencialmente, ser verificados ao acaso.\n",
    "\n",
    "df_shuffle = df_corr.copy()\n",
    "\n",
    "np.random.shuffle(df_shuffle['Raise'].values)\n",
    "\n",
    "plt.scatter(df_shuffle['Raise'], df_shuffle['Raise'])"
   ]
  },
  {
   "cell_type": "code",
   "execution_count": 9,
   "metadata": {},
   "outputs": [
    {
     "data": {
      "text/plain": [
       "Position\n",
       "2    247.403400\n",
       "3    258.283119\n",
       "4    247.604361\n",
       "5    250.364346\n",
       "Name: Raise, dtype: float64"
      ]
     },
     "execution_count": 9,
     "metadata": {},
     "output_type": "execute_result"
    }
   ],
   "source": [
    "# Média de Raise por Position da permutação.\n",
    "\n",
    "raise_por_position_s = df_shuffle.groupby(['Position'])['Raise'].mean()\n",
    "raise_por_position_s"
   ]
  },
  {
   "cell_type": "code",
   "execution_count": 10,
   "metadata": {},
   "outputs": [
    {
     "name": "stdout",
     "output_type": "stream",
     "text": [
      "Média das médias permutadas: 250.91380656687184\n",
      "Variância das médias permutadas:  25.961350106581843\n",
      "Raiz quadrada do número de linhas das médias permutadas:  2.0\n"
     ]
    }
   ],
   "source": [
    "# Dados das médias permutadas.\n",
    "\n",
    "media_raise_por_position_s = raise_por_position_s.mean()\n",
    "variancia_raise_por_position_s =  raise_por_position_s.var()\n",
    "raizn_raise_por_position_s = (raise_por_position_s.size)**.5\n",
    "print('Média das médias permutadas:', media_raise_por_position_s)\n",
    "print('Variância das médias permutadas: ', variancia_raise_por_position_s)\n",
    "print('Raiz quadrada do número de linhas das médias permutadas: ', raizn_raise_por_position_s)"
   ]
  },
  {
   "cell_type": "code",
   "execution_count": 11,
   "metadata": {},
   "outputs": [
    {
     "name": "stdout",
     "output_type": "stream",
     "text": [
      "Intervalo de confiança inferior da permutação:  225.47168346242162\n",
      "Intervalo de confiança superior da permutação:  276.35592967132203\n"
     ]
    }
   ],
   "source": [
    "# Intervalo de confiança dos dados permutados.\n",
    "\n",
    "ic_inf_raise_por_position_s = media_raise_por_position_s - 1.96* (variancia_raise_por_position_s/raizn_raise_por_position_s)\n",
    "ic_sup_raise_por_position_s =  media_raise_por_position_s + 1.96* (variancia_raise_por_position_s/raizn_raise_por_position_s)\n",
    "print('Intervalo de confiança inferior da permutação: ', ic_inf_raise_por_position_s)\n",
    "print('Intervalo de confiança superior da permutação: ', ic_sup_raise_por_position_s)"
   ]
  },
  {
   "cell_type": "code",
   "execution_count": 12,
   "metadata": {},
   "outputs": [
    {
     "name": "stdout",
     "output_type": "stream",
     "text": [
      "-667.5811777978553\n",
      "1163.581654608399\n"
     ]
    }
   ],
   "source": [
    "ic_inf_raise_por_position = media_raise_por_position - 1.96* (variancia_raise_por_position/raizn_raise_por_position)\n",
    "ic_sup_raise_por_position =  media_raise_por_position + 1.96* (variancia_raise_por_position/raizn_raise_por_position)\n",
    "print(ic_inf_raise_por_position)\n",
    "print(ic_sup_raise_por_position)"
   ]
  },
  {
   "cell_type": "markdown",
   "metadata": {},
   "source": [
    "Podemos verificar então que, provavelmente, a variação dos valores de aposta pela posição do jogador no turno não ocorre ao acaso. Os valores de aposta, principalmente dos jogadores nas posições 2 e 5, variam muito além dos intervalos de confiança de uma situação de escolhas ao acaso."
   ]
  }
 ],
 "metadata": {
  "kernelspec": {
   "display_name": "Python 3",
   "language": "python",
   "name": "python3"
  },
  "language_info": {
   "codemirror_mode": {
    "name": "ipython",
    "version": 3
   },
   "file_extension": ".py",
   "mimetype": "text/x-python",
   "name": "python",
   "nbconvert_exporter": "python",
   "pygments_lexer": "ipython3",
   "version": "3.7.0"
  }
 },
 "nbformat": 4,
 "nbformat_minor": 4
}
