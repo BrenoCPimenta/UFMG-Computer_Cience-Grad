{
 "cells": [
  {
   "cell_type": "markdown",
   "metadata": {},
   "source": [
    "# Projeto ICD - Classificação\n",
    "## Classificando a decisão de jogada no turno com base nos demais atributos\n",
    "\n",
    "Nesse modelo de classificação, tentaremos prever qual decisão de jogada o indivíduo tomará com base na situção atual do jogo.\n",
    "Aplicaremos os modelos kNN e regressão logística com a variável prevista sendo a ação do jogador naquele turno, definida em \"Action\".\n",
    "Verificaremos a acurácia e revocação de cada método para avaliar seus desempenhos para essa classificação.\n",
    "Por fim, compararemos os métodos utilizando seus intervalos de confiança obtidos por meio do método de bootstrap."
   ]
  },
  {
   "cell_type": "markdown",
   "metadata": {},
   "source": [
    "### Imports"
   ]
  },
  {
   "cell_type": "code",
   "execution_count": 1,
   "metadata": {},
   "outputs": [],
   "source": [
    "import numpy as np\n",
    "import matplotlib.pyplot as plt\n",
    "import pandas as pd\n",
    "from sklearn.model_selection import train_test_split\n",
    "from sklearn.neighbors import KNeighborsClassifier\n",
    "from sklearn.model_selection import StratifiedKFold\n",
    "from sklearn.metrics import accuracy_score\n",
    "from sklearn.metrics import classification_report\n",
    "from sklearn.metrics import confusion_matrix\n",
    "from sklearn.linear_model import LogisticRegressionCV"
   ]
  },
  {
   "cell_type": "markdown",
   "metadata": {},
   "source": [
    "### Carregando dados tratados:"
   ]
  },
  {
   "cell_type": "code",
   "execution_count": 2,
   "metadata": {},
   "outputs": [
    {
     "data": {
      "text/html": [
       "<div>\n",
       "<style scoped>\n",
       "    .dataframe tbody tr th:only-of-type {\n",
       "        vertical-align: middle;\n",
       "    }\n",
       "\n",
       "    .dataframe tbody tr th {\n",
       "        vertical-align: top;\n",
       "    }\n",
       "\n",
       "    .dataframe thead th {\n",
       "        text-align: right;\n",
       "    }\n",
       "</style>\n",
       "<table border=\"1\" class=\"dataframe\">\n",
       "  <thead>\n",
       "    <tr style=\"text-align: right;\">\n",
       "      <th></th>\n",
       "      <th>Action</th>\n",
       "      <th>Position</th>\n",
       "      <th>Hand</th>\n",
       "      <th>Pot</th>\n",
       "      <th>P1-Action</th>\n",
       "      <th>P1-Bet</th>\n",
       "      <th>P2-Action</th>\n",
       "      <th>P2-Bet</th>\n",
       "      <th>P3-Action</th>\n",
       "      <th>P3-Bet</th>\n",
       "      <th>P4-Action</th>\n",
       "      <th>P4-Bet</th>\n",
       "      <th>P5-Action</th>\n",
       "      <th>P5-Bet</th>\n",
       "    </tr>\n",
       "  </thead>\n",
       "  <tbody>\n",
       "    <tr>\n",
       "      <th>0</th>\n",
       "      <td>f</td>\n",
       "      <td>2</td>\n",
       "      <td>3169</td>\n",
       "      <td>150.0</td>\n",
       "      <td>sb</td>\n",
       "      <td>50.0</td>\n",
       "      <td>bb</td>\n",
       "      <td>100.0</td>\n",
       "      <td>hold</td>\n",
       "      <td>0.0</td>\n",
       "      <td>hold</td>\n",
       "      <td>0.0</td>\n",
       "      <td>hold</td>\n",
       "      <td>0.0</td>\n",
       "    </tr>\n",
       "    <tr>\n",
       "      <th>1</th>\n",
       "      <td>f</td>\n",
       "      <td>3</td>\n",
       "      <td>3257</td>\n",
       "      <td>150.0</td>\n",
       "      <td>sb</td>\n",
       "      <td>50.0</td>\n",
       "      <td>bb</td>\n",
       "      <td>100.0</td>\n",
       "      <td>f</td>\n",
       "      <td>0.0</td>\n",
       "      <td>hold</td>\n",
       "      <td>0.0</td>\n",
       "      <td>hold</td>\n",
       "      <td>0.0</td>\n",
       "    </tr>\n",
       "    <tr>\n",
       "      <th>2</th>\n",
       "      <td>r</td>\n",
       "      <td>4</td>\n",
       "      <td>133</td>\n",
       "      <td>150.0</td>\n",
       "      <td>sb</td>\n",
       "      <td>50.0</td>\n",
       "      <td>bb</td>\n",
       "      <td>100.0</td>\n",
       "      <td>f</td>\n",
       "      <td>0.0</td>\n",
       "      <td>f</td>\n",
       "      <td>0.0</td>\n",
       "      <td>hold</td>\n",
       "      <td>0.0</td>\n",
       "    </tr>\n",
       "    <tr>\n",
       "      <th>3</th>\n",
       "      <td>f</td>\n",
       "      <td>5</td>\n",
       "      <td>2465</td>\n",
       "      <td>375.0</td>\n",
       "      <td>sb</td>\n",
       "      <td>50.0</td>\n",
       "      <td>bb</td>\n",
       "      <td>100.0</td>\n",
       "      <td>f</td>\n",
       "      <td>0.0</td>\n",
       "      <td>f</td>\n",
       "      <td>0.0</td>\n",
       "      <td>r</td>\n",
       "      <td>225.0</td>\n",
       "    </tr>\n",
       "    <tr>\n",
       "      <th>4</th>\n",
       "      <td>f</td>\n",
       "      <td>0</td>\n",
       "      <td>7217</td>\n",
       "      <td>375.0</td>\n",
       "      <td>bb</td>\n",
       "      <td>100.0</td>\n",
       "      <td>f</td>\n",
       "      <td>0.0</td>\n",
       "      <td>f</td>\n",
       "      <td>0.0</td>\n",
       "      <td>r</td>\n",
       "      <td>225.0</td>\n",
       "      <td>f</td>\n",
       "      <td>0.0</td>\n",
       "    </tr>\n",
       "  </tbody>\n",
       "</table>\n",
       "</div>"
      ],
      "text/plain": [
       "  Action  Position  Hand    Pot P1-Action  P1-Bet P2-Action  P2-Bet P3-Action  \\\n",
       "0      f         2  3169  150.0        sb    50.0        bb   100.0      hold   \n",
       "1      f         3  3257  150.0        sb    50.0        bb   100.0         f   \n",
       "2      r         4   133  150.0        sb    50.0        bb   100.0         f   \n",
       "3      f         5  2465  375.0        sb    50.0        bb   100.0         f   \n",
       "4      f         0  7217  375.0        bb   100.0         f     0.0         f   \n",
       "\n",
       "   P3-Bet P4-Action  P4-Bet P5-Action  P5-Bet  \n",
       "0     0.0      hold     0.0      hold     0.0  \n",
       "1     0.0      hold     0.0      hold     0.0  \n",
       "2     0.0         f     0.0      hold     0.0  \n",
       "3     0.0         f     0.0         r   225.0  \n",
       "4     0.0         r   225.0         f     0.0  "
      ]
     },
     "execution_count": 2,
     "metadata": {},
     "output_type": "execute_result"
    }
   ],
   "source": [
    "df_class = pd.read_csv('poker_dados_clasf.csv')\n",
    "df_class.head()"
   ]
  },
  {
   "cell_type": "code",
   "execution_count": 3,
   "metadata": {},
   "outputs": [],
   "source": [
    "colunas_numericas = ['Position',\n",
    "                     'Hand',\n",
    "                     'Pot',\n",
    "                     'P1-Bet',\n",
    "                     'P2-Bet',\n",
    "                     'P3-Bet',\n",
    "                     'P4-Bet',\n",
    "                     'P5-Bet'\n",
    "                    ]\n",
    "\n",
    "colunas_classes = ['P1-Action',\n",
    "                   'P2-Action',\n",
    "                   'P3-Action',\n",
    "                   'P4-Action',\n",
    "                   'P5-Action'\n",
    "                   ]"
   ]
  },
  {
   "cell_type": "markdown",
   "metadata": {},
   "source": [
    "### Separando em Teste/Treino:"
   ]
  },
  {
   "cell_type": "code",
   "execution_count": 4,
   "metadata": {},
   "outputs": [
    {
     "data": {
      "text/html": [
       "<div>\n",
       "<style scoped>\n",
       "    .dataframe tbody tr th:only-of-type {\n",
       "        vertical-align: middle;\n",
       "    }\n",
       "\n",
       "    .dataframe tbody tr th {\n",
       "        vertical-align: top;\n",
       "    }\n",
       "\n",
       "    .dataframe thead th {\n",
       "        text-align: right;\n",
       "    }\n",
       "</style>\n",
       "<table border=\"1\" class=\"dataframe\">\n",
       "  <thead>\n",
       "    <tr style=\"text-align: right;\">\n",
       "      <th></th>\n",
       "      <th>Position</th>\n",
       "      <th>Hand</th>\n",
       "      <th>Pot</th>\n",
       "      <th>P1-Action</th>\n",
       "      <th>P1-Bet</th>\n",
       "      <th>P2-Action</th>\n",
       "      <th>P2-Bet</th>\n",
       "      <th>P3-Action</th>\n",
       "      <th>P3-Bet</th>\n",
       "      <th>P4-Action</th>\n",
       "      <th>P4-Bet</th>\n",
       "      <th>P5-Action</th>\n",
       "      <th>P5-Bet</th>\n",
       "    </tr>\n",
       "  </thead>\n",
       "  <tbody>\n",
       "    <tr>\n",
       "      <th>0</th>\n",
       "      <td>2</td>\n",
       "      <td>3169</td>\n",
       "      <td>150.0</td>\n",
       "      <td>sb</td>\n",
       "      <td>50.0</td>\n",
       "      <td>bb</td>\n",
       "      <td>100.0</td>\n",
       "      <td>hold</td>\n",
       "      <td>0.0</td>\n",
       "      <td>hold</td>\n",
       "      <td>0.0</td>\n",
       "      <td>hold</td>\n",
       "      <td>0.0</td>\n",
       "    </tr>\n",
       "    <tr>\n",
       "      <th>1</th>\n",
       "      <td>3</td>\n",
       "      <td>3257</td>\n",
       "      <td>150.0</td>\n",
       "      <td>sb</td>\n",
       "      <td>50.0</td>\n",
       "      <td>bb</td>\n",
       "      <td>100.0</td>\n",
       "      <td>f</td>\n",
       "      <td>0.0</td>\n",
       "      <td>hold</td>\n",
       "      <td>0.0</td>\n",
       "      <td>hold</td>\n",
       "      <td>0.0</td>\n",
       "    </tr>\n",
       "  </tbody>\n",
       "</table>\n",
       "</div>"
      ],
      "text/plain": [
       "   Position  Hand    Pot P1-Action  P1-Bet P2-Action  P2-Bet P3-Action  \\\n",
       "0         2  3169  150.0        sb    50.0        bb   100.0      hold   \n",
       "1         3  3257  150.0        sb    50.0        bb   100.0         f   \n",
       "\n",
       "   P3-Bet P4-Action  P4-Bet P5-Action  P5-Bet  \n",
       "0     0.0      hold     0.0      hold     0.0  \n",
       "1     0.0      hold     0.0      hold     0.0  "
      ]
     },
     "execution_count": 4,
     "metadata": {},
     "output_type": "execute_result"
    }
   ],
   "source": [
    "class_X = df_class.copy()\n",
    "class_X.drop('Action', axis=1, inplace=True)\n",
    "class_y = df_class['Action']\n",
    "class_X.head(2)"
   ]
  },
  {
   "cell_type": "code",
   "execution_count": 5,
   "metadata": {},
   "outputs": [
    {
     "name": "stdout",
     "output_type": "stream",
     "text": [
      "(34080, 13)\n",
      "(8521, 13)\n"
     ]
    }
   ],
   "source": [
    "class_X_train, class_X_test, class_y_train, class_y_test = train_test_split(class_X, class_y, test_size=0.2)\n",
    "print(class_X_train.shape)\n",
    "print(class_X_test.shape)"
   ]
  },
  {
   "cell_type": "markdown",
   "metadata": {},
   "source": [
    "### Normalizando os dados:"
   ]
  },
  {
   "cell_type": "code",
   "execution_count": 6,
   "metadata": {},
   "outputs": [],
   "source": [
    "class_mean_train = class_X_train[colunas_numericas].mean()\n",
    "class_std_train = class_X_train[colunas_numericas].std(ddof=1)\n",
    "\n",
    "class_Z_train = class_X_train.copy()\n",
    "class_Z_train[colunas_numericas] = class_X_train[colunas_numericas] - class_mean_train\n",
    "class_Z_train[colunas_numericas] = class_Z_train[colunas_numericas] / class_std_train\n",
    "\n",
    "class_Z_test = class_X_test.copy()\n",
    "class_Z_test[colunas_numericas] = class_X_test[colunas_numericas] - class_mean_train\n",
    "class_Z_test[colunas_numericas] = class_Z_test[colunas_numericas] / class_std_train"
   ]
  },
  {
   "cell_type": "code",
   "execution_count": 7,
   "metadata": {},
   "outputs": [
    {
     "data": {
      "text/html": [
       "<div>\n",
       "<style scoped>\n",
       "    .dataframe tbody tr th:only-of-type {\n",
       "        vertical-align: middle;\n",
       "    }\n",
       "\n",
       "    .dataframe tbody tr th {\n",
       "        vertical-align: top;\n",
       "    }\n",
       "\n",
       "    .dataframe thead th {\n",
       "        text-align: right;\n",
       "    }\n",
       "</style>\n",
       "<table border=\"1\" class=\"dataframe\">\n",
       "  <thead>\n",
       "    <tr style=\"text-align: right;\">\n",
       "      <th></th>\n",
       "      <th>Position</th>\n",
       "      <th>Hand</th>\n",
       "      <th>Pot</th>\n",
       "      <th>P1-Bet</th>\n",
       "      <th>P2-Bet</th>\n",
       "      <th>P3-Bet</th>\n",
       "      <th>P4-Bet</th>\n",
       "      <th>P5-Bet</th>\n",
       "      <th>P1-Action_bb</th>\n",
       "      <th>P1-Action_c</th>\n",
       "      <th>...</th>\n",
       "      <th>P3-Action_hold</th>\n",
       "      <th>P3-Action_r</th>\n",
       "      <th>P4-Action_c</th>\n",
       "      <th>P4-Action_f</th>\n",
       "      <th>P4-Action_hold</th>\n",
       "      <th>P4-Action_r</th>\n",
       "      <th>P5-Action_c</th>\n",
       "      <th>P5-Action_f</th>\n",
       "      <th>P5-Action_hold</th>\n",
       "      <th>P5-Action_r</th>\n",
       "    </tr>\n",
       "  </thead>\n",
       "  <tbody>\n",
       "    <tr>\n",
       "      <th>24873</th>\n",
       "      <td>1.446761</td>\n",
       "      <td>-1.009942</td>\n",
       "      <td>0.334148</td>\n",
       "      <td>-0.154471</td>\n",
       "      <td>0.33485</td>\n",
       "      <td>-0.417396</td>\n",
       "      <td>-0.373442</td>\n",
       "      <td>2.000682</td>\n",
       "      <td>0</td>\n",
       "      <td>0</td>\n",
       "      <td>...</td>\n",
       "      <td>0</td>\n",
       "      <td>0</td>\n",
       "      <td>0</td>\n",
       "      <td>1</td>\n",
       "      <td>0</td>\n",
       "      <td>0</td>\n",
       "      <td>0</td>\n",
       "      <td>0</td>\n",
       "      <td>0</td>\n",
       "      <td>1</td>\n",
       "    </tr>\n",
       "    <tr>\n",
       "      <th>33013</th>\n",
       "      <td>0.861510</td>\n",
       "      <td>-1.500324</td>\n",
       "      <td>-0.602386</td>\n",
       "      <td>-0.154471</td>\n",
       "      <td>0.33485</td>\n",
       "      <td>-0.417396</td>\n",
       "      <td>-0.373442</td>\n",
       "      <td>-0.328947</td>\n",
       "      <td>0</td>\n",
       "      <td>0</td>\n",
       "      <td>...</td>\n",
       "      <td>0</td>\n",
       "      <td>0</td>\n",
       "      <td>0</td>\n",
       "      <td>1</td>\n",
       "      <td>0</td>\n",
       "      <td>0</td>\n",
       "      <td>0</td>\n",
       "      <td>0</td>\n",
       "      <td>1</td>\n",
       "      <td>0</td>\n",
       "    </tr>\n",
       "  </tbody>\n",
       "</table>\n",
       "<p>2 rows × 29 columns</p>\n",
       "</div>"
      ],
      "text/plain": [
       "       Position      Hand       Pot    P1-Bet   P2-Bet    P3-Bet    P4-Bet  \\\n",
       "24873  1.446761 -1.009942  0.334148 -0.154471  0.33485 -0.417396 -0.373442   \n",
       "33013  0.861510 -1.500324 -0.602386 -0.154471  0.33485 -0.417396 -0.373442   \n",
       "\n",
       "         P5-Bet  P1-Action_bb  P1-Action_c     ...       P3-Action_hold  \\\n",
       "24873  2.000682             0            0     ...                    0   \n",
       "33013 -0.328947             0            0     ...                    0   \n",
       "\n",
       "       P3-Action_r  P4-Action_c  P4-Action_f  P4-Action_hold  P4-Action_r  \\\n",
       "24873            0            0            1               0            0   \n",
       "33013            0            0            1               0            0   \n",
       "\n",
       "       P5-Action_c  P5-Action_f  P5-Action_hold  P5-Action_r  \n",
       "24873            0            0               0            1  \n",
       "33013            0            0               1            0  \n",
       "\n",
       "[2 rows x 29 columns]"
      ]
     },
     "execution_count": 7,
     "metadata": {},
     "output_type": "execute_result"
    }
   ],
   "source": [
    "class_D_train = pd.get_dummies(class_Z_train)\n",
    "class_D_test = pd.get_dummies(class_Z_test)\n",
    "class_D_train.head(2)"
   ]
  },
  {
   "cell_type": "markdown",
   "metadata": {},
   "source": [
    "## Modelo de classificação - kNN"
   ]
  },
  {
   "cell_type": "markdown",
   "metadata": {},
   "source": [
    "### Validação Cruzada KNN:"
   ]
  },
  {
   "cell_type": "code",
   "execution_count": 8,
   "metadata": {},
   "outputs": [
    {
     "name": "stdout",
     "output_type": "stream",
     "text": [
      "Fold ->  1\n",
      "Melhor ->  10  com valor  0.9155326137963398\n",
      "\n",
      "\n",
      "Fold ->  2\n",
      "Melhor ->  10  com valor  0.9127170342562178\n",
      "\n",
      "\n",
      "Fold ->  3\n",
      "Melhor ->  8  com valor  0.9187984041304857\n",
      "\n",
      "\n",
      "Fold ->  4\n",
      "Melhor ->  7  com valor  0.9204038506691712\n",
      "\n",
      "\n",
      "Fold ->  5\n",
      "Melhor ->  7  com valor  0.915707912655553\n",
      "\n",
      "\n",
      "Fold ->  6\n",
      "Melhor ->  9  com valor  0.9152383188541912\n",
      "\n",
      "\n",
      "Fold ->  7\n",
      "Melhor ->  5  com valor  0.9121859591453393\n",
      "\n",
      "\n",
      "Fold ->  8\n",
      "Melhor ->  9  com valor  0.9131251467480629\n",
      "\n",
      "\n"
     ]
    }
   ],
   "source": [
    "# Fazendo a validação cruzada.\n",
    "\n",
    "fold = 1\n",
    "skf = StratifiedKFold(n_splits= 8)\n",
    "melhores = []\n",
    "for train_index, val_index in skf.split(class_D_train, class_y_train):\n",
    "    print('Fold -> ', fold)\n",
    "    best = (0,0)\n",
    "    for k in [1, 2, 3, 4, 5, 6, 7, 8, 9, 10]:\n",
    "        model = KNeighborsClassifier(n_neighbors= k)\n",
    "        model.fit(class_D_train.values[train_index], class_y_train.values[train_index])\n",
    "        \n",
    "        y_val = class_y_train.values[val_index]\n",
    "        y_hat = model.predict(class_D_train.values[val_index])\n",
    "        \n",
    "        accuracy = accuracy_score(y_val, y_hat)\n",
    "        if accuracy > best[0]:\n",
    "            best = (accuracy, k)\n",
    "    print('Melhor -> ', best[1], ' com valor ', best[0])\n",
    "    melhores.append(best[1])\n",
    "    print()\n",
    "    print()\n",
    "    fold += 1"
   ]
  },
  {
   "cell_type": "code",
   "execution_count": 9,
   "metadata": {},
   "outputs": [
    {
     "name": "stdout",
     "output_type": "stream",
     "text": [
      "8.125\n",
      "8.5\n"
     ]
    },
    {
     "data": {
      "image/png": "[encoded data removed]",
      "text/plain": [
       "<Figure size 432x288 with 1 Axes>"
      ]
     },
     "metadata": {
      "needs_background": "light"
     },
     "output_type": "display_data"
    }
   ],
   "source": [
    "# Verificando melhor 'k'.\n",
    "\n",
    "unique, counts = np.unique(melhores, return_counts= True)\n",
    "plt.bar(unique, counts)\n",
    "print(np.mean(melhores))\n",
    "print(np.median(melhores))"
   ]
  },
  {
   "cell_type": "markdown",
   "metadata": {},
   "source": [
    "### Treino e Teste KNN:"
   ]
  },
  {
   "cell_type": "code",
   "execution_count": 10,
   "metadata": {},
   "outputs": [
    {
     "name": "stdout",
     "output_type": "stream",
     "text": [
      "              precision    recall  f1-score   support\n",
      "\n",
      "           c       0.66      0.68      0.67       777\n",
      "           f       0.96      0.96      0.96      6229\n",
      "           r       0.86      0.82      0.84      1515\n",
      "\n",
      "   micro avg       0.91      0.91      0.91      8521\n",
      "   macro avg       0.83      0.82      0.82      8521\n",
      "weighted avg       0.91      0.91      0.91      8521\n",
      "\n"
     ]
    }
   ],
   "source": [
    "# Calculando precisão, revocação e F1 para o kNN com 'k = 7'.\n",
    "\n",
    "model_kNN = KNeighborsClassifier(n_neighbors= 7)\n",
    "model_kNN.fit(class_D_train.values, class_y_train.values)\n",
    "\n",
    "print(classification_report(class_y_test, model_kNN.predict(class_D_test)))"
   ]
  },
  {
   "cell_type": "markdown",
   "metadata": {},
   "source": [
    "### Matriz de confusão dos dados:"
   ]
  },
  {
   "cell_type": "code",
   "execution_count": 11,
   "metadata": {},
   "outputs": [
    {
     "data": {
      "text/plain": [
       "Text(0.5,0,'Verdadeiro')"
      ]
     },
     "execution_count": 11,
     "metadata": {},
     "output_type": "execute_result"
    },
    {
     "data": {
      "image/png": "[encoded data removed]",
      "text/plain": [
       "<Figure size 432x288 with 2 Axes>"
      ]
     },
     "metadata": {
      "needs_background": "light"
     },
     "output_type": "display_data"
    }
   ],
   "source": [
    "# Exibindo a matriz de confusão do kNN.\n",
    "\n",
    "plt.imshow(confusion_matrix(class_y_test, model_kNN.predict(class_D_test)))\n",
    "plt.xticks([0, 1, 2], ['call', 'fold',  'raise'], rotation=90)\n",
    "plt.yticks([0, 1, 2], ['call', 'fold',  'raise'])\n",
    "plt.colorbar()\n",
    "plt.title('Previsão de jogadas')\n",
    "plt.ylabel('Previsto')\n",
    "plt.xlabel('Verdadeiro')"
   ]
  },
  {
   "cell_type": "markdown",
   "metadata": {},
   "source": [
    "## Modelo de classificação - Regressão Logística"
   ]
  },
  {
   "cell_type": "markdown",
   "metadata": {},
   "source": [
    "### Treino e Teste da regressão:"
   ]
  },
  {
   "cell_type": "code",
   "execution_count": 12,
   "metadata": {},
   "outputs": [
    {
     "name": "stderr",
     "output_type": "stream",
     "text": [
      "C:\\Anaconda3\\lib\\site-packages\\sklearn\\linear_model\\logistic.py:758: ConvergenceWarning: lbfgs failed to converge. Increase the number of iterations.\n",
      "  \"of iterations.\", ConvergenceWarning)\n",
      "C:\\Anaconda3\\lib\\site-packages\\sklearn\\linear_model\\logistic.py:758: ConvergenceWarning: lbfgs failed to converge. Increase the number of iterations.\n",
      "  \"of iterations.\", ConvergenceWarning)\n",
      "C:\\Anaconda3\\lib\\site-packages\\sklearn\\linear_model\\logistic.py:758: ConvergenceWarning: lbfgs failed to converge. Increase the number of iterations.\n",
      "  \"of iterations.\", ConvergenceWarning)\n",
      "C:\\Anaconda3\\lib\\site-packages\\sklearn\\linear_model\\logistic.py:758: ConvergenceWarning: lbfgs failed to converge. Increase the number of iterations.\n",
      "  \"of iterations.\", ConvergenceWarning)\n",
      "C:\\Anaconda3\\lib\\site-packages\\sklearn\\linear_model\\logistic.py:758: ConvergenceWarning: lbfgs failed to converge. Increase the number of iterations.\n",
      "  \"of iterations.\", ConvergenceWarning)\n",
      "C:\\Anaconda3\\lib\\site-packages\\sklearn\\linear_model\\logistic.py:758: ConvergenceWarning: lbfgs failed to converge. Increase the number of iterations.\n",
      "  \"of iterations.\", ConvergenceWarning)\n",
      "C:\\Anaconda3\\lib\\site-packages\\sklearn\\linear_model\\logistic.py:758: ConvergenceWarning: lbfgs failed to converge. Increase the number of iterations.\n",
      "  \"of iterations.\", ConvergenceWarning)\n",
      "C:\\Anaconda3\\lib\\site-packages\\sklearn\\linear_model\\logistic.py:758: ConvergenceWarning: lbfgs failed to converge. Increase the number of iterations.\n",
      "  \"of iterations.\", ConvergenceWarning)\n",
      "C:\\Anaconda3\\lib\\site-packages\\sklearn\\linear_model\\logistic.py:758: ConvergenceWarning: lbfgs failed to converge. Increase the number of iterations.\n",
      "  \"of iterations.\", ConvergenceWarning)\n",
      "C:\\Anaconda3\\lib\\site-packages\\sklearn\\linear_model\\logistic.py:758: ConvergenceWarning: lbfgs failed to converge. Increase the number of iterations.\n",
      "  \"of iterations.\", ConvergenceWarning)\n",
      "C:\\Anaconda3\\lib\\site-packages\\sklearn\\linear_model\\logistic.py:758: ConvergenceWarning: lbfgs failed to converge. Increase the number of iterations.\n",
      "  \"of iterations.\", ConvergenceWarning)\n",
      "C:\\Anaconda3\\lib\\site-packages\\sklearn\\linear_model\\logistic.py:758: ConvergenceWarning: lbfgs failed to converge. Increase the number of iterations.\n",
      "  \"of iterations.\", ConvergenceWarning)\n",
      "C:\\Anaconda3\\lib\\site-packages\\sklearn\\linear_model\\logistic.py:758: ConvergenceWarning: lbfgs failed to converge. Increase the number of iterations.\n",
      "  \"of iterations.\", ConvergenceWarning)\n",
      "C:\\Anaconda3\\lib\\site-packages\\sklearn\\linear_model\\logistic.py:758: ConvergenceWarning: lbfgs failed to converge. Increase the number of iterations.\n",
      "  \"of iterations.\", ConvergenceWarning)\n",
      "C:\\Anaconda3\\lib\\site-packages\\sklearn\\linear_model\\logistic.py:758: ConvergenceWarning: lbfgs failed to converge. Increase the number of iterations.\n",
      "  \"of iterations.\", ConvergenceWarning)\n",
      "C:\\Anaconda3\\lib\\site-packages\\sklearn\\linear_model\\logistic.py:758: ConvergenceWarning: lbfgs failed to converge. Increase the number of iterations.\n",
      "  \"of iterations.\", ConvergenceWarning)\n"
     ]
    },
    {
     "data": {
      "text/plain": [
       "LogisticRegressionCV(Cs=100, class_weight=None, cv=5, dual=False,\n",
       "           fit_intercept=False, intercept_scaling=1.0, max_iter=100,\n",
       "           multi_class='ovr', n_jobs=None, penalty='l2', random_state=None,\n",
       "           refit=True, scoring=None, solver='lbfgs', tol=0.0001, verbose=0)"
      ]
     },
     "execution_count": 12,
     "metadata": {},
     "output_type": "execute_result"
    }
   ],
   "source": [
    "# Fazendo a regressão logística regularizada.<br>\n",
    "\n",
    "## - Regressão Linear## Modelo de classificação - kNN### Treino e Teste KNN:\n",
    "\n",
    "model_RL = LogisticRegressionCV(Cs = 100,\n",
    "                             penalty = 'l2',\n",
    "                             cv = 5,\n",
    "                             fit_intercept = False,\n",
    "                             multi_class = 'ovr')\n",
    "model_RL.fit(class_D_test, class_y_test)"
   ]
  },
  {
   "cell_type": "code",
   "execution_count": 13,
   "metadata": {},
   "outputs": [
    {
     "name": "stdout",
     "output_type": "stream",
     "text": [
      "              precision    recall  f1-score   support\n",
      "\n",
      "           c       0.73      0.53      0.61       777\n",
      "           f       0.93      0.97      0.95      6229\n",
      "           r       0.80      0.79      0.79      1515\n",
      "\n",
      "   micro avg       0.89      0.89      0.89      8521\n",
      "   macro avg       0.82      0.76      0.78      8521\n",
      "weighted avg       0.89      0.89      0.89      8521\n",
      "\n"
     ]
    }
   ],
   "source": [
    "# Calculando precisão, revocação e F1 para a Regressão Logística.\n",
    "\n",
    "print(classification_report(class_y_test, model_RL.predict(class_D_test)))"
   ]
  },
  {
   "cell_type": "markdown",
   "metadata": {},
   "source": [
    "### Matriz de confusão dos dados:"
   ]
  },
  {
   "cell_type": "code",
   "execution_count": 14,
   "metadata": {},
   "outputs": [
    {
     "data": {
      "text/plain": [
       "Text(0.5,0,'Verdadeiro')"
      ]
     },
     "execution_count": 14,
     "metadata": {},
     "output_type": "execute_result"
    },
    {
     "data": {
      "image/png": "[encoded data removed]",
      "text/plain": [
       "<Figure size 432x288 with 2 Axes>"
      ]
     },
     "metadata": {
      "needs_background": "light"
     },
     "output_type": "display_data"
    }
   ],
   "source": [
    "# Exibindo a matriz de confusão da regressão.\n",
    "\n",
    "plt.imshow(confusion_matrix(class_y_test, model_RL.predict(class_D_test)))\n",
    "plt.xticks([0, 1, 2], ['call', 'fold',  'raise'], rotation=90)\n",
    "plt.yticks([0, 1, 2], ['call', 'fold',  'raise'])\n",
    "plt.colorbar()\n",
    "plt.title('Previsão de jogadas')\n",
    "plt.ylabel('Previsto')\n",
    "plt.xlabel('Verdadeiro')"
   ]
  },
  {
   "cell_type": "markdown",
   "metadata": {},
   "source": [
    "## Comparando os modelos:"
   ]
  },
  {
   "cell_type": "code",
   "execution_count": 15,
   "metadata": {},
   "outputs": [
    {
     "name": "stdout",
     "output_type": "stream",
     "text": [
      "Precisão do kNN:  0.9125689473066542\n",
      "Precisão da Regressão Logística:  0.8949653796502758\n"
     ]
    }
   ],
   "source": [
    "# Comparando precisões (acurácias por se tratarem de mais de duas classes).\n",
    "\n",
    "print('Precisão do kNN: ', accuracy_score(class_y_test, model_kNN.predict(class_D_test)))\n",
    "print('Precisão da Regressão Logística: ', accuracy_score(class_y_test, model_RL.predict(class_D_test)))"
   ]
  },
  {
   "cell_type": "markdown",
   "metadata": {},
   "source": [
    "### Definindo bootstrap:"
   ]
  },
  {
   "cell_type": "code",
   "execution_count": 16,
   "metadata": {},
   "outputs": [],
   "source": [
    "# Criando a função bootstrap para calcular o IC de cada modelo.\n",
    "\n",
    "def bootstrap_accuracy(X, y, model, n= 10):\n",
    "    size = len(X)\n",
    "    values = np.zeros(n)\n",
    "    idx = np.arange(len(X))\n",
    "    for i in range(n):\n",
    "        sample = np.random.choice(idx, size= size, replace= True)\n",
    "        values[i] = accuracy_score(y.values[sample], model.predict(X.values[sample]))\n",
    "    return values"
   ]
  },
  {
   "cell_type": "code",
   "execution_count": 17,
   "metadata": {},
   "outputs": [],
   "source": [
    "sample_kNN = bootstrap_accuracy(class_D_test, class_y_test, model_kNN)"
   ]
  },
  {
   "cell_type": "code",
   "execution_count": 18,
   "metadata": {},
   "outputs": [],
   "source": [
    "sample_RL = bootstrap_accuracy(class_D_test, class_y_test, model_RL)"
   ]
  },
  {
   "cell_type": "code",
   "execution_count": 19,
   "metadata": {},
   "outputs": [
    {
     "name": "stdout",
     "output_type": "stream",
     "text": [
      "IC do kNN: ( 0.908065367914564 , 0.91526229315808 )\n",
      "IC do Regressão Logística: ( 0.8923189766459336 , 0.9019510620819152 )\n"
     ]
    }
   ],
   "source": [
    "# Calculando o IC da precisão de cada modelo.\n",
    "\n",
    "knn_ic_inf = np.percentile(sample_kNN, 2.5)\n",
    "knn_ic_sup = np.percentile(sample_kNN, 97.5)\n",
    "rl_ic_inf = np.percentile(sample_RL, 2.5)\n",
    "rl_ic_sup = np.percentile(sample_RL, 97.5)\n",
    "\n",
    "print('IC do kNN: (', knn_ic_inf, ',', knn_ic_sup,')')\n",
    "print('IC do Regressão Logística: (', rl_ic_inf, ',', rl_ic_sup,')')"
   ]
  },
  {
   "cell_type": "markdown",
   "metadata": {},
   "source": [
    "O desempenho da classificação foi muito bom, sendo consideravelmente competente em prever a jogada que será feita naquele turno com base nos atributos que sintetizam a situação atual do jogo, apresentando acurácias notavelmente altas para as previsões de cada grupo. Essa afirmação é válida para os dois métodos, apesar de que, pela análise dos intervalos de confiança do bootstrap das acurácias de cada método, o kNN é estatísticamente melhor, mesmo que só um pouco."
   ]
  }
 ],
 "metadata": {
  "kernelspec": {
   "display_name": "Python 3",
   "language": "python",
   "name": "python3"
  },
  "language_info": {
   "codemirror_mode": {
    "name": "ipython",
    "version": 3
   },
   "file_extension": ".py",
   "mimetype": "text/x-python",
   "name": "python",
   "nbconvert_exporter": "python",
   "pygments_lexer": "ipython3",
   "version": "3.7.0"
  }
 },
 "nbformat": 4,
 "nbformat_minor": 4
}
