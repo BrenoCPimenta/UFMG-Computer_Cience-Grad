{
 "cells": [
  {
   "cell_type": "markdown",
   "metadata": {},
   "source": [
    "# Projeto ICD - Regressão\n",
    "## Regressão entre valor da aposta com base nos demais atributos\n",
    "\n",
    "O objetivo é, em jogadas onde os jogadores aumentam as apostas, tentar prever qual o valor que será aumentado, a partir dos dados presentes na mesa.\n",
    "Aplicaremos os modelos kNN e regressão linear com a variável prevista sendo o valor da aposta do jogador naquele turno, definida em \"Raise\". Verificaremos os valores de variância, R2, erro médio absoluto e erro quadrado médio para avaliar seus desempenhos na regressão. Por fim, compararemos os métodos com base nesses valores calculados. "
   ]
  },
  {
   "cell_type": "markdown",
   "metadata": {},
   "source": [
    "### Imports"
   ]
  },
  {
   "cell_type": "code",
   "execution_count": 1,
   "metadata": {},
   "outputs": [],
   "source": [
    "import pandas as pd\n",
    "import numpy as np\n",
    "import matplotlib.pyplot as plt\n",
    "from sklearn.model_selection import train_test_split\n",
    "from sklearn.neighbors import KNeighborsRegressor\n",
    "from sklearn.linear_model import LinearRegression\n",
    "from sklearn.model_selection import GridSearchCV, KFold\n",
    "from sklearn.metrics import explained_variance_score, r2_score, mean_squared_error, median_absolute_error\n",
    "from sklearn.feature_selection import RFE"
   ]
  },
  {
   "cell_type": "markdown",
   "metadata": {},
   "source": [
    "### Carregando dados tratados:"
   ]
  },
  {
   "cell_type": "code",
   "execution_count": 2,
   "metadata": {},
   "outputs": [],
   "source": [
    "df_regress = pd.read_csv('poker_dados_regress.csv')"
   ]
  },
  {
   "cell_type": "code",
   "execution_count": 3,
   "metadata": {},
   "outputs": [
    {
     "data": {
      "text/html": [
       "<div>\n",
       "<style scoped>\n",
       "    .dataframe tbody tr th:only-of-type {\n",
       "        vertical-align: middle;\n",
       "    }\n",
       "\n",
       "    .dataframe tbody tr th {\n",
       "        vertical-align: top;\n",
       "    }\n",
       "\n",
       "    .dataframe thead th {\n",
       "        text-align: right;\n",
       "    }\n",
       "</style>\n",
       "<table border=\"1\" class=\"dataframe\">\n",
       "  <thead>\n",
       "    <tr style=\"text-align: right;\">\n",
       "      <th></th>\n",
       "      <th>Raise</th>\n",
       "      <th>Position</th>\n",
       "      <th>Hand</th>\n",
       "      <th>Pot</th>\n",
       "      <th>P1-Action</th>\n",
       "      <th>P1-Bet</th>\n",
       "      <th>P2-Action</th>\n",
       "      <th>P2-Bet</th>\n",
       "      <th>P3-Action</th>\n",
       "      <th>P3-Bet</th>\n",
       "      <th>P4-Action</th>\n",
       "      <th>P4-Bet</th>\n",
       "      <th>P5-Action</th>\n",
       "      <th>P5-Bet</th>\n",
       "    </tr>\n",
       "  </thead>\n",
       "  <tbody>\n",
       "    <tr>\n",
       "      <th>0</th>\n",
       "      <td>225.0</td>\n",
       "      <td>4</td>\n",
       "      <td>133</td>\n",
       "      <td>150.0</td>\n",
       "      <td>sb</td>\n",
       "      <td>50.0</td>\n",
       "      <td>bb</td>\n",
       "      <td>100.0</td>\n",
       "      <td>f</td>\n",
       "      <td>0.0</td>\n",
       "      <td>f</td>\n",
       "      <td>0.0</td>\n",
       "      <td>hold</td>\n",
       "      <td>0.0</td>\n",
       "    </tr>\n",
       "    <tr>\n",
       "      <th>1</th>\n",
       "      <td>300.0</td>\n",
       "      <td>0</td>\n",
       "      <td>5017</td>\n",
       "      <td>150.0</td>\n",
       "      <td>bb</td>\n",
       "      <td>100.0</td>\n",
       "      <td>f</td>\n",
       "      <td>0.0</td>\n",
       "      <td>f</td>\n",
       "      <td>0.0</td>\n",
       "      <td>f</td>\n",
       "      <td>0.0</td>\n",
       "      <td>f</td>\n",
       "      <td>0.0</td>\n",
       "    </tr>\n",
       "    <tr>\n",
       "      <th>2</th>\n",
       "      <td>200.0</td>\n",
       "      <td>5</td>\n",
       "      <td>441</td>\n",
       "      <td>150.0</td>\n",
       "      <td>sb</td>\n",
       "      <td>50.0</td>\n",
       "      <td>bb</td>\n",
       "      <td>100.0</td>\n",
       "      <td>f</td>\n",
       "      <td>0.0</td>\n",
       "      <td>f</td>\n",
       "      <td>0.0</td>\n",
       "      <td>f</td>\n",
       "      <td>0.0</td>\n",
       "    </tr>\n",
       "    <tr>\n",
       "      <th>3</th>\n",
       "      <td>200.0</td>\n",
       "      <td>4</td>\n",
       "      <td>1189</td>\n",
       "      <td>150.0</td>\n",
       "      <td>sb</td>\n",
       "      <td>50.0</td>\n",
       "      <td>bb</td>\n",
       "      <td>100.0</td>\n",
       "      <td>f</td>\n",
       "      <td>0.0</td>\n",
       "      <td>f</td>\n",
       "      <td>0.0</td>\n",
       "      <td>hold</td>\n",
       "      <td>0.0</td>\n",
       "    </tr>\n",
       "    <tr>\n",
       "      <th>4</th>\n",
       "      <td>500.0</td>\n",
       "      <td>5</td>\n",
       "      <td>705</td>\n",
       "      <td>350.0</td>\n",
       "      <td>sb</td>\n",
       "      <td>50.0</td>\n",
       "      <td>bb</td>\n",
       "      <td>100.0</td>\n",
       "      <td>f</td>\n",
       "      <td>0.0</td>\n",
       "      <td>f</td>\n",
       "      <td>0.0</td>\n",
       "      <td>r</td>\n",
       "      <td>200.0</td>\n",
       "    </tr>\n",
       "  </tbody>\n",
       "</table>\n",
       "</div>"
      ],
      "text/plain": [
       "   Raise  Position  Hand    Pot P1-Action  P1-Bet P2-Action  P2-Bet P3-Action  \\\n",
       "0  225.0         4   133  150.0        sb    50.0        bb   100.0         f   \n",
       "1  300.0         0  5017  150.0        bb   100.0         f     0.0         f   \n",
       "2  200.0         5   441  150.0        sb    50.0        bb   100.0         f   \n",
       "3  200.0         4  1189  150.0        sb    50.0        bb   100.0         f   \n",
       "4  500.0         5   705  350.0        sb    50.0        bb   100.0         f   \n",
       "\n",
       "   P3-Bet P4-Action  P4-Bet P5-Action  P5-Bet  \n",
       "0     0.0         f     0.0      hold     0.0  \n",
       "1     0.0         f     0.0         f     0.0  \n",
       "2     0.0         f     0.0         f     0.0  \n",
       "3     0.0         f     0.0      hold     0.0  \n",
       "4     0.0         f     0.0         r   200.0  "
      ]
     },
     "execution_count": 3,
     "metadata": {},
     "output_type": "execute_result"
    }
   ],
   "source": [
    "df_regress.head(5)"
   ]
  },
  {
   "cell_type": "code",
   "execution_count": 4,
   "metadata": {},
   "outputs": [],
   "source": [
    "colunas_numericas = ['Position',\n",
    "                     'Hand',\n",
    "                     'Pot',\n",
    "                     'P1-Bet',\n",
    "                     'P2-Bet',\n",
    "                     'P3-Bet',\n",
    "                     'P4-Bet',\n",
    "                     'P5-Bet'\n",
    "                    ]\n",
    "\n",
    "colunas_classes = ['P1-Action',\n",
    "                   'P2-Action',\n",
    "                   'P3-Action',\n",
    "                   'P4-Action',\n",
    "                   'P5-Action'\n",
    "                   ]"
   ]
  },
  {
   "cell_type": "markdown",
   "metadata": {},
   "source": [
    "### Separando em Teste/Treino:"
   ]
  },
  {
   "cell_type": "markdown",
   "metadata": {},
   "source": [
    "* **Separando o classificador:**"
   ]
  },
  {
   "cell_type": "code",
   "execution_count": 5,
   "metadata": {},
   "outputs": [
    {
     "data": {
      "text/html": [
       "<div>\n",
       "<style scoped>\n",
       "    .dataframe tbody tr th:only-of-type {\n",
       "        vertical-align: middle;\n",
       "    }\n",
       "\n",
       "    .dataframe tbody tr th {\n",
       "        vertical-align: top;\n",
       "    }\n",
       "\n",
       "    .dataframe thead th {\n",
       "        text-align: right;\n",
       "    }\n",
       "</style>\n",
       "<table border=\"1\" class=\"dataframe\">\n",
       "  <thead>\n",
       "    <tr style=\"text-align: right;\">\n",
       "      <th></th>\n",
       "      <th>Position</th>\n",
       "      <th>Hand</th>\n",
       "      <th>Pot</th>\n",
       "      <th>P1-Action</th>\n",
       "      <th>P1-Bet</th>\n",
       "      <th>P2-Action</th>\n",
       "      <th>P2-Bet</th>\n",
       "      <th>P3-Action</th>\n",
       "      <th>P3-Bet</th>\n",
       "      <th>P4-Action</th>\n",
       "      <th>P4-Bet</th>\n",
       "      <th>P5-Action</th>\n",
       "      <th>P5-Bet</th>\n",
       "    </tr>\n",
       "  </thead>\n",
       "  <tbody>\n",
       "    <tr>\n",
       "      <th>0</th>\n",
       "      <td>4</td>\n",
       "      <td>133</td>\n",
       "      <td>150.0</td>\n",
       "      <td>sb</td>\n",
       "      <td>50.0</td>\n",
       "      <td>bb</td>\n",
       "      <td>100.0</td>\n",
       "      <td>f</td>\n",
       "      <td>0.0</td>\n",
       "      <td>f</td>\n",
       "      <td>0.0</td>\n",
       "      <td>hold</td>\n",
       "      <td>0.0</td>\n",
       "    </tr>\n",
       "    <tr>\n",
       "      <th>1</th>\n",
       "      <td>0</td>\n",
       "      <td>5017</td>\n",
       "      <td>150.0</td>\n",
       "      <td>bb</td>\n",
       "      <td>100.0</td>\n",
       "      <td>f</td>\n",
       "      <td>0.0</td>\n",
       "      <td>f</td>\n",
       "      <td>0.0</td>\n",
       "      <td>f</td>\n",
       "      <td>0.0</td>\n",
       "      <td>f</td>\n",
       "      <td>0.0</td>\n",
       "    </tr>\n",
       "  </tbody>\n",
       "</table>\n",
       "</div>"
      ],
      "text/plain": [
       "   Position  Hand    Pot P1-Action  P1-Bet P2-Action  P2-Bet P3-Action  \\\n",
       "0         4   133  150.0        sb    50.0        bb   100.0         f   \n",
       "1         0  5017  150.0        bb   100.0         f     0.0         f   \n",
       "\n",
       "   P3-Bet P4-Action  P4-Bet P5-Action  P5-Bet  \n",
       "0     0.0         f     0.0      hold     0.0  \n",
       "1     0.0         f     0.0         f     0.0  "
      ]
     },
     "execution_count": 5,
     "metadata": {},
     "output_type": "execute_result"
    }
   ],
   "source": [
    "regress_X = df_regress.copy()\n",
    "regress_X.drop('Raise', axis=1, inplace=True)\n",
    "regress_y = df_regress['Raise']\n",
    "regress_X.head(2)"
   ]
  },
  {
   "cell_type": "markdown",
   "metadata": {},
   "source": [
    "<br>\n",
    "\n",
    "* **Dividindo entre teste e treino :**"
   ]
  },
  {
   "cell_type": "code",
   "execution_count": 6,
   "metadata": {},
   "outputs": [
    {
     "name": "stdout",
     "output_type": "stream",
     "text": [
      "(6097, 13)\n",
      "(1525, 13)\n"
     ]
    }
   ],
   "source": [
    "#Garantindo que cada coluna do teste e treino possua todas as classes para cada coluna\n",
    "test_doesnt_have_balanced_values = True\n",
    "\n",
    "while(test_doesnt_have_balanced_values):\n",
    "    regress_X_train, regress_X_test, regress_y_train, regress_y_test = train_test_split(regress_X, regress_y, test_size=0.2)\n",
    "    print(regress_X_train.shape)\n",
    "    print(regress_X_test.shape)\n",
    "    \n",
    "    \n",
    "    test_doesnt_have_balanced_values = False\n",
    "    for coluna_classe in colunas_classes:\n",
    "        if ( (set(df_regress[coluna_classe].unique()) != set(regress_X_train[coluna_classe].unique()) )\n",
    "            or\n",
    "              (set(df_regress[coluna_classe].unique()) != set(regress_X_test[coluna_classe].unique())  )\n",
    "           ):\n",
    "            \n",
    "            test_doesnt_have_balanced_values = True\n",
    "            print('-----')\n",
    "            break"
   ]
  },
  {
   "cell_type": "markdown",
   "metadata": {},
   "source": [
    "### Normalizando os dados:"
   ]
  },
  {
   "cell_type": "markdown",
   "metadata": {},
   "source": [
    "* **Z-normalizando as colunas numéricas:**"
   ]
  },
  {
   "cell_type": "code",
   "execution_count": 7,
   "metadata": {},
   "outputs": [],
   "source": [
    "regress_mean_train = regress_X_train[colunas_numericas].mean()\n",
    "regress_std_train = regress_X_train[colunas_numericas].std(ddof=1)\n",
    "\n",
    "regress_Z_train = regress_X_train.copy()\n",
    "regress_Z_train[colunas_numericas] = regress_X_train[colunas_numericas] - regress_mean_train\n",
    "regress_Z_train[colunas_numericas] = regress_Z_train[colunas_numericas] / regress_std_train\n",
    "\n",
    "regress_Z_test = regress_X_test.copy()\n",
    "regress_Z_test[colunas_numericas] = regress_X_test[colunas_numericas] - regress_mean_train\n",
    "regress_Z_test[colunas_numericas] = regress_Z_test[colunas_numericas] / regress_std_train"
   ]
  },
  {
   "cell_type": "markdown",
   "metadata": {},
   "source": [
    "* **Normalizando com OneHotEnconder as colunas com classes:**"
   ]
  },
  {
   "cell_type": "code",
   "execution_count": 8,
   "metadata": {},
   "outputs": [
    {
     "data": {
      "text/html": [
       "<div>\n",
       "<style scoped>\n",
       "    .dataframe tbody tr th:only-of-type {\n",
       "        vertical-align: middle;\n",
       "    }\n",
       "\n",
       "    .dataframe tbody tr th {\n",
       "        vertical-align: top;\n",
       "    }\n",
       "\n",
       "    .dataframe thead th {\n",
       "        text-align: right;\n",
       "    }\n",
       "</style>\n",
       "<table border=\"1\" class=\"dataframe\">\n",
       "  <thead>\n",
       "    <tr style=\"text-align: right;\">\n",
       "      <th></th>\n",
       "      <th>Position</th>\n",
       "      <th>Hand</th>\n",
       "      <th>Pot</th>\n",
       "      <th>P1-Bet</th>\n",
       "      <th>P2-Bet</th>\n",
       "      <th>P3-Bet</th>\n",
       "      <th>P4-Bet</th>\n",
       "      <th>P5-Bet</th>\n",
       "      <th>P1-Action_bb</th>\n",
       "      <th>P1-Action_c</th>\n",
       "      <th>...</th>\n",
       "      <th>P3-Action_hold</th>\n",
       "      <th>P3-Action_r</th>\n",
       "      <th>P4-Action_c</th>\n",
       "      <th>P4-Action_f</th>\n",
       "      <th>P4-Action_hold</th>\n",
       "      <th>P4-Action_r</th>\n",
       "      <th>P5-Action_c</th>\n",
       "      <th>P5-Action_f</th>\n",
       "      <th>P5-Action_hold</th>\n",
       "      <th>P5-Action_r</th>\n",
       "    </tr>\n",
       "  </thead>\n",
       "  <tbody>\n",
       "    <tr>\n",
       "      <th>1151</th>\n",
       "      <td>0.068970</td>\n",
       "      <td>-0.906708</td>\n",
       "      <td>-0.402715</td>\n",
       "      <td>-0.164709</td>\n",
       "      <td>0.445854</td>\n",
       "      <td>-0.212559</td>\n",
       "      <td>-0.24947</td>\n",
       "      <td>-0.254638</td>\n",
       "      <td>0</td>\n",
       "      <td>0</td>\n",
       "      <td>...</td>\n",
       "      <td>0</td>\n",
       "      <td>0</td>\n",
       "      <td>0</td>\n",
       "      <td>0</td>\n",
       "      <td>1</td>\n",
       "      <td>0</td>\n",
       "      <td>0</td>\n",
       "      <td>0</td>\n",
       "      <td>1</td>\n",
       "      <td>0</td>\n",
       "    </tr>\n",
       "    <tr>\n",
       "      <th>7300</th>\n",
       "      <td>-0.520804</td>\n",
       "      <td>-0.468011</td>\n",
       "      <td>-0.402715</td>\n",
       "      <td>-0.164709</td>\n",
       "      <td>0.445854</td>\n",
       "      <td>-0.212559</td>\n",
       "      <td>-0.24947</td>\n",
       "      <td>-0.254638</td>\n",
       "      <td>0</td>\n",
       "      <td>0</td>\n",
       "      <td>...</td>\n",
       "      <td>1</td>\n",
       "      <td>0</td>\n",
       "      <td>0</td>\n",
       "      <td>0</td>\n",
       "      <td>1</td>\n",
       "      <td>0</td>\n",
       "      <td>0</td>\n",
       "      <td>0</td>\n",
       "      <td>1</td>\n",
       "      <td>0</td>\n",
       "    </tr>\n",
       "  </tbody>\n",
       "</table>\n",
       "<p>2 rows × 29 columns</p>\n",
       "</div>"
      ],
      "text/plain": [
       "      Position      Hand       Pot    P1-Bet    P2-Bet    P3-Bet   P4-Bet  \\\n",
       "1151  0.068970 -0.906708 -0.402715 -0.164709  0.445854 -0.212559 -0.24947   \n",
       "7300 -0.520804 -0.468011 -0.402715 -0.164709  0.445854 -0.212559 -0.24947   \n",
       "\n",
       "        P5-Bet  P1-Action_bb  P1-Action_c     ...       P3-Action_hold  \\\n",
       "1151 -0.254638             0            0     ...                    0   \n",
       "7300 -0.254638             0            0     ...                    1   \n",
       "\n",
       "      P3-Action_r  P4-Action_c  P4-Action_f  P4-Action_hold  P4-Action_r  \\\n",
       "1151            0            0            0               1            0   \n",
       "7300            0            0            0               1            0   \n",
       "\n",
       "      P5-Action_c  P5-Action_f  P5-Action_hold  P5-Action_r  \n",
       "1151            0            0               1            0  \n",
       "7300            0            0               1            0  \n",
       "\n",
       "[2 rows x 29 columns]"
      ]
     },
     "execution_count": 8,
     "metadata": {},
     "output_type": "execute_result"
    }
   ],
   "source": [
    "regress_D_train = pd.get_dummies(regress_Z_train)\n",
    "regress_D_test = pd.get_dummies(regress_Z_test)\n",
    "regress_D_test.head(2)"
   ]
  },
  {
   "cell_type": "markdown",
   "metadata": {},
   "source": [
    "## Modelo de regressão - kNN"
   ]
  },
  {
   "cell_type": "markdown",
   "metadata": {},
   "source": [
    "### Validação Cruzada KNN:"
   ]
  },
  {
   "cell_type": "code",
   "execution_count": 9,
   "metadata": {},
   "outputs": [
    {
     "name": "stdout",
     "output_type": "stream",
     "text": [
      "Melhor número de vizinhos após substituir todos os valores na Grid:  4\n"
     ]
    }
   ],
   "source": [
    "regress_model_knn = KNeighborsRegressor()\n",
    "\n",
    "#Gera a Grid\n",
    "grid_search = GridSearchCV(regress_model_knn,\n",
    "                           param_grid={\"n_neighbors\": range(1, 20)},\n",
    "                           scoring=\"neg_mean_squared_error\",\n",
    "                           cv=7,\n",
    "                           iid='deprecated')\n",
    "\n",
    "#Realiza a busca com os valores do treino:\n",
    "grid_search.fit(regress_D_train, regress_y_train)\n",
    "best_n_neighbors = grid_search.best_estimator_.n_neighbors\n",
    "print(\"Melhor número de vizinhos após substituir todos os valores na Grid: \", best_n_neighbors)"
   ]
  },
  {
   "cell_type": "markdown",
   "metadata": {},
   "source": [
    "### Treino KNN:"
   ]
  },
  {
   "cell_type": "code",
   "execution_count": 10,
   "metadata": {},
   "outputs": [
    {
     "data": {
      "text/plain": [
       "KNeighborsRegressor(algorithm='auto', leaf_size=30, metric='minkowski',\n",
       "          metric_params=None, n_jobs=None, n_neighbors=4, p=2,\n",
       "          weights='uniform')"
      ]
     },
     "execution_count": 10,
     "metadata": {},
     "output_type": "execute_result"
    }
   ],
   "source": [
    "regress_model_knn = KNeighborsRegressor(n_neighbors=best_n_neighbors)\n",
    "regress_model_knn.fit(regress_D_train, regress_y_train)"
   ]
  },
  {
   "cell_type": "markdown",
   "metadata": {},
   "source": [
    "### Teste KNN:"
   ]
  },
  {
   "cell_type": "code",
   "execution_count": 11,
   "metadata": {},
   "outputs": [],
   "source": [
    "previsao_knn = regress_model_knn.predict(regress_D_test)"
   ]
  },
  {
   "cell_type": "code",
   "execution_count": 12,
   "metadata": {},
   "outputs": [],
   "source": [
    "#Gerando dados da qualidade do modelo\n",
    "knn_variancia_err = explained_variance_score(y_true=regress_y_test, y_pred=previsao_knn)\n",
    "knn_r_quadrado_err = r2_score(y_true=regress_y_test, y_pred=previsao_knn)\n",
    "knn_erro_medio_quadrado = mean_squared_error(y_true=regress_y_test, y_pred=previsao_knn)\n",
    "knn_erro_medio_abs = median_absolute_error(y_true=regress_y_test, y_pred=previsao_knn)\n",
    "\n",
    "score_knn = [knn_variancia_err, knn_r_quadrado_err, knn_erro_medio_abs, knn_erro_medio_quadrado]"
   ]
  },
  {
   "cell_type": "markdown",
   "metadata": {},
   "source": [
    "<br>\n",
    "\n",
    "## Modelo de regressão - Regressão Linear"
   ]
  },
  {
   "cell_type": "markdown",
   "metadata": {},
   "source": [
    "### Validação Cruzada e Treino:"
   ]
  },
  {
   "cell_type": "markdown",
   "metadata": {},
   "source": [
    "Não há hiper parâmetros para tunar utilizando regressão linear, mas para aprimorar o resultado forçaremos uma validação das features, gerando dois modelos lineares, um com validação cruzada e outro não: "
   ]
  },
  {
   "cell_type": "code",
   "execution_count": 13,
   "metadata": {},
   "outputs": [
    {
     "data": {
      "text/plain": [
       "GridSearchCV(cv=KFold(n_splits=5, random_state=100, shuffle=True),\n",
       "       error_score='raise-deprecating',\n",
       "       estimator=RFE(estimator=LinearRegression(copy_X=True, fit_intercept=True, n_jobs=None,\n",
       "         normalize=False),\n",
       "  n_features_to_select=None, step=1, verbose=0),\n",
       "       fit_params=None, iid='deprecated', n_jobs=None,\n",
       "       param_grid=[{'n_features_to_select': [1, 2, 3, 4, 5, 6, 7, 8, 9, 10, 11, 12, 13, 14, 15, 16, 17, 18, 19, 20, 21, 22, 23, 24, 25, 26, 27, 28]}],\n",
       "       pre_dispatch='2*n_jobs', refit=True, return_train_score=True,\n",
       "       scoring='r2', verbose=0)"
      ]
     },
     "execution_count": 13,
     "metadata": {},
     "output_type": "execute_result"
    }
   ],
   "source": [
    "# Cria-se um esquema de validação cruzada para passar para o GridSeach\n",
    "folds = KFold(n_splits = 5, shuffle = True, random_state = 100)\n",
    "\n",
    "# Range dos hiper parâmetros que serão tunados\n",
    "hyper_params = [{'n_features_to_select': list(range(1, 29))}]\n",
    "\n",
    "#Cria-se o modelo simples de RL\n",
    "linear_model = LinearRegression()\n",
    "linear_model.fit(regress_D_train, regress_y_train)\n",
    "rfe = RFE(linear_model)             \n",
    "\n",
    "# Cria-se um novo modelo com os novos pesos \n",
    "linear_model_cv = GridSearchCV(estimator = rfe, \n",
    "                        param_grid = hyper_params, \n",
    "                        scoring= 'r2', \n",
    "                        cv = folds,\n",
    "                        return_train_score=True,\n",
    "                        iid='deprecated')      \n",
    "\n",
    "linear_model_cv.fit(regress_D_train, regress_y_train) "
   ]
  },
  {
   "cell_type": "markdown",
   "metadata": {},
   "source": [
    "### Teste:"
   ]
  },
  {
   "cell_type": "code",
   "execution_count": 14,
   "metadata": {},
   "outputs": [],
   "source": [
    "previsao_lm = linear_model.predict(regress_D_test)\n",
    "previsao_lm_cv = linear_model_cv.predict(regress_D_test)"
   ]
  },
  {
   "cell_type": "code",
   "execution_count": 15,
   "metadata": {},
   "outputs": [],
   "source": [
    "#Gerando dados da qualidade do modelo linear\n",
    "lm_variancia_err = explained_variance_score(y_true=regress_y_test, y_pred=previsao_lm)\n",
    "lm_r_quadrado_err = r2_score(y_true=regress_y_test, y_pred=previsao_lm)\n",
    "lm_erro_medio_quadrado = mean_squared_error(y_true=regress_y_test, y_pred=previsao_lm)\n",
    "lm_erro_medio_abs = median_absolute_error(y_true=regress_y_test, y_pred=previsao_lm)\n",
    "\n",
    "score_lm = [lm_variancia_err, lm_r_quadrado_err, lm_erro_medio_abs, lm_erro_medio_quadrado]"
   ]
  },
  {
   "cell_type": "code",
   "execution_count": 16,
   "metadata": {},
   "outputs": [],
   "source": [
    "#Gerando dados da qualidade do modelo linear com validação cruzada\n",
    "lm_cv_variancia_err = explained_variance_score(y_true=regress_y_test, y_pred=previsao_lm_cv)\n",
    "lm_cv_r_quadrado_err = r2_score(y_true=regress_y_test, y_pred=previsao_lm_cv)\n",
    "lm_cv_erro_medio_quadrado = mean_squared_error(y_true=regress_y_test, y_pred=previsao_lm_cv)\n",
    "lm_cv_erro_medio_abs = median_absolute_error(y_true=regress_y_test, y_pred=previsao_lm_cv)\n",
    "\n",
    "score_lm_cv = [lm_cv_variancia_err, lm_cv_r_quadrado_err, lm_cv_erro_medio_abs, lm_cv_erro_medio_quadrado]"
   ]
  },
  {
   "cell_type": "markdown",
   "metadata": {},
   "source": [
    "# Comparando Modelos de Regressão:"
   ]
  },
  {
   "cell_type": "code",
   "execution_count": 17,
   "metadata": {},
   "outputs": [
    {
     "data": {
      "text/html": [
       "<div>\n",
       "<style scoped>\n",
       "    .dataframe tbody tr th:only-of-type {\n",
       "        vertical-align: middle;\n",
       "    }\n",
       "\n",
       "    .dataframe tbody tr th {\n",
       "        vertical-align: top;\n",
       "    }\n",
       "\n",
       "    .dataframe thead th {\n",
       "        text-align: right;\n",
       "    }\n",
       "</style>\n",
       "<table border=\"1\" class=\"dataframe\">\n",
       "  <thead>\n",
       "    <tr style=\"text-align: right;\">\n",
       "      <th></th>\n",
       "      <th>Variância</th>\n",
       "      <th>R^2</th>\n",
       "      <th>Erro Médio Absoluto</th>\n",
       "      <th>Erro Quadrado Médio</th>\n",
       "    </tr>\n",
       "  </thead>\n",
       "  <tbody>\n",
       "    <tr>\n",
       "      <th>Regressão Linear</th>\n",
       "      <td>0.829650</td>\n",
       "      <td>0.829439</td>\n",
       "      <td>18.75</td>\n",
       "      <td>9138.855538</td>\n",
       "    </tr>\n",
       "    <tr>\n",
       "      <th>Regressão Linear c/ Validação Cruzada</th>\n",
       "      <td>0.826372</td>\n",
       "      <td>0.826242</td>\n",
       "      <td>18.00</td>\n",
       "      <td>9310.161311</td>\n",
       "    </tr>\n",
       "    <tr>\n",
       "      <th>KNN</th>\n",
       "      <td>0.843344</td>\n",
       "      <td>0.843333</td>\n",
       "      <td>16.75</td>\n",
       "      <td>8394.414959</td>\n",
       "    </tr>\n",
       "  </tbody>\n",
       "</table>\n",
       "</div>"
      ],
      "text/plain": [
       "                                       Variância       R^2  \\\n",
       "Regressão Linear                        0.829650  0.829439   \n",
       "Regressão Linear c/ Validação Cruzada   0.826372  0.826242   \n",
       "KNN                                     0.843344  0.843333   \n",
       "\n",
       "                                       Erro Médio Absoluto  \\\n",
       "Regressão Linear                                     18.75   \n",
       "Regressão Linear c/ Validação Cruzada                18.00   \n",
       "KNN                                                  16.75   \n",
       "\n",
       "                                       Erro Quadrado Médio  \n",
       "Regressão Linear                               9138.855538  \n",
       "Regressão Linear c/ Validação Cruzada          9310.161311  \n",
       "KNN                                            8394.414959  "
      ]
     },
     "execution_count": 17,
     "metadata": {},
     "output_type": "execute_result"
    }
   ],
   "source": [
    "comparacao = {}\n",
    "comparacao['Regressão Linear'] = score_lm\n",
    "comparacao['Regressão Linear c/ Validação Cruzada'] = score_lm_cv\n",
    "comparacao['KNN'] = score_knn\n",
    "\n",
    "df_comparacao = pd.DataFrame.from_dict(comparacao, orient='index', columns=['Variância', 'R^2', 'Erro Médio Absoluto', 'Erro Quadrado Médio'])\n",
    "df_comparacao"
   ]
  },
  {
   "cell_type": "markdown",
   "metadata": {},
   "source": [
    "O desempenho das regressões não foi muito bom, tendo valores de R2 próximos a 0,6. Isso pode ser possivelmente explicado pelo fato de que as apostas não podem ser muito facilmente previstas, devido à fatores aléatorios de decisão e a possíveis blefes, isto é, quando um jogador faz uma aposta com valor não condizente com sua força da mão ou outros atributos, por exemplo. As pontuações de erro, variância e R2 foram muito próximas para os três modelos, não havendo, provavelmente, diferença estatística relevante entre eles."
   ]
  }
 ],
 "metadata": {
  "kernelspec": {
   "display_name": "Python 3",
   "language": "python",
   "name": "python3"
  },
  "language_info": {
   "codemirror_mode": {
    "name": "ipython",
    "version": 3
   },
   "file_extension": ".py",
   "mimetype": "text/x-python",
   "name": "python",
   "nbconvert_exporter": "python",
   "pygments_lexer": "ipython3",
   "version": "3.7.0"
  }
 },
 "nbformat": 4,
 "nbformat_minor": 2
}
