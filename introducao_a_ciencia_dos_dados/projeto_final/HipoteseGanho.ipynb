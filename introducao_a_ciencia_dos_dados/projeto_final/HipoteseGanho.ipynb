{
 "cells": [
  {
   "cell_type": "markdown",
   "metadata": {},
   "source": [
    "# Projeto ICD - Teste de Hipótese"
   ]
  },
  {
   "cell_type": "markdown",
   "metadata": {},
   "source": [
    "## Hipótese: Houve Ganhador?"
   ]
  },
  {
   "cell_type": "markdown",
   "metadata": {},
   "source": [
    "No poker não existe um método absoluto para decidir qual jogador é melhor.<br> \n",
    "Os dados que estamos usando inicia cada jogada com o mesmo número de fichas, independente de quanto o jogador ganhou ou perdeu na última jogada, o que possibilita uma análise menos complexa, já que não há o desbalaceamento de fichas.<br>"
   ]
  },
  {
   "cell_type": "code",
   "execution_count": 13,
   "metadata": {},
   "outputs": [],
   "source": [
    "import pandas as pd\n",
    "import numpy as np\n",
    "import matplotlib.pyplot as plt\n",
    "\n",
    "plt.rcParams['figure.figsize']  = (15, 8)\n",
    "plt.rcParams['axes.labelsize']  = 20\n",
    "plt.rcParams['axes.titlesize']  = 20\n",
    "plt.rcParams['legend.fontsize'] = 20\n",
    "plt.rcParams['xtick.labelsize'] = 20\n",
    "plt.rcParams['ytick.labelsize'] = 20\n",
    "plt.rcParams['lines.linewidth'] = 4"
   ]
  },
  {
   "cell_type": "markdown",
   "metadata": {},
   "source": [
    "### Buscando dados no dataset original:"
   ]
  },
  {
   "cell_type": "code",
   "execution_count": 2,
   "metadata": {},
   "outputs": [],
   "source": [
    "def getPluribusData(): \n",
    "    \"\"\"\n",
    "    Carrega o arquivo com os dados originais\n",
    "    \"\"\"\n",
    "    pluribus_raw_lines = [] \n",
    "    with open('pluribus_entire_raw_data.log', 'rt') as pluribus_file: \n",
    "        for file_line in pluribus_file:\n",
    "            pluribus_raw_lines.append(file_line)\n",
    "    return pluribus_raw_lines \n",
    "        \n",
    "pluribus_raw_lines  = getPluribusData()"
   ]
  },
  {
   "cell_type": "code",
   "execution_count": 3,
   "metadata": {},
   "outputs": [
    {
     "name": "stdout",
     "output_type": "stream",
     "text": [
      "Quantidade de jogos:  7228\n",
      "Quantidade de mão jogadas:  43368\n",
      "Exemplo de um jogo: \n",
      "   STATE:0:ffr225fff:3c9s|6d5s|9dTs|2sQs|AdKd|7cTc:-50|-100|0|0|150|0:MrWhite|Gogo|Budd|Eddie|Bill|Pluribus\n",
      "\n"
     ]
    }
   ],
   "source": [
    "print(\"Quantidade de jogos: \", len(pluribus_raw_lines))\n",
    "print(\"Quantidade de mão jogadas: \", len(pluribus_raw_lines)*6)\n",
    "print(\"Exemplo de um jogo: \\n  \", pluribus_raw_lines[0])"
   ]
  },
  {
   "cell_type": "code",
   "execution_count": 4,
   "metadata": {},
   "outputs": [],
   "source": [
    "def getPlays(line):\n",
    "  \"\"\"\n",
    "    A partir da linha inicial de dados do Pluribus,\n",
    "    separa as informações.\n",
    "  \"\"\"\n",
    "  data = {\n",
    "          'handIndex' : '',\n",
    "              'play'  : [],\n",
    "       'cardsPlayers' : [],\n",
    "         'cardsTable' : [],\n",
    "              'bets'  : [],\n",
    "             'players': []    \n",
    "  }\n",
    "  cards = \"\"\n",
    "\n",
    "  line = list(line)\n",
    "  twoPoints = 0\n",
    "  for currentState in line:\n",
    "    if (currentState == ':'):\n",
    "      twoPoints += 1\n",
    "    elif twoPoints == 1 :\n",
    "      data['handIndex'] = currentState\n",
    "    elif twoPoints == 2 :\n",
    "      data['play'].append(currentState)\n",
    "    elif twoPoints == 3 :\n",
    "      cards += currentState\n",
    "    elif twoPoints == 4 :\n",
    "      data['bets'].append(currentState)\n",
    "    elif twoPoints == 5 :\n",
    "      data['players'].append(currentState)\n",
    "\n",
    "  #Treating players name\n",
    "  #data['players'].pop() #Remove '\\n'\n",
    "  if data['players'][-1] == \"\\n\":\n",
    "    data['players'].pop()\n",
    "    \n",
    "  if data['players'][-1] == \"E\":\n",
    "    data['players'] = data['players'][:len(data['players'])-5]\n",
    "  data['players'] = ''.join(data['players']).split('|') #Join the name of the players\n",
    "\n",
    "  #Treating bets\n",
    "  data['bets'] = ''.join(data['bets']).split('|') #Join bet values\n",
    "  data['bets'] = [float(i) for i in data['bets']]\n",
    "\n",
    "  #Treating Rounds\n",
    "  data['rounds_quantity'] = data['play'].count('/')\n",
    "  data['play'] = ''.join(data['play']).split('/')\n",
    "  \n",
    "\n",
    "  #Treating Cards:\n",
    "  if data['rounds_quantity'] == 0:\n",
    "    data['cardsPlayers'] = cards\n",
    "  else:\n",
    "    data['cardsPlayers'], data['cardsTable'] = cards.split('/', 1)\n",
    "\n",
    "  data['cardsPlayers'] = ''.join(data['cardsPlayers']).split('|')\n",
    "  data['cardsTable'] = ''.join(data['cardsTable']).split('/')\n",
    "\n",
    "  return data\n"
   ]
  },
  {
   "cell_type": "code",
   "execution_count": 5,
   "metadata": {},
   "outputs": [
    {
     "name": "stdout",
     "output_type": "stream",
     "text": [
      "Jogadores              ['MrPink', 'MrBlue', 'Joe', 'Bill', 'Pluribus', 'MrOrange']\n",
      "\n",
      "Ações:                 ['ffffr300c', 'r450f']\n",
      "\n",
      "Valores ganhos:        [300.0, -300.0, 0.0, 0.0, 0.0, 0.0]\n",
      "\n",
      "Cartas dos jogadores:  ['8s6s', '8c4c', '6c3c', '7h9s', '5cTc', 'Qh3h']\n",
      "\n",
      "Cartas da mesa:        ['2hAh3d']\n"
     ]
    }
   ],
   "source": [
    "game = getPlays(pluribus_raw_lines[7000]) \n",
    "print(\"Jogadores             \", game['players'])\n",
    "print()\n",
    "print(\"Ações:                \", game['play'])\n",
    "print()\n",
    "print(\"Valores ganhos:       \", game['bets'])\n",
    "print()\n",
    "print(\"Cartas dos jogadores: \", game['cardsPlayers'])\n",
    "print() \n",
    "print(\"Cartas da mesa:       \", game['cardsTable'])  "
   ]
  },
  {
   "cell_type": "markdown",
   "metadata": {},
   "source": [
    "#### Analisando quantidade de jogadores"
   ]
  },
  {
   "cell_type": "code",
   "execution_count": 6,
   "metadata": {},
   "outputs": [
    {
     "name": "stdout",
     "output_type": "stream",
     "text": [
      "Quantidade de jogadores  14\n",
      "Nomes dos jogadores: \n",
      " ['MrWhite', 'Gogo', 'Budd', 'Eddie', 'Bill', 'Pluribus', 'MrBrown', 'MrBlue', 'MrPink', 'MrOrange', 'MrBlonde', 'Joe', 'ORen', 'Hattori']\n"
     ]
    }
   ],
   "source": [
    "jogadores = []\n",
    "for line in pluribus_raw_lines:\n",
    "    game = getPlays(line) \n",
    "    jogadores_rodada = game['players']\n",
    "    for jogador in jogadores_rodada:\n",
    "        if jogador not in jogadores:\n",
    "            jogadores.append(jogador)\n",
    "            \n",
    "print(\"Quantidade de jogadores \", len(jogadores))\n",
    "print(\"Nomes dos jogadores: \\n\", jogadores)"
   ]
  },
  {
   "cell_type": "markdown",
   "metadata": {},
   "source": [
    "Na verdade são codinomes, como são jogadores profissionais de poker os autores evitaram correlacionar as jogadas ao jogador, para não expor estratégias dos mesmos."
   ]
  },
  {
   "cell_type": "markdown",
   "metadata": {},
   "source": [
    "#### Criando dataset para analizar vitórias e derrotas"
   ]
  },
  {
   "cell_type": "code",
   "execution_count": 7,
   "metadata": {},
   "outputs": [
    {
     "data": {
      "text/html": [
       "<div>\n",
       "<style scoped>\n",
       "    .dataframe tbody tr th:only-of-type {\n",
       "        vertical-align: middle;\n",
       "    }\n",
       "\n",
       "    .dataframe tbody tr th {\n",
       "        vertical-align: top;\n",
       "    }\n",
       "\n",
       "    .dataframe thead th {\n",
       "        text-align: right;\n",
       "    }\n",
       "</style>\n",
       "<table border=\"1\" class=\"dataframe\">\n",
       "  <thead>\n",
       "    <tr style=\"text-align: right;\">\n",
       "      <th></th>\n",
       "      <th>NomeJogador</th>\n",
       "      <th>Valor</th>\n",
       "    </tr>\n",
       "  </thead>\n",
       "  <tbody>\n",
       "    <tr>\n",
       "      <th>0</th>\n",
       "      <td>MrWhite</td>\n",
       "      <td>-50.0</td>\n",
       "    </tr>\n",
       "    <tr>\n",
       "      <th>1</th>\n",
       "      <td>Gogo</td>\n",
       "      <td>-100.0</td>\n",
       "    </tr>\n",
       "    <tr>\n",
       "      <th>2</th>\n",
       "      <td>Budd</td>\n",
       "      <td>0.0</td>\n",
       "    </tr>\n",
       "    <tr>\n",
       "      <th>3</th>\n",
       "      <td>Eddie</td>\n",
       "      <td>0.0</td>\n",
       "    </tr>\n",
       "    <tr>\n",
       "      <th>4</th>\n",
       "      <td>Bill</td>\n",
       "      <td>150.0</td>\n",
       "    </tr>\n",
       "  </tbody>\n",
       "</table>\n",
       "</div>"
      ],
      "text/plain": [
       "  NomeJogador  Valor\n",
       "0     MrWhite  -50.0\n",
       "1        Gogo -100.0\n",
       "2        Budd    0.0\n",
       "3       Eddie    0.0\n",
       "4        Bill  150.0"
      ]
     },
     "execution_count": 7,
     "metadata": {},
     "output_type": "execute_result"
    }
   ],
   "source": [
    "colunas = ['NomeJogador', 'Valor']\n",
    "\n",
    "jogos_jogadores = []\n",
    "for line in pluribus_raw_lines:\n",
    "    game = getPlays(line) \n",
    "    for i in range(6):\n",
    "        temp_dict = {}\n",
    "        temp_dict['NomeJogador'] = game['players'][i]\n",
    "        temp_dict['Valor'] = game['bets'][i]\n",
    "        jogos_jogadores.append(temp_dict)\n",
    "\n",
    "df_ganhos = pd.DataFrame(jogos_jogadores, columns=colunas)\n",
    "\n",
    "df_ganhos.head(5)\n"
   ]
  },
  {
   "cell_type": "code",
   "execution_count": 8,
   "metadata": {},
   "outputs": [
    {
     "data": {
      "text/plain": [
       "NomeJogador\n",
       "Bill        0.178010\n",
       "Budd        0.173534\n",
       "Eddie       0.170957\n",
       "Gogo        0.190574\n",
       "Hattori     0.192308\n",
       "Joe         0.147883\n",
       "MrBlonde    0.160968\n",
       "MrBlue      0.190109\n",
       "MrBrown     0.165721\n",
       "MrOrange    0.130133\n",
       "MrPink      0.167365\n",
       "MrWhite     0.154235\n",
       "ORen        0.135135\n",
       "Pluribus    0.170310\n",
       "dtype: float64"
      ]
     },
     "execution_count": 8,
     "metadata": {},
     "output_type": "execute_result"
    }
   ],
   "source": [
    "porcentagem_ganho = (df_ganhos[df_ganhos['Valor'] > 0].groupby(['NomeJogador']).size()  / df_ganhos.groupby(['NomeJogador']).size())\n",
    "porcentagem_ganho"
   ]
  },
  {
   "cell_type": "markdown",
   "metadata": {},
   "source": [
    "### Analisando as médias:"
   ]
  },
  {
   "cell_type": "code",
   "execution_count": 9,
   "metadata": {},
   "outputs": [
    {
     "name": "stdout",
     "output_type": "stream",
     "text": [
      "Média:  0.16623146942796607\n",
      "Variância  0.0003733541456853374\n",
      "Raiz de n:  3.7416573867739413\n"
     ]
    }
   ],
   "source": [
    "media = porcentagem_ganho.mean()\n",
    "variancia =  porcentagem_ganho.var()\n",
    "raiz_n = (porcentagem_ganho.size)**.5\n",
    "print(\"Média: \", media)\n",
    "print(\"Variância \", variancia)\n",
    "print(\"Raiz de n: \", raiz_n)"
   ]
  },
  {
   "cell_type": "markdown",
   "metadata": {},
   "source": [
    "#### Calculado Intervalo de Confiança por erro padrão"
   ]
  },
  {
   "cell_type": "code",
   "execution_count": 10,
   "metadata": {},
   "outputs": [
    {
     "name": "stdout",
     "output_type": "stream",
     "text": [
      "Intervalo inferior de verificação com 2,5%:  0.166035894566374\n",
      "Intervalo superior de verificação com 97,5%:  0.16642704428955815\n"
     ]
    }
   ],
   "source": [
    "inferior = media - 1.96* (variancia/raiz_n)\n",
    "superior =  media + 1.96* (variancia/raiz_n)\n",
    "print(\"Intervalo inferior de verificação com 2,5%: \", inferior)\n",
    "print(\"Intervalo superior de verificação com 97,5%: \", superior)"
   ]
  },
  {
   "cell_type": "markdown",
   "metadata": {},
   "source": [
    "Sendo que são seis jogadores na mesa, a nossa média de ganho randomizada é de 1/6 e vemos com o intervalo acima que essa média se mantém para os jogos."
   ]
  },
  {
   "cell_type": "markdown",
   "metadata": {},
   "source": [
    "## Criando IC com Bootstrap para analisar prováveis ganhadores: "
   ]
  },
  {
   "cell_type": "markdown",
   "metadata": {},
   "source": [
    "Trabalharemos com um intervalo superior de 99,9% para garantir maior precisão em nossa análise."
   ]
  },
  {
   "cell_type": "markdown",
   "metadata": {},
   "source": [
    "#### Criando distribuição com chance de ganho aleatório e definindo intervalo superior de confiança:"
   ]
  },
  {
   "cell_type": "code",
   "execution_count": 14,
   "metadata": {},
   "outputs": [
    {
     "data": {
      "image/png": "[encoded data removed]",
      "text/plain": [
       "<Figure size 1080x576 with 1 Axes>"
      ]
     },
     "metadata": {
      "needs_background": "light"
     },
     "output_type": "display_data"
    }
   ],
   "source": [
    "distribuicao = []\n",
    "for i in range(10000):\n",
    "    temp = np.random.randint(0,6,size=43368)\n",
    "    x = (temp == 1).sum() / 43368\n",
    "    distribuicao.append(x)\n",
    "\n",
    "superior = np.percentile(distribuicao, 99.9)\n",
    "\n",
    "plt.hist(distribuicao, bins=40, edgecolor = 'k')\n",
    "plt.axvline(superior, color='r', linestyle='dashed', linewidth=1)\n",
    "plt.title('Disribuição de média de vitórias')\n",
    "min_ylim, max_ylim = plt.ylim()\n",
    "plt.text(superior+0.0002, max_ylim*0.9, 'Intervalo Superior com 99,9%')\n",
    "plt.show()\n"
   ]
  },
  {
   "cell_type": "markdown",
   "metadata": {},
   "source": [
    "<br>\n",
    "\n",
    "**Gerando um gráfico diferenciando os jogadores que ganharam dos que perderam a partir do intervalo de confiança calculado:**"
   ]
  },
  {
   "cell_type": "code",
   "execution_count": 15,
   "metadata": {},
   "outputs": [
    {
     "data": {
      "image/png": "[encoded data removed]",
      "text/plain": [
       "<Figure size 1080x576 with 1 Axes>"
      ]
     },
     "metadata": {
      "needs_background": "light"
     },
     "output_type": "display_data"
    }
   ],
   "source": [
    "\n",
    "x_img_data = [0, 0.5, 1, 1.5, 2, 2.5, 3, 3.5, 4, 4.5, 5, 5.5, 6, 6.5]\n",
    "plt.scatter(x_img_data, porcentagem_ganho.values, color='b', alpha=1)\n",
    "plt.xticks(rotation=45)\n",
    "\n",
    " \n",
    "for i, txt in enumerate(porcentagem_ganho.index):\n",
    "    plt.annotate(txt, (x_img_data[i]+0.1, porcentagem_ganho.values[i]))\n",
    "    \n",
    "plt.axhspan(0.11, superior, facecolor='red', alpha=0.2)\n",
    "plt.axhspan(superior, 0.21, facecolor='green', alpha=0.2)\n",
    "\n",
    "plt.axhline(superior, color='r', linestyle='dashed', linewidth=2)\n",
    "\n",
    "ax = plt.gca()\n",
    "ax.axes.get_xaxis().set_visible(False)\n",
    "ax.grid(True)\n",
    "\n",
    "import matplotlib.patches as mpatches\n",
    "import matplotlib.pyplot as plt\n",
    "\n",
    "red_patch = mpatches.Patch(color='red', label='Perderam')\n",
    "green_patch = mpatches.Patch(color='green', label='Ganharam')\n",
    "plt.legend(handles=[red_patch, green_patch])\n",
    "\n",
    "plt.title('Jogadores que Ganharam ou Perderam:')\n",
    "plt.ylabel('Média de vitórias')\n",
    "\n",
    "plt.show()"
   ]
  }
 ],
 "metadata": {
  "kernelspec": {
   "display_name": "Python 3",
   "language": "python",
   "name": "python3"
  },
  "language_info": {
   "codemirror_mode": {
    "name": "ipython",
    "version": 3
   },
   "file_extension": ".py",
   "mimetype": "text/x-python",
   "name": "python",
   "nbconvert_exporter": "python",
   "pygments_lexer": "ipython3",
   "version": "3.7.0"
  }
 },
 "nbformat": 4,
 "nbformat_minor": 2
}
