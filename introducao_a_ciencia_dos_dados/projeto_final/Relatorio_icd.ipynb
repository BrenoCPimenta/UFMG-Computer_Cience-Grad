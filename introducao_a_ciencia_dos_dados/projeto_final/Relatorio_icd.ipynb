{
 "cells": [
  {
   "cell_type": "markdown",
   "metadata": {},
   "source": [
    "## Projeto Final de Introdução à Ciência dos Dados\n",
    "# Análise de dados de jogos de poker texas hold'em com 6 jogadores\n",
    "\n",
    "<br>\n",
    "Universidade Federal de Minas Gerais <br>\n",
    "Departamento de Ciência da Computação <br>\n",
    "Introdução à Ciência dos Dados <br>\n",
    "Professor: Flávio Figueiredo <br>\n",
    "\n",
    "<br>\n",
    "Alunos: <br>\n",
    "Breno de Castro Pimenta <br>\n",
    "Gustavo Santos Silva <br>\n",
    "\n",
    "<br>\n",
    "30 de outubro de 2020 <br>"
   ]
  },
  {
   "cell_type": "markdown",
   "metadata": {},
   "source": [
    "## 1) Introdução\n",
    "\n",
    "<br>\n",
    "Pluribus é uma inteligencia artificial criada para jogar jogos de poker do tipo Texas hold'em de seis jogadores. Jogando contra cinco jogadores de poker profissionais, a IA Pluribus demonstrou, no geral, uma performance melhor do que a dos jogadores humanos em uma análise de 10000 mãos de jogos poker.\n",
    "\n",
    "Os dados utilizados nesse projeto foram coletados a partir de muitas partidas de poker texas hold'em, nos quais a IA Pluribus jogou contra esses vários jogadores profissionais dessa categoria. Todas as mãos, apostas e decisões de todos os jogadores (incluindo Pluribus) foram registrados em cada turno e rodada de forma padronizada.\n",
    "\n",
    "Um dos objetivos gerais desse trabalho será verificar possíveis correlações entre diferentes atributos relacionados aos jogos de poker, como, por exemplo, o valor das apostas com relação à ordem de jogada do indivíduo ou da força das cartas de sua mão. Além disso, tentar prever a jogada que um determinado jogador irá fazer (classificação) ou o valor de sua aposta (regressão) baseando-se nas condições atuais do jogo."
   ]
  },
  {
   "cell_type": "markdown",
   "metadata": {},
   "source": [
    "## 2) Metodologia\n",
    "\n",
    "### Descrição da base de dados\n",
    "\n",
    "O banco de dados original armazenava os atributos de cada ação de cada turno em linhas da seguinte forma:\n",
    "STATE:2:ffffr250f:9cTh|6cJs|5d7h|5s9s|4d6s|Jd3h:100|-100|0|0|0|0:MrBlonde|Eddie|Bill|Pluribus|MrOrange|MrWhite \n",
    "<br>Os dados foram lidos e modificados baseando-se nos dados necessários para cada análise, de modo a obter tabelas de diferentes formas e atributos.\n",
    "Apenas os dados relevantes para cada análise desse projeto foram mantidos."
   ]
  },
  {
   "cell_type": "markdown",
   "metadata": {},
   "source": [
    "### Tratamento dos dados:\n",
    "Os dados possuíam poucos a nenhum erro, logo não houve uma real limpeza dos dados.<br>\n",
    "O desafio foi a conversão do formato dos dados. O formato inicial é pouco intuitivo e muito denso. <br>\n",
    "Então a primeira metodologia aplicada foi modularizar de forma sequencial a transformação dos dados, de maneira que se realizava verificações intermediárias para garantir a integridade dos dados. <br>\n",
    "O último desafio foi, após separar cada jogada, linearizar para esta mesma jogada as informações do passado recente da mesa em colunas com as jogadas dos outros jogadores, o que exigiu uma lógica mais complexa que o habitual para o tratamento dos dados. <br>"
   ]
  },
  {
   "cell_type": "markdown",
   "metadata": {},
   "source": [
    "### Análise exploratória dos dados\n",
    "\n",
    "Para identificar as correlações, as variáveis relevantes foram plotadas em gráficos e as médias dos atributos calculadas, no caso os valores de aposta \"Raise\" e as posições dos jogadores \"Position\". \n",
    "De modo a garantir que os resultados não correspodem a uma observação aleatória, foi feito a permutação dos dados análisados, recombinando os valores de \"Raise\" e mantendo os valores de \"Position\". Foi analisado então, onde as médias dos dados para cada posição se encontravam com relação aos intervalos de confiança caso os dados fossem redistribuidos de forma aleatória."
   ]
  },
  {
   "cell_type": "markdown",
   "metadata": {},
   "source": [
    "### Hipótese de ganho\n",
    "\n",
    "Através de teste de hipótese buscamos criar um balizador, para verificar os ganhadores dos jogos como um todo.\n",
    "A maneira que encontramos de realizar este teste foi através de um Intervalo de Confiança superior das médias das vitórias.\n",
    "\n",
    "\n",
    "Inicialmente testamos a hipótese de que a probabilidade de ganho de um jogador é de 1/6, sendo que há 6 jogadores na mesa, então criamos um intervalo e verificamos através de erro padrão se a média real dos jogadores atendia ao intervalo.\n",
    "\n",
    "\n",
    "Utilizando da média comprovada da última hipótese, recorremos ao Bootstrap para criar uma distribuição das médias das vitórias, estabelecemos 99,9% de confiança para nosso intervalo superior, ou seja todos os jogadores acima dessa marca haviam alcaçado de forma não aleatória a média de vitória que tiveram. E mostramos quais jogadores atendiam como ganhadores e quais como perdedores."
   ]
  },
  {
   "cell_type": "markdown",
   "metadata": {},
   "source": [
    "### Regressão\n",
    "\n",
    "Buscamos prever, quando o jogador aumenta uma aposta, qual o valor que ele aumentou.<br>\n",
    "Para isso normalizamos os dados, ou seja, z-normalizamos as colunas numéricas e utilizamos OneHotEncoder nas colunas com classes.<br>\n",
    "Após a normalização realizamos validação cruzadas para tunar os seguintes modelos com nossos dados:\n",
    "* Regressão Linear\n",
    "* Regressão Linear com validação de Features\n",
    "* KNN Regressor\n",
    "<br><br>\n",
    "Em seguida, verificamos a qualidade de previsão de cada modelo tunado utilizando os seguintes medidores:\n",
    "* Variância\n",
    "* R quadrado\n",
    "* Erro médio absoluto\n",
    "* Erro quadrado médio absoluto"
   ]
  },
  {
   "cell_type": "markdown",
   "metadata": {},
   "source": [
    "### Classificação\n",
    "\n",
    "A fim de criar um modelo de classificação que previsse a jogada tomada por um jogador baseando-se nos atributos que sintetizam a situação atual do jogo, foram feitas duas classificações utilizando os métodos kNN e regressão logística. Foram calculadas as acurácias, revocação e valores F1 para cada modelo e esses valores foram comparados para cada metódo, com o intuito de verificar aquele com melhor desempenho. Também foram feitas as matrizes de confusão para cada modelo. "
   ]
  },
  {
   "cell_type": "markdown",
   "metadata": {},
   "source": [
    "## 3) Resultados"
   ]
  },
  {
   "cell_type": "markdown",
   "metadata": {},
   "source": [
    "Os resultados serão tratados separadamente em diferentes notebooks, anexados juntamente a esse."
   ]
  },
  {
   "cell_type": "markdown",
   "metadata": {},
   "source": [
    "## 4) Conclusões\n",
    "\n",
    "Considerando as perguntas de pesquisa, podemos concluir que:\n",
    "- Existe correlação entre o valor de aposta de jogador e sua posição de jogada, mais precisamente, jogadores que jogam depois tendem a apostar mais, provavelmente a maior quantidade de informações que ele possui das condições do jogo com relação aos jogadores que jogaram antes;\n",
    "- Foi possível definir os jogadores que de fato venceram o jogo a partir do intervalo de confiança das médias de vitórias de cada jogador e o bootstrap desses dados, corroborando para o fato de que esses jogadores vencedores não ganharam ao acaso;\n",
    "- Não se obteve uma previsão boa para os valores de aposta de um jogador baseado nos atributos que definem a situação atual do jogo;\n",
    "- A previsão de qual jogada um jogador irá tomar a partir dos atributos que definem a situação atual do jogo foi consideravelmente boa, tendo valores de precisão bastante altos para mais de um modelo."
   ]
  }
 ],
 "metadata": {
  "kernelspec": {
   "display_name": "Python 3",
   "language": "python",
   "name": "python3"
  },
  "language_info": {
   "codemirror_mode": {
    "name": "ipython",
    "version": 3
   },
   "file_extension": ".py",
   "mimetype": "text/x-python",
   "name": "python",
   "nbconvert_exporter": "python",
   "pygments_lexer": "ipython3",
   "version": "3.6.10"
  }
 },
 "nbformat": 4,
 "nbformat_minor": 4
}
